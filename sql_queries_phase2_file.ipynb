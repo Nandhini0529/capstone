{
 "cells": [
  {
   "cell_type": "code",
   "execution_count": 1,
   "id": "7eb0cda6",
   "metadata": {},
   "outputs": [],
   "source": [
    "import sqlite3\n",
    "import pandas as pd"
   ]
  },
  {
   "cell_type": "code",
   "execution_count": 2,
   "id": "a1b2ae5c",
   "metadata": {},
   "outputs": [
    {
     "data": {
      "text/html": [
       "<div>\n",
       "<style scoped>\n",
       "    .dataframe tbody tr th:only-of-type {\n",
       "        vertical-align: middle;\n",
       "    }\n",
       "\n",
       "    .dataframe tbody tr th {\n",
       "        vertical-align: top;\n",
       "    }\n",
       "\n",
       "    .dataframe thead th {\n",
       "        text-align: right;\n",
       "    }\n",
       "</style>\n",
       "<table border=\"1\" class=\"dataframe\">\n",
       "  <thead>\n",
       "    <tr style=\"text-align: right;\">\n",
       "      <th></th>\n",
       "      <th>link</th>\n",
       "      <th>shoe_name</th>\n",
       "      <th>category</th>\n",
       "      <th>number_of_colors</th>\n",
       "      <th>price</th>\n",
       "    </tr>\n",
       "  </thead>\n",
       "  <tbody>\n",
       "    <tr>\n",
       "      <th>0</th>\n",
       "      <td>https://www.adidas.co.in/gazelle-shoes/IG1062....</td>\n",
       "      <td>Gazelle Shoes</td>\n",
       "      <td>Women</td>\n",
       "      <td>1</td>\n",
       "      <td>10999</td>\n",
       "    </tr>\n",
       "    <tr>\n",
       "      <th>1</th>\n",
       "      <td>https://www.adidas.co.in/gazelle-bold-shoes/ID...</td>\n",
       "      <td>Gazelle Bold Shoes</td>\n",
       "      <td>Women</td>\n",
       "      <td>1</td>\n",
       "      <td>11999</td>\n",
       "    </tr>\n",
       "    <tr>\n",
       "      <th>2</th>\n",
       "      <td>https://www.adidas.co.in/samba-og-shoes/B75807...</td>\n",
       "      <td>Samba OG Shoes</td>\n",
       "      <td>Women</td>\n",
       "      <td>1</td>\n",
       "      <td>10999</td>\n",
       "    </tr>\n",
       "    <tr>\n",
       "      <th>3</th>\n",
       "      <td>https://www.adidas.co.in/samba-og-shoes/B75806...</td>\n",
       "      <td>Samba OG Shoes</td>\n",
       "      <td>Women</td>\n",
       "      <td>1</td>\n",
       "      <td>11999</td>\n",
       "    </tr>\n",
       "    <tr>\n",
       "      <th>4</th>\n",
       "      <td>https://www.adidas.co.in/superstar-shoes/EG495...</td>\n",
       "      <td>Superstar Shoes</td>\n",
       "      <td>Women</td>\n",
       "      <td>1</td>\n",
       "      <td>8999</td>\n",
       "    </tr>\n",
       "    <tr>\n",
       "      <th>...</th>\n",
       "      <td>...</td>\n",
       "      <td>...</td>\n",
       "      <td>...</td>\n",
       "      <td>...</td>\n",
       "      <td>...</td>\n",
       "    </tr>\n",
       "    <tr>\n",
       "      <th>210</th>\n",
       "      <td>https://www.skechers.com/skechers-slip-ins-go-...</td>\n",
       "      <td>Skechers Slip-ins: GO WALK 7 - Daley</td>\n",
       "      <td>Women's</td>\n",
       "      <td>2</td>\n",
       "      <td>$85.00</td>\n",
       "    </tr>\n",
       "    <tr>\n",
       "      <th>211</th>\n",
       "      <td>https://www.skechers.com/skechers-slip-ins-go-...</td>\n",
       "      <td>Skechers Slip-ins: GO WALK 7 - City Lights</td>\n",
       "      <td>Women's</td>\n",
       "      <td>2</td>\n",
       "      <td>$95.00</td>\n",
       "    </tr>\n",
       "    <tr>\n",
       "      <th>212</th>\n",
       "      <td>https://www.skechers.com/skechers-slip-ins-go-...</td>\n",
       "      <td>Skechers Slip-ins: GO WALK 7 - Springtime</td>\n",
       "      <td>Women's</td>\n",
       "      <td>2</td>\n",
       "      <td>$95.00</td>\n",
       "    </tr>\n",
       "    <tr>\n",
       "      <th>213</th>\n",
       "      <td>https://www.skechers.com/go-walk-7---razi/1252...</td>\n",
       "      <td>GO WALK 7 - Razi</td>\n",
       "      <td>Women's</td>\n",
       "      <td>1</td>\n",
       "      <td>$80.00</td>\n",
       "    </tr>\n",
       "    <tr>\n",
       "      <th>214</th>\n",
       "      <td>https://www.skechers.com/go-walk-7---bling/125...</td>\n",
       "      <td>GO WALK 7 - Bling</td>\n",
       "      <td>Women's</td>\n",
       "      <td>2</td>\n",
       "      <td>$90.00</td>\n",
       "    </tr>\n",
       "  </tbody>\n",
       "</table>\n",
       "<p>215 rows × 5 columns</p>\n",
       "</div>"
      ],
      "text/plain": [
       "                                                  link  \\\n",
       "0    https://www.adidas.co.in/gazelle-shoes/IG1062....   \n",
       "1    https://www.adidas.co.in/gazelle-bold-shoes/ID...   \n",
       "2    https://www.adidas.co.in/samba-og-shoes/B75807...   \n",
       "3    https://www.adidas.co.in/samba-og-shoes/B75806...   \n",
       "4    https://www.adidas.co.in/superstar-shoes/EG495...   \n",
       "..                                                 ...   \n",
       "210  https://www.skechers.com/skechers-slip-ins-go-...   \n",
       "211  https://www.skechers.com/skechers-slip-ins-go-...   \n",
       "212  https://www.skechers.com/skechers-slip-ins-go-...   \n",
       "213  https://www.skechers.com/go-walk-7---razi/1252...   \n",
       "214  https://www.skechers.com/go-walk-7---bling/125...   \n",
       "\n",
       "                                      shoe_name category  number_of_colors  \\\n",
       "0                                 Gazelle Shoes    Women                 1   \n",
       "1                            Gazelle Bold Shoes    Women                 1   \n",
       "2                                Samba OG Shoes    Women                 1   \n",
       "3                                Samba OG Shoes    Women                 1   \n",
       "4                               Superstar Shoes    Women                 1   \n",
       "..                                          ...      ...               ...   \n",
       "210        Skechers Slip-ins: GO WALK 7 - Daley  Women's                 2   \n",
       "211  Skechers Slip-ins: GO WALK 7 - City Lights  Women's                 2   \n",
       "212   Skechers Slip-ins: GO WALK 7 - Springtime  Women's                 2   \n",
       "213                            GO WALK 7 - Razi  Women's                 1   \n",
       "214                           GO WALK 7 - Bling  Women's                 2   \n",
       "\n",
       "      price  \n",
       "0     10999  \n",
       "1     11999  \n",
       "2     10999  \n",
       "3     11999  \n",
       "4      8999  \n",
       "..      ...  \n",
       "210  $85.00  \n",
       "211  $95.00  \n",
       "212  $95.00  \n",
       "213  $80.00  \n",
       "214  $90.00  \n",
       "\n",
       "[215 rows x 5 columns]"
      ]
     },
     "execution_count": 2,
     "metadata": {},
     "output_type": "execute_result"
    }
   ],
   "source": [
    "df=pd.read_csv('table1_csv1')\n",
    "df"
   ]
  },
  {
   "cell_type": "code",
   "execution_count": 3,
   "id": "a897cf93",
   "metadata": {},
   "outputs": [],
   "source": [
    "df1=pd.read_csv('table2_csv2')"
   ]
  },
  {
   "cell_type": "code",
   "execution_count": 4,
   "id": "8874661d",
   "metadata": {},
   "outputs": [
    {
     "data": {
      "text/html": [
       "<div>\n",
       "<style scoped>\n",
       "    .dataframe tbody tr th:only-of-type {\n",
       "        vertical-align: middle;\n",
       "    }\n",
       "\n",
       "    .dataframe tbody tr th {\n",
       "        vertical-align: top;\n",
       "    }\n",
       "\n",
       "    .dataframe thead th {\n",
       "        text-align: right;\n",
       "    }\n",
       "</style>\n",
       "<table border=\"1\" class=\"dataframe\">\n",
       "  <thead>\n",
       "    <tr style=\"text-align: right;\">\n",
       "      <th></th>\n",
       "      <th>link</th>\n",
       "      <th>number_of_sizes</th>\n",
       "      <th>color_1</th>\n",
       "      <th>color_2</th>\n",
       "      <th>color_3</th>\n",
       "      <th>color_4</th>\n",
       "      <th>color_5</th>\n",
       "      <th>style_or_product_code</th>\n",
       "    </tr>\n",
       "  </thead>\n",
       "  <tbody>\n",
       "    <tr>\n",
       "      <th>0</th>\n",
       "      <td>https://www.adidas.co.in/gazelle-shoes/IG1062....</td>\n",
       "      <td>0</td>\n",
       "      <td>Glory Red / Off White / Cream White</td>\n",
       "      <td>NaN</td>\n",
       "      <td>NaN</td>\n",
       "      <td>NaN</td>\n",
       "      <td>NaN</td>\n",
       "      <td>MDW13</td>\n",
       "    </tr>\n",
       "    <tr>\n",
       "      <th>1</th>\n",
       "      <td>https://www.adidas.co.in/gazelle-bold-shoes/ID...</td>\n",
       "      <td>0</td>\n",
       "      <td>Red / Cloud White / Gold Metallic</td>\n",
       "      <td>NaN</td>\n",
       "      <td>NaN</td>\n",
       "      <td>NaN</td>\n",
       "      <td>NaN</td>\n",
       "      <td>MBU94</td>\n",
       "    </tr>\n",
       "    <tr>\n",
       "      <th>2</th>\n",
       "      <td>https://www.adidas.co.in/samba-og-shoes/B75807...</td>\n",
       "      <td>0</td>\n",
       "      <td>Core Black / Cloud White / Gum</td>\n",
       "      <td>NaN</td>\n",
       "      <td>NaN</td>\n",
       "      <td>NaN</td>\n",
       "      <td>NaN</td>\n",
       "      <td>BSZ08</td>\n",
       "    </tr>\n",
       "    <tr>\n",
       "      <th>3</th>\n",
       "      <td>https://www.adidas.co.in/samba-og-shoes/B75806...</td>\n",
       "      <td>0</td>\n",
       "      <td>Cloud White / Core Black / Clear Granite</td>\n",
       "      <td>NaN</td>\n",
       "      <td>NaN</td>\n",
       "      <td>NaN</td>\n",
       "      <td>NaN</td>\n",
       "      <td>BSZ08</td>\n",
       "    </tr>\n",
       "    <tr>\n",
       "      <th>4</th>\n",
       "      <td>https://www.adidas.co.in/superstar-shoes/EG495...</td>\n",
       "      <td>0</td>\n",
       "      <td>Core Black / Cloud White / Core Black</td>\n",
       "      <td>NaN</td>\n",
       "      <td>NaN</td>\n",
       "      <td>NaN</td>\n",
       "      <td>NaN</td>\n",
       "      <td>GVS47</td>\n",
       "    </tr>\n",
       "    <tr>\n",
       "      <th>...</th>\n",
       "      <td>...</td>\n",
       "      <td>...</td>\n",
       "      <td>...</td>\n",
       "      <td>...</td>\n",
       "      <td>...</td>\n",
       "      <td>...</td>\n",
       "      <td>...</td>\n",
       "      <td>...</td>\n",
       "    </tr>\n",
       "    <tr>\n",
       "      <th>224</th>\n",
       "      <td>https://www.skechers.com/skechers-slip-ins-gr-...</td>\n",
       "      <td>12</td>\n",
       "      <td>NAVY / ORANGE</td>\n",
       "      <td>CHARCOAL / RED</td>\n",
       "      <td>NaN</td>\n",
       "      <td>NaN</td>\n",
       "      <td>NaN</td>\n",
       "      <td>Style #:220909NVOR</td>\n",
       "    </tr>\n",
       "    <tr>\n",
       "      <th>225</th>\n",
       "      <td>https://www.skechers.com/skechers-slip-ins-arc...</td>\n",
       "      <td>12</td>\n",
       "      <td>WHITE / BLACK</td>\n",
       "      <td>TAUPE</td>\n",
       "      <td>NAVY</td>\n",
       "      <td>NaN</td>\n",
       "      <td>NaN</td>\n",
       "      <td>Style #:232462WBK</td>\n",
       "    </tr>\n",
       "    <tr>\n",
       "      <th>226</th>\n",
       "      <td>https://www.skechers.com/skechers-slip-ins-arc...</td>\n",
       "      <td>13</td>\n",
       "      <td>TAUPE</td>\n",
       "      <td>BLACK</td>\n",
       "      <td>NaN</td>\n",
       "      <td>NaN</td>\n",
       "      <td>NaN</td>\n",
       "      <td>Style #:216601TPE</td>\n",
       "    </tr>\n",
       "    <tr>\n",
       "      <th>227</th>\n",
       "      <td>https://www.skechers.com/skechers-slip-ins-go-...</td>\n",
       "      <td>10</td>\n",
       "      <td>CHARCOAL / ORANGE</td>\n",
       "      <td>NaN</td>\n",
       "      <td>NaN</td>\n",
       "      <td>NaN</td>\n",
       "      <td>NaN</td>\n",
       "      <td>Style #:216258CCOR</td>\n",
       "    </tr>\n",
       "    <tr>\n",
       "      <th>228</th>\n",
       "      <td>https://www.skechers.com/skechers-slip-ins-go-...</td>\n",
       "      <td>11</td>\n",
       "      <td>NAVY</td>\n",
       "      <td>NaN</td>\n",
       "      <td>NaN</td>\n",
       "      <td>NaN</td>\n",
       "      <td>NaN</td>\n",
       "      <td>Style #:216259NVY</td>\n",
       "    </tr>\n",
       "  </tbody>\n",
       "</table>\n",
       "<p>229 rows × 8 columns</p>\n",
       "</div>"
      ],
      "text/plain": [
       "                                                  link  number_of_sizes  \\\n",
       "0    https://www.adidas.co.in/gazelle-shoes/IG1062....                0   \n",
       "1    https://www.adidas.co.in/gazelle-bold-shoes/ID...                0   \n",
       "2    https://www.adidas.co.in/samba-og-shoes/B75807...                0   \n",
       "3    https://www.adidas.co.in/samba-og-shoes/B75806...                0   \n",
       "4    https://www.adidas.co.in/superstar-shoes/EG495...                0   \n",
       "..                                                 ...              ...   \n",
       "224  https://www.skechers.com/skechers-slip-ins-gr-...               12   \n",
       "225  https://www.skechers.com/skechers-slip-ins-arc...               12   \n",
       "226  https://www.skechers.com/skechers-slip-ins-arc...               13   \n",
       "227  https://www.skechers.com/skechers-slip-ins-go-...               10   \n",
       "228  https://www.skechers.com/skechers-slip-ins-go-...               11   \n",
       "\n",
       "                                      color_1         color_2 color_3 color_4  \\\n",
       "0         Glory Red / Off White / Cream White             NaN     NaN     NaN   \n",
       "1           Red / Cloud White / Gold Metallic             NaN     NaN     NaN   \n",
       "2              Core Black / Cloud White / Gum             NaN     NaN     NaN   \n",
       "3    Cloud White / Core Black / Clear Granite             NaN     NaN     NaN   \n",
       "4       Core Black / Cloud White / Core Black             NaN     NaN     NaN   \n",
       "..                                        ...             ...     ...     ...   \n",
       "224                             NAVY / ORANGE  CHARCOAL / RED     NaN     NaN   \n",
       "225                             WHITE / BLACK           TAUPE    NAVY     NaN   \n",
       "226                                     TAUPE           BLACK     NaN     NaN   \n",
       "227                         CHARCOAL / ORANGE             NaN     NaN     NaN   \n",
       "228                                      NAVY             NaN     NaN     NaN   \n",
       "\n",
       "    color_5 style_or_product_code  \n",
       "0       NaN                 MDW13  \n",
       "1       NaN                 MBU94  \n",
       "2       NaN                 BSZ08  \n",
       "3       NaN                 BSZ08  \n",
       "4       NaN                 GVS47  \n",
       "..      ...                   ...  \n",
       "224     NaN    Style #:220909NVOR  \n",
       "225     NaN     Style #:232462WBK  \n",
       "226     NaN     Style #:216601TPE  \n",
       "227     NaN    Style #:216258CCOR  \n",
       "228     NaN     Style #:216259NVY  \n",
       "\n",
       "[229 rows x 8 columns]"
      ]
     },
     "execution_count": 4,
     "metadata": {},
     "output_type": "execute_result"
    }
   ],
   "source": [
    "df1"
   ]
  },
  {
   "cell_type": "code",
   "execution_count": 5,
   "id": "e790b0d8",
   "metadata": {},
   "outputs": [],
   "source": [
    "connection=sqlite3.connect('table1.shoes.dp')"
   ]
  },
  {
   "cell_type": "code",
   "execution_count": 6,
   "id": "da8bb308",
   "metadata": {},
   "outputs": [
    {
     "data": {
      "text/plain": [
       "215"
      ]
     },
     "execution_count": 6,
     "metadata": {},
     "output_type": "execute_result"
    }
   ],
   "source": [
    "df.to_sql('table1',connection,if_exists='replace')"
   ]
  },
  {
   "cell_type": "code",
   "execution_count": 7,
   "id": "140a9c07",
   "metadata": {},
   "outputs": [],
   "source": [
    "connection.close()"
   ]
  },
  {
   "cell_type": "code",
   "execution_count": 23,
   "id": "e7f07df9",
   "metadata": {},
   "outputs": [],
   "source": [
    "connection=sqlite3.connect('table1.shoe.dp')"
   ]
  },
  {
   "cell_type": "code",
   "execution_count": 24,
   "id": "8ca8be9f",
   "metadata": {},
   "outputs": [],
   "source": [
    "cursor=connection.cursor()"
   ]
  },
  {
   "cell_type": "code",
   "execution_count": 10,
   "id": "4c9a18e3",
   "metadata": {},
   "outputs": [],
   "source": [
    "query='SELECT* FROM table1'"
   ]
  },
  {
   "cell_type": "code",
   "execution_count": 11,
   "id": "5878e2c6",
   "metadata": {},
   "outputs": [
    {
     "data": {
      "text/plain": [
       "<sqlite3.Cursor at 0x2225526ac70>"
      ]
     },
     "execution_count": 11,
     "metadata": {},
     "output_type": "execute_result"
    }
   ],
   "source": [
    "cursor.execute(query)"
   ]
  },
  {
   "cell_type": "code",
   "execution_count": 12,
   "id": "a49d054d",
   "metadata": {},
   "outputs": [],
   "source": [
    "result=cursor.fetchall()"
   ]
  },
  {
   "cell_type": "code",
   "execution_count": 13,
   "id": "3ec40ab1",
   "metadata": {},
   "outputs": [
    {
     "name": "stdout",
     "output_type": "stream",
     "text": [
      "(0, 'https://www.adidas.co.in/gazelle-shoes/IG1062.html', 'Gazelle Shoes', 'Women', 1, '10999')\n",
      "(1, 'https://www.adidas.co.in/gazelle-bold-shoes/ID6990.html', 'Gazelle Bold Shoes', 'Women', 1, '11999')\n",
      "(2, 'https://www.adidas.co.in/samba-og-shoes/B75807.html', 'Samba OG Shoes', 'Women', 1, '10999')\n",
      "(3, 'https://www.adidas.co.in/samba-og-shoes/B75806.html', 'Samba OG Shoes', 'Women', 1, '11999')\n",
      "(4, 'https://www.adidas.co.in/superstar-shoes/EG4959.html', 'Superstar Shoes', 'Women', 1, '8999')\n",
      "(5, 'https://www.adidas.co.in/gazelle-shoes/IG4988.html', 'Gazelle Shoes', 'Women', 1, '10999')\n",
      "(6, 'https://www.adidas.co.in/stan-smith-shoes/Q47225.html', 'Stan Smith Shoes', 'Women', 1, '9999')\n",
      "(7, 'https://www.adidas.co.in/superstar-xlg-shoes/IG9777.html', 'Superstar XLG Shoes', 'Women', 1, '11999')\n",
      "(8, 'https://www.adidas.co.in/kick-shoes/IG8951.html', 'Kick Shoes', 'Men', 1, '10999')\n",
      "(9, 'https://www.adidas.co.in/kick-shoes/IG8950.html', 'Kick Shoes', 'Men', 1, '10999')\n",
      "(10, 'https://www.adidas.co.in/falcon-shoes/IG8301.html', 'Falcon Shoes', 'Women', 1, '9999')\n",
      "(11, 'https://www.adidas.co.in/falcon-shoes/IG5732.html', 'Falcon Shoes', 'Women', 1, '9999')\n",
      "(12, 'https://www.adidas.co.in/superstar-slip-on-shoes/IG5717.html', 'Superstar Slip-On shoes', 'Women', 1, '9999')\n",
      "(13, 'https://www.adidas.co.in/superstar-xlg-shoes/IF9121.html', 'Superstar XLG Shoes', 'Women', 1, '11999')\n",
      "(14, 'https://www.adidas.co.in/ozelia-shoes/IF8670.html', 'Ozelia Shoes', 'Men', 1, '10999')\n",
      "(15, 'https://www.adidas.co.in/gazelle-spzl-shoes/IF5787.html', 'Gazelle SPZL Shoes', 'Women', 1, '12999')\n",
      "(16, 'https://www.adidas.co.in/superstar-xlg-shoes/IF3001.html', 'Superstar XLG Shoes', 'Women', 1, '11999')\n",
      "(17, 'https://www.adidas.co.in/falcon-shoes/IE8204.html', 'Falcon Shoes', 'Women', 1, '9999')\n",
      "(18, 'https://www.adidas.co.in/falcon-shoes/IE8203.html', 'Falcon Shoes', 'Women', 1, '9999')\n",
      "(19, 'https://www.adidas.co.in/forum-boot-shoes/IE7205.html', 'Forum Boot Shoes', 'Women', 1, '12999')\n",
      "(20, 'https://www.adidas.co.in/ozmillen-shoes/IE3517.html', 'OZMILLEN Shoes', 'Women', 1, '10999')\n",
      "(21, 'https://www.adidas.co.in/gazelle-indoor-shoes/IE2946.html', 'Gazelle Indoor Shoes', 'Women', 1, '11999')\n",
      "(22, 'https://www.adidas.co.in/stan-smith-shoes/IE0459.html', 'Stan Smith Shoes', 'Women', 1, '10999')\n",
      "(23, 'https://www.adidas.co.in/stan-smith-pf-shoes/IE0450.html', 'Stan Smith PF Shoes', 'Women', 1, '11999')\n",
      "(24, 'https://www.adidas.co.in/superstar-slip-on-shoes/IE0399.html', 'Superstar Slip-On shoes', 'Women', 1, '9999')\n",
      "(25, 'https://www.adidas.co.in/adidas--x-extra-butter-samba/IE0174.html', 'ADIDAS  X EXTRA BUTTER SAMBA', 'Men', 1, '13999')\n",
      "(26, 'https://www.adidas.co.in/superstar-shoes/FV3285.html', 'Superstar Shoes', 'Women', 1, '10999')\n",
      "(27, 'https://www.adidas.co.in/superstar-shoes/FV3284.html', 'Superstar Shoes', 'Women', 1, '10999')\n",
      "(28, 'https://www.adidas.co.in/superstar-millencon-boot-shoes/IG5320.html', 'Superstar Millencon Boot Shoes', 'Women', 1, '13999')\n",
      "(29, 'https://www.adidas.co.in/superstar-shoes/IG3147.html', 'Superstar Shoes', 'Women', 1, '11999')\n",
      "(30, 'https://www.adidas.co.in/superstar-shoes/IG3146.html', 'Superstar Shoes', 'Women', 1, '11999')\n",
      "(31, 'https://www.adidas.co.in/superstar-xlg-shoes/IG2972.html', 'Superstar XLG Shoes', 'Women', 1, '11999')\n",
      "(32, 'https://www.adidas.co.in/superstar-xlg-shoes/IG0735.html', 'Superstar XLG Shoes', 'Women', 1, '11999')\n",
      "(33, 'https://www.adidas.co.in/superstar-xlg-shoes/IF9995.html', 'Superstar XLG Shoes', 'Women', 1, '11999')\n",
      "(34, 'https://www.adidas.co.in/superstar-xlg-shoes/IF8114.html', 'Superstar XLG Shoes', 'Women', 1, '11999')\n",
      "(35, 'https://www.adidas.co.in/superstar-xlg-shoes/IF8068.html', 'Superstar XLG Shoes', 'Women', 1, '11999')\n",
      "(36, 'https://www.adidas.co.in/superstar-shoes/IF7690.html', 'Superstar Shoes', 'Women', 1, '12999')\n",
      "(37, 'https://www.adidas.co.in/superstar-bonega-2b-shoes/IF7683.html', 'Superstar Bonega 2B Shoes', 'Women', 1, '12999')\n",
      "(38, 'https://www.adidas.co.in/superstar-bonega-shoes/IF7583.html', 'Superstar Bonega Shoes', 'Women', 1, '12999')\n",
      "(39, 'https://www.adidas.co.in/superstar-bonega-shoes/IF7582.html', 'Superstar Bonega Shoes', 'Women', 1, '12999')\n",
      "(40, 'https://www.adidas.co.in/superstar-xlg-shoes/IF3004.html', 'Superstar XLG Shoes', 'Women', 1, '11999')\n",
      "(41, 'https://www.adidas.co.in/superstar-xlg-shoes/IF3003.html', 'Superstar XLG Shoes', 'Women', 1, '11999')\n",
      "(42, 'https://www.adidas.co.in/adifom-superstar-shoes/IE9873.html', 'AdiFOM Superstar Shoes', 'Women', 1, '7999')\n",
      "(43, 'https://www.adidas.co.in/superstar-xlg-shoes/IE9872.html', 'Superstar XLG Shoes', 'Women', 1, '11999')\n",
      "(44, 'https://www.adidas.co.in/superstar-shoes/IE9856.html', 'Superstar Shoes', 'Men', 1, '10999')\n",
      "(45, 'https://www.adidas.co.in/adidas-pro-model-80-poochie/IE7563.html', 'adidas Pro Model 80 Poochie', 'Men', 1, '12999')\n",
      "(46, 'https://www.adidas.co.in/superstar-xlg-shoes/IE5195.html', 'Superstar XLG Shoes', 'Women', 1, '12999')\n",
      "(47, 'https://www.adidas.co.in/superstar-lux-shoes/IE2302.html', 'Superstar Lux Shoes', 'Women', 1, '14999')\n",
      "(48, 'https://www.columbia.com/p/mens-granite-trail-waterproof-shoe-2053211.html?dwvar_2053211_color=231', \"Men's Granite Trail™ Waterproof Shoe\", 'Men', 0, 'GO THE EXTRA MILE')\n",
      "(49, 'https://www.columbia.com/p/womens-facet-75-mid-outdry-shoe-2027201.html?dwvar_2027201_color=553', \"Women's Facet™ 75 Mid OutDry™ Shoe\", 'Women', 0, 'ENDLESS TRAILS')\n",
      "(50, 'https://www.columbia.com/p/mens-pfg-pro-sport-shoe-2041001.html?dwvar_2041001_color=383', \"Men's PFG Pro Sport™ Shoe\", 'Men', 0, 'SURE-FOOTED COMFORT')\n",
      "(51, 'https://www.columbia.com/p/womens-minx-slip-iv-boot-1950851.html?dwvar_1950851_color=125', \"Women's Minx™ Slip IV Boot\", 'Women', 0, 'Shipping Information')\n",
      "(52, 'https://www.columbia.com/p/womens-pfg-bonehead-shoe-1987151.html?dwvar_1987151_color=103', \"Women's PFG Bonehead™ Shoe\", 'Women', 0, 'A STEP ABOVE')\n",
      "(53, 'https://www.columbia.com/p/womens-granite-trail-mid-waterproof-shoe-2053221.html?dwvar_2053221_color=033', \"Women's Granite Trail™ Mid Waterproof Shoe\", 'Women', 0, 'GO THE EXTRA MILE')\n",
      "(54, 'https://www.columbia.com/p/mens-gunnison-ii-omni-heat-boot-1862291.html?dwvar_1862291_color=231', \"Men's Gunnison™ II Omni-Heat™ Boot\", 'Men', 0, 'WINTER-READY')\n",
      "(55, 'https://www.columbia.com/p/mens-fairbanks-omni-heat-boot---wide-1746012.html?dwvar_1746012_color=288', \"Men's Fairbanks™ Omni-Heat™ Boot - Wide\", 'Men', 0, 'Shipping Information')\n",
      "(56, 'https://www.columbia.com/p/womens-trailstorm-ascend-mid-waterproof-shoe-2044351.html?dwvar_2044351_color=342', \"Women's Trailstorm™ Ascend Mid Waterproof Shoe\", 'Women', 0, 'STORM ON')\n",
      "(57, 'https://www.columbia.com/p/little-kids-powderbug-plus-ii-snow-boot-1637872.html?dwvar_1637872_color=010', 'Little Kids’ Powderbug™ Plus II Snow Boot', 'Men', 0, 'SNOW TIME RAIN TIME')\n",
      "(58, 'https://www.columbia.com/p/mens-pfg-bahama-vent-loco-relaxed-iii-shoe-1889601.html?dwvar_1889601_color=053', \"Men's PFG Bahama™ Vent Loco Relaxed III Shoe\", 'Men', 0, 'QUICK-CLEANING CANVAS')\n",
      "(59, 'https://www.columbia.com/p/womens-granite-trail-waterproof-shoe-2053241.html?dwvar_2053241_color=342', \"Women's Granite Trail™ Waterproof Shoe\", 'Women', 0, 'GO THE EXTRA MILE')\n",
      "(60, 'https://www.columbia.com/p/mens-bugaboot-iii-boot---wide-1791222.html?dwvar_1791222_color=010', \"Men's Bugaboot™ III Boot - Wide\", 'Men', 0, 'RELIABLE WINTER BOOT')\n",
      "(61, 'https://www.columbia.com/p/womens-ice-maiden-ii-boot---wide-1554172.html?dwvar_1554172_color=232', 'Women’s Ice Maiden™ II Boot - Wide', 'Women', 0, 'Shipping Information')\n",
      "(62, 'https://www.columbia.com/p/mens-fairbanks-omni-heat-boot-1746011.html?dwvar_1746011_color=288', 'Men’s Fairbanks™ Omni-Heat™ Boot', 'Men', 0, 'Shipping Information')\n",
      "(63, 'https://www.columbia.com/p/mens-bahama-vent-relaxed-pfg-shoe---wide-1661512.html?dwvar_1661512_color=023', 'Men’s Bahama™ Vent Relaxed PFG Shoe - Wide', 'Men', 0, 'IDEAL FISHING SHOE')\n",
      "(64, 'https://www.columbia.com/p/mens-facet-75-alpha-outdry-shoe-2044241.html?dwvar_2044241_color=316', \"Men's Facet™ 75 Alpha OutDry™ Shoe\", 'Men', 0, 'WATERPROOF POWER')\n",
      "(65, 'https://www.columbia.com/p/mens-pfg-bahama-vent-shoe-1673141.html?dwvar_1673141_color=037', 'Men’s PFG Bahama™ Vent Shoe', 'Men', 0, 'FISH ON')\n",
      "(66, 'https://www.columbia.com/p/mens-newton-ridge-waterproof-omni-heat-ii-boot-2056191.html?dwvar_2056191_color=240', \"Men's Newton Ridge™ Waterproof Omni-Heat™ II Boot\", 'Men', 0, 'WINTER HIKER')\n",
      "(67, 'https://www.columbia.com/p/womens-newton-ridge-bc-boot-2044571.html?dwvar_2044571_color=252', \"Women's Newton Ridge™ BC Boot\", 'Women', 0, 'CLASSIC THEN BETTER NOW')\n",
      "(68, 'https://www.columbia.com/p/mens-granite-trail-mid-waterproof-shoe-2053201.html?dwvar_2053201_color=089', \"Men's Granite Trail™ Mid Waterproof Shoe\", 'Men', 0, 'GO THE EXTRA MILE')\n",
      "(69, 'https://www.columbia.com/p/mens-newton-ridge-hiking-boot-1594731.html?dwvar_1594731_color=289', 'Men’s Newton Ridge™ Plus II Waterproof Hiking Boot', 'Men', 0, 'Shipping Information')\n",
      "(70, 'https://www.columbia.com/p/womens-bugaboot-iii-boot-1791281.html?dwvar_1791281_color=010', \"Women's Bugaboot™ III Boot\", 'Women', 0, 'Shipping Information')\n",
      "(71, 'https://www.columbia.com/p/womens-newton-ridge-plus-waterproof-hiking-boot-1424692.html?dwvar_1424692_color=052', \"Women's Newton Ridge™ Plus Waterproof Hiking Boot\", 'Women', 0, 'CLASSIC WATERPROOF HIKER')\n",
      "(72, 'https://www.columbia.com/p/mens-bahama-vent-relaxed-pfg-shoe-1661511.html?dwvar_1661511_color=210', 'Men’s Bahama™ Vent Relaxed PFG Shoe', 'Men', 0, 'IDEAL FISHING SHOE')\n",
      "(73, 'https://www.columbia.com/p/mens-pfg-tamiami-shoe-1927991.html?dwvar_1927991_color=099', \"Men's PFG Tamiami™ Shoe\", 'Men', 0, 'MAKE A SPLASH')\n",
      "(74, 'https://www.columbia.com/p/mens-bugaboot-iii-boot-1791221.html?dwvar_1791221_color=010', \"Men's Bugaboot™ III Boot\", 'Men', 0, 'Shipping Information')\n",
      "(75, 'https://www.columbia.com/p/big-kids-bahama-pfg-shoe-1826931.html?dwvar_1826931_color=036', \"Big Kids' Bahama™ PFG Shoe\", 'Men', 0, 'CAREFREE SLIP-ONS')\n",
      "(76, 'https://www.columbia.com/p/mens-pfg-tidal-ray-flip-flop-1982241.html?dwvar_1982241_color=005', \"Men's PFG Tidal Ray™ Flip Flop\", 'Men', 0, 'EASY LIVING')\n",
      "(77, 'https://www.columbia.com/p/mens-pfg-bahama-vent-shoe---wide-1673142.html?dwvar_1673142_color=278', \"Men's PFG Bahama™ Vent Shoe - Wide\", 'Men', 0, 'FISH ON')\n",
      "(78, 'https://www.columbia.com/p/mens-trailstorm-ascend-waterproof-shoe-2044281.html?dwvar_2044281_color=005', \"Men's Trailstorm™ Ascend Waterproof Shoe\", 'Men', 0, 'STORM ON')\n",
      "(79, 'https://www.columbia.com/p/womens-ice-maiden-shorty-boot-1862391.html?dwvar_1862391_color=286', \"Women's Ice Maiden™ Shorty Boot\", 'Women', 0, 'EVERYDAY BOOT')\n",
      "(80, 'https://www.columbia.com/p/womens-minx-shorty-iii-boot-1803151.html?dwvar_1803151_color=212', 'Women’s Minx™ Shorty III Boot', 'Women', 0, 'Shipping Information')\n",
      "(81, 'https://www.columbia.com/p/mens-facet-75-mid-outdry-shoe-2027051.html?dwvar_2027051_color=383', \"Men's Facet™ 75 Mid OutDry™ Shoe\", 'Men', 0, 'ENDLESS TRAILS')\n",
      "(82, 'https://www.columbia.com/p/mens-granite-trail-waterproof-shoe---wide-2053212.html?dwvar_2053212_color=213', \"Men's Granite Trail™ Waterproof Shoe - Wide\", 'Men', 0, 'GO THE EXTRA MILE')\n",
      "(83, 'https://www.columbia.com/p/womens-pfg-tamiami-shoe-1939981.html?dwvar_1939981_color=279', \"Women's PFG Tamiami™ Shoe\", 'Women', 0, 'MAKE A SPLASH')\n",
      "(84, 'https://www.columbia.com/p/mens-pfg-rostra-beachcomber-flip-flop-1987121.html?dwvar_1987121_color=036', \"Men's PFG Rostra™ Beachcomber™ Flip Flop\", 'Men', 0, \"LIFE'S A BEACH\")\n",
      "(85, 'https://www.columbia.com/p/mens-woodburn-ii-waterproof-shoe-1553001.html?dwvar_1553001_color=231', \"Men's Woodburn™ II Waterproof Shoe\", 'Men', 0, 'WATERPROOF COMFORT')\n",
      "(86, 'https://www.columbia.com/p/mens-pfg-bonehead-shoe---wide-1987132.html?dwvar_1987132_color=271', \"Men's PFG Bonehead™ Shoe - Wide\", 'Men', 0, 'A STEP ABOVE')\n",
      "(87, 'https://www.columbia.com/p/womens-newton-ridge-plus-waterproof-amped-hiking-boot-1718821.html?dwvar_1718821_color=204', 'Women’s Newton Ridge™ Plus Waterproof Amped Hiking Boot', 'Women', 0, 'Shipping Information')\n",
      "(88, 'https://www.columbia.com/p/mens-pfg-bonehead-shoe-1987131.html?dwvar_1987131_color=088', \"Men's PFG Bonehead™ Shoe\", 'Men', 0, 'A STEP ABOVE')\n",
      "(89, 'https://www.columbia.com/p/womens-ice-maiden-slip-iii-boot-1950861.html?dwvar_1950861_color=010', \"Women's Ice Maiden™ Slip III Boot\", 'Women', 0, 'WINTER WONDER')\n",
      "(90, 'https://www.columbia.com/p/little-kids-bahama-pfg-shoe-1826932.html?dwvar_1826932_color=227', \"Little Kids' Bahama™ PFG Shoe\", 'Men', 0, 'CAREFREE SLIP-ONS')\n",
      "(91, 'https://www.columbia.com/p/mens-telluron-omni-heat-ii-boot-1928751.html?dwvar_1928751_color=010', \"Men's Telluron™ Omni-Heat™ II Boot\", 'Men', 0, 'GO-ANYWHERE BOOT')\n",
      "(92, 'https://www.columbia.com/p/womens-pfg-slackwater-boat-shoe-2027081.html?dwvar_2027081_color=019', \"Women's PFG Slackwater™ Boat Shoe\", 'Women', 0, 'FLOAT ON')\n",
      "(93, 'https://www.columbia.com/p/mens-newton-ridge-plus-ii-suede-waterproof-hiking-boot-1746411.html?dwvar_1746411_color=217', \"Men's Newton Ridge™ Plus II Suede Waterproof Hiking Boot\", 'Men', 0, 'CLASSIC WATERPROOF HIKER')\n",
      "(94, 'https://www.columbia.com/p/mens-expeditionist-shield-boot-2053421.html?dwvar_2053421_color=373', \"Men's Expeditionist™ Shield Boot\", 'Men', 0, 'Shipping Information')\n",
      "(95, 'https://www.columbia.com/p/womens-pfg-pro-sport-shoe-2040521.html?dwvar_2040521_color=063', \"Women's PFG Pro Sport™ Shoe\", 'Women', 0, 'SURE-FOOTED COMFORT')\n",
      "(96, 'https://www.columbia.com/p/womens-pfg-tamiami%C2%A0backcast-shoe-2027111.html?dwvar_2027111_color=063', 'Women’s PFG Tamiami™\\xa0Backcast Shoe', 'Women', 0, 'SUSTAINABLE SNEAKER')\n",
      "(97, 'https://www.columbia.com/p/mens-pfg-slack-tide-boat-shoe-2027031.html?dwvar_2027031_color=088', \"Men's PFG Slack Tide™ Boat Shoe\", 'Men', 0, 'DOCKSIDE CLASSIC')\n",
      "(98, 'https://www.columbia.com/p/womens-firecamp-boot---wide-1800312.html?dwvar_1800312_color=010', \"Women's Firecamp™ Boot - Wide\", 'Women', 0, 'KICK SOME TRAIL')\n",
      "(99, 'https://www.columbia.com/p/womens-ice-maiden-ii-boot-1554171.html?dwvar_1554171_color=288', 'Women’s Ice Maiden™ II Boot', 'Women', 0, 'Shipping Information')\n",
      "(100, 'https://www.columbia.com/p/womens-newton-ridge-waterproof-omni-heat-ii-boot-2056181.html?dwvar_2056181_color=089', \"Women's Newton Ridge™ Waterproof Omni-Heat™ II Boot\", 'Women', 0, 'WINTER HIKER')\n",
      "(101, 'https://www.columbia.com/p/womens-moritza-boot-2005041.html?dwvar_2005041_color=286', \"Women's Moritza™ Boot\", 'Women', 0, 'Shipping Information')\n",
      "(102, 'https://www.columbia.com/p/womens-bugaboot-celsius-plus-boot-1945421.html?dwvar_1945421_color=081', \"Women's Bugaboot™ Celsius Plus Boot\", 'Women', 0, 'Shipping Information')\n",
      "(103, 'https://www.columbia.com/p/womens-minx-mid-iii-boot-1803121.html?dwvar_1803121_color=383', 'Women’s Minx™ Mid III Boot', 'Women', 0, 'Shipping Information')\n",
      "(104, 'https://www.columbia.com/p/big-kids-newton-ridge-amped-boot-2044121.html?dwvar_2044121_color=288', \"Big Kids' Newton Ridge™ Amped Boot\", 'Men', 0, 'HAPPY HIKERS')\n",
      "(105, 'https://www.columbia.com/p/womens-minx-shorty-iii-boot---wide-1803152.html?dwvar_1803152_color=053', \"Women's Minx™ Shorty III Boot - Wide\", 'Women', 0, 'Shipping Information')\n",
      "(106, 'https://www.columbia.com/p/mens-pfg-bahama-vent-loco-relaxed-iii-shoe---wide-1889602.html?dwvar_1889602_color=053', \"Men's PFG Bahama™ Vent Loco Relaxed III Shoe - Wide\", 'Men', 0, 'QUICK-CLEANING CANVAS')\n",
      "(107, 'https://www.nike.com/t/phoenix-waffle-womens-shoes-CDl2fm/FD2196-100', 'Nike Phoenix Waffle', 'Women', 3, '100')\n",
      "(108, 'https://www.nike.com/t/dunk-high-womens-shoes-LwCxXJ/DD1869-107', 'Nike Dunk High', 'Women', 5, '130')\n",
      "(109, 'https://www.nike.com/u/custom-cortez-platform-unlocked-by-you-10001679/3685247182', 'Nike Cortez Platform Unlocked By You Greatest Gift', 'Men', 0, '130')\n",
      "(110, 'https://www.nike.com/t/metcon-9-womens-workout-shoes-xMlsHx/DZ2537-002', 'Nike Metcon 9', 'Women', 11, '160')\n",
      "(111, 'https://www.nike.com/t/dunk-low-womens-shoes-4W2Z5P/DD1503-101', 'Nike Dunk Low', 'Women', 2, '115')\n",
      "(112, 'https://www.nike.com/t/zegama-womens-trail-running-shoes-FWN4lV/DH0625-005', 'Nike Zegama', 'Women', 8, '160')\n",
      "(113, 'https://www.nike.com/t/air-max-270-womens-shoes-Pgb94t/AH6789-703', 'Nike Air Max 270', 'Women', 13, '160')\n",
      "(114, 'https://www.nike.com/t/court-legacy-lift-womens-shoes-x0B6BB/DM7590-200', 'Nike Court Legacy Lift', 'Women', 10, '90')\n",
      "(115, 'https://www.nike.com/u/custom-cortez-platform-unlocked-by-you-10001611/4868453426', 'Nike Cortez Platform Unlocked By You', 'Women', 0, '130')\n",
      "(116, 'https://www.nike.com/t/v2k-run-womens-shoes-nRRH5X/FD0736-103', 'Nike V2K Run', 'Women', 5, '110')\n",
      "(117, 'https://www.nike.com/t/court-vision-low-next-nature-womens-shoes-ZkMMBG/DH3158-102', 'Nike Court Vision Low Next Nature', 'Women', 6, '80')\n",
      "(118, 'https://www.nike.com/t/v2k-run-womens-shoes-nRRH5X/FD0736-003', 'Nike V2K Run', 'Women', 5, '110')\n",
      "(119, 'https://www.nike.com/t/waffle-debut-vintage-womens-shoes-rfRkv2/DX2931-200', 'Nike Waffle Debut Vintage', 'Women', 5, '80')\n",
      "(120, 'https://www.nike.com/t/infinityrn-4-womens-road-running-shoes-wide-ZrWGRG/FN0880-010', 'Nike InfinityRN 4', 'Women', 4, '160')\n",
      "(121, 'https://www.nike.com/t/air-force-1-07-womens-shoes-PqdxJw/FZ3597-133', 'Nike Air Force 1 ’07', 'Women', 6, '115')\n",
      "(122, 'https://www.nike.com/t/waffle-debut-womens-shoes-5Rl1KL/DH9523-105', 'Nike Waffle Debut', 'Women', 4, '75')\n",
      "(123, 'https://www.nike.com/t/waffle-debut-womens-shoes-5Rl1KL/DH9523-100', 'Nike Waffle Debut', 'Women', 4, '75')\n",
      "(124, 'https://www.nike.com/t/waffle-debut-vintage-womens-shoes-rfRkv2/DX2931-400', 'Nike Waffle Debut Vintage', 'Women', 5, '80')\n",
      "(125, 'https://www.nike.com/t/air-max-90-futura-womens-shoes-kvRZ4h/DV7190-200', 'Nike Air Max 90 Futura', 'Women', 9, '160')\n",
      "(126, 'https://www.nike.com/u/custom-cortez-unlocked-by-you-10001612/5774408047', 'Nike Cortez Unlocked By You', 'Women', 0, '130')\n",
      "(127, 'https://www.nike.com/t/vomero-5-womens-shoes-ZnKVhN/FN7196-663', 'Nike Vomero 5', 'Women', 0, '160')\n",
      "(128, 'https://www.nike.com/t/gamma-force-womens-shoes-4TR9Xf/DX9176-103', 'Nike Gamma Force', 'Women', 9, '95')\n",
      "(129, 'https://www.nike.com/t/air-force-1-wild-womens-shoes-r7kSSl/FB2348-003', 'Nike Air Force 1 Wild', 'Women', 6, '145')\n",
      "(130, 'https://www.nike.com/t/cortez-txt-womens-shoes-6Q4TgR/DZ2795-001', 'Nike Cortez TXT', 'Women', 3, '90')\n",
      "(131, 'https://www.nike.com/t/pegasus-40-womens-road-running-shoes-wide-L80k6C/FN7991-007', 'Nike Pegasus 40', 'Women', 5, '130')\n",
      "(132, 'https://www.nike.com/t/free-metcon-5-womens-workout-shoes-h4Zl5h/DV3950-201', 'Nike Free Metcon 5', 'Women', 9, '120')\n",
      "(133, 'https://www.nike.com/t/pegasus-trail-4-womens-trail-running-shoes-CQT261/DJ6159-005', 'Nike Pegasus Trail 4', 'Women', 12, '140')\n",
      "(134, 'https://www.nike.com/t/air-max-plus-womens-shoes-47Sxw5/DZ3671-104', 'Nike Air Max Plus', 'Women', 6, '180')\n",
      "(135, 'https://www.nike.com/t/dbreak-premium-womens-shoes-61jl9b/DR5377-001', 'Nike DBreak Premium', 'Women', 0, '125')\n",
      "(136, 'https://www.nike.com/u/custom-cortez-unlocked-by-you-10001678/8653210374', 'Nike Cortez Unlocked By You Greatest Gift', 'Men', 0, '130')\n",
      "(137, 'https://www.nike.com/t/air-vapormax-plus-womens-shoes-xbt7zf/FQ8895-100', 'Nike Air VaporMax Plus', 'Women', 6, '210')\n",
      "(138, 'https://www.nike.com/t/interact-run-womens-road-running-shoes-v5LlQl/FD2292-007', 'Nike Interact Run', 'Women', 4, '85')\n",
      "(139, 'https://www.nike.com/t/killshot-2-womens-shoes-ZmzdkQ/FZ5630-101', 'Nike Killshot 2', 'Women', 2, '90')\n",
      "(140, 'https://www.nike.com/t/cortez-womens-shoes-tZtTd5/DN1791-105', 'Nike Cortez', 'Women', 6, '90')\n",
      "(141, 'https://www.nike.com/t/vomero-5-womens-shoes-26nkFx/FN7778-600', 'Nike Vomero 5', 'Women', 0, '160')\n",
      "(142, 'https://www.nike.com/t/revolution-7-womens-road-running-shoes-wP5p63/FB2208-007', 'Nike Revolution 7', 'Women', 6, '70')\n",
      "(143, 'https://www.nike.com/t/blazer-mid-77-womens-shoes-NPWfjm/CZ1055-100', \"Nike Blazer Mid '77\", 'Women', 6, '105')\n",
      "(144, 'https://www.nike.com/t/waffle-one-womens-shoes-qk5cz3/DC2533-103', 'Nike Waffle One', 'Women', 6, '110')\n",
      "(145, 'https://us.puma.com/us/en/pd/blktop-rider-lithium-mens-sneakers/393152', \"Blktop Rider Lithium Men's Sneakers\", 'Men', 2, '$90.00')\n",
      "(146, 'https://us.puma.com/us/en/pd/puma-x-lamelo-ball-lafranc%C3%A9-ca-pro-mens-sneakers/395281', \"PUMA x LAMELO BALL LaFrancé CA Pro Men's Sneakers\", 'Men', 1, '$90.00')\n",
      "(147, 'https://us.puma.com/us/en/pd/ca-pro-heritage-sneakers/397572', 'CA Pro Heritage Sneakers', 'Men', 1, '$59.99')\n",
      "(148, 'https://us.puma.com/us/en/pd/shibui-cat-slides/385296', 'Shibui Cat Slides', 'Men', 2, '$19.99')\n",
      "(149, 'https://us.puma.com/us/en/pd/basket-classic-velvet-womens-sneakers/398949', \"Basket Classic Velvet Women's Sneakers\", 'Women', 2, '$64.99')\n",
      "(150, 'https://us.puma.com/us/en/pd/puma-x-lamelo-ball-mb-03-lafranc%C3%A9-mens-basketball-shoes/379233', \"PUMA x LAMELO BALL MB.03 LaFrancé Men's Basketball Shoes\", 'Men', 1, '$125.00')\n",
      "(151, 'https://us.puma.com/us/en/pd/porsche-legacy-speedfusion-mens-driving-shoes/307778', \"Porsche Legacy SPEEDFUSION Men's Driving Shoes\", 'Men', 1, '$54.99')\n",
      "(152, 'https://us.puma.com/us/en/pd/puma-x-swarovski-suede-womens-sneakers/396352', \"PUMA x SWAROVSKI Suede Women's Sneakers\", 'Women', 1, '$100.00')\n",
      "(153, 'https://us.puma.com/us/en/pd/puma-x-lamelo-ball-mb-03-toxic-mens-basketball-shoes/378916', \"PUMA x LAMELO BALL MB.03 Toxic Men's Basketball Shoes\", 'Men', 1, '$125.00')\n",
      "(154, 'https://us.puma.com/us/en/pd/voltaic-evo-running-shoe/379601', 'Voltaic Evo Running Shoe', 'Men', 3, '$80.00')\n",
      "(155, 'https://us.puma.com/us/en/pd/suede-classic-xxi-sneakers/374915', 'Suede Classic XXI Sneakers', 'Men', 9, '$75.00')\n",
      "(156, 'https://us.puma.com/us/en/pd/speedcat-shield-sd-driving-shoes/387272', 'Speedcat Shield SD Driving Shoes', 'Men', 2, '$90.00')\n",
      "(157, 'https://us.puma.com/us/en/pd/ultra-ultimate-fg-ag-mens-soccer-cleats/107311', \"ULTRA ULTIMATE FG/AG Men's Soccer Cleats\", 'Men', 4, '$139.99')\n",
      "(158, 'https://us.puma.com/us/en/pd/ca-pro-classic-sneakers/380190', 'CA Pro Classic Sneakers', 'Men', 2, '$80.00')\n",
      "(159, 'https://us.puma.com/us/en/pd/gv-special%2B-mens-sneakers/366613', \"GV Special+ Men's Sneakers\", 'Men', 4, '$52.99')\n",
      "(160, 'https://us.puma.com/us/en/pd/fenty-x-puma-creeper-phatty-mens-sneakers/396403', \"FENTY x PUMA Creeper Phatty Men's Sneakers\", 'Men', 3, '$140.00')\n",
      "(161, 'https://us.puma.com/us/en/pd/cali-womens-sneakers/369155', \"Cali Women's Sneakers\", 'Women', 2, '$80.00')\n",
      "(162, 'https://us.puma.com/us/en/pd/suede-classic-xxi-womens-sneakers/381410', \"Suede Classic XXI Women's Sneakers\", 'Women', 6, '$75.00')\n",
      "(163, 'https://us.puma.com/us/en/pd/mayze-womens-sneakers/381983', \"Mayze Women's Sneakers\", 'Women', 2, '$90.00')\n",
      "(164, 'https://us.puma.com/us/en/pd/cali-wedge-womens-sneakers/373438', \"Cali Wedge Women's Sneakers\", 'Women', 2, '$90.00')\n",
      "(165, 'https://us.puma.com/us/en/pd/mercedes-amg-petronas-f1-future-cat-og-mens-shoes/307891', \"Mercedes-AMG PETRONAS F1 Future Cat OG Men's Shoes\", 'Men', 2, '$54.99')\n",
      "(166, 'https://us.puma.com/us/en/pd/porsche-legacy-speedcat-driving-shoes/307211', 'Porsche Legacy Speedcat Driving Shoes', 'Men', 1, '$110.00')\n",
      "(167, 'https://us.puma.com/us/en/pd/teveris-nitro%E2%84%A2-nyc-mens-sneakers/396106', \"Teveris NITRO™ NYC Men's Sneakers\", 'Men', 1, '$65.99')\n",
      "(168, 'https://us.puma.com/us/en/pd/future-rider-camo-flagship-mens-sneakers/391610', \"Future Rider Camo Flagship Men's Sneakers\", 'Men', 2, '$59.99')\n",
      "(169, 'https://us.puma.com/us/en/pd/fenty-x-puma-avanti-l-mens-sneakers/398352', \"FENTY x PUMA AVANTI L Men's Sneakers\", 'Men', 2, '$160.00')\n",
      "(170, 'https://us.puma.com/us/en/pd/mayze-heritage-velvet-womens-sneakers/397113', \"Mayze Heritage Velvet Women's Sneakers\", 'Women', 1, '$84.99')\n",
      "(171, 'https://us.puma.com/us/en/pd/rs-x-faded-daytona-sneakers/394981', 'RS-X Faded Daytona Sneakers', 'Men', 2, '$59.99')\n",
      "(172, 'https://us.puma.com/us/en/pd/ca-pro-velour-sneakers/397112', 'CA Pro Velour Sneakers', 'Men', 2, '$79.99')\n",
      "(173, 'https://us.puma.com/us/en/pd/rs-x-glimmer-womens-sneakers/397089', \"RS-X Glimmer Women's Sneakers\", 'Women', 1, '$110.00')\n",
      "(174, 'https://us.puma.com/us/en/pd/rs-xk-sneakers/392787', 'RS-XK Sneakers', 'Men', 2, '$110.00')\n",
      "(175, 'https://us.puma.com/us/en/pd/puma-x-lamelo-ball-mb-01-lo-mens-basketball-shoes/376941', \"PUMA x LAMELO BALL MB.01 Lo Men's Basketball Shoes\", 'Men', 2, '$120.00')\n",
      "(176, 'https://us.puma.com/us/en/pd/cali-dream-west-coast-leather-womens-sneakers/392730', \"Cali Dream West Coast Leather Women's Sneakers\", 'Women', 4, '$90.00')\n",
      "(177, 'https://us.puma.com/us/en/pd/rs-x-soft-womens-sneakers/393772', \"RS-X Soft Women's Sneakers\", 'Women', 2, '$110.00')\n",
      "(178, 'https://us.puma.com/us/en/pd/fenty-x-puma-avanti-l-womens-sneakers/399262', \"FENTY x PUMA AVANTI L Women's Sneakers\", 'Women', 2, '$160.00')\n",
      "(179, 'https://us.puma.com/us/en/pd/foreverrun-nitro%E2%84%A2-knit-womens-running-shoes/379140', \"ForeverRun NITRO™ Knit Women's Running Shoes\", 'Women', 1, '$150.00')\n",
      "(180, 'https://us.puma.com/us/en/pd/rs-trck-horizon-mens-sneakers/390717', \"RS-Trck Horizon Men's Sneakers\", 'Men', 2, '$59.99')\n",
      "(181, 'https://us.puma.com/us/en/pd/future-rider-play-on-mens-sneakers/393473', \"Future Rider Play On Men's Sneakers\", 'Men', 2, '$80.00')\n",
      "(182, 'https://us.puma.com/us/en/pd/rs-x-hi-mens-sneakers/392718', \"RS-X Hi Men's Sneakers\", 'Men', 2, '$140.00')\n",
      "(183, 'https://us.puma.com/us/en/pd/palermo-leather-mens-sneakers/396464', \"Palermo Leather Men's Sneakers\", 'Men', 2, '$90.00')\n",
      "(184, 'https://us.puma.com/us/en/pd/pulsar-wedge-cat-logo-womens-sneakers/392710', \"Pulsar Wedge Cat Logo Women's Sneakers\", 'Women', 1, '$110.00')\n",
      "(185, 'https://us.puma.com/us/en/pd/fenty-x-puma-creeper-phatty-womens-sneakers/399332', \"FENTY x PUMA Creeper Phatty Women's Sneakers\", 'Women', 3, '$140.00')\n",
      "(186, 'https://us.puma.com/us/en/pd/puma-x-lamelo-ball-mb-03-chino-hills-mens-basketball-shoes/379235', \"PUMA x LAMELO BALL MB.03 Chino Hills Men's Basketball Shoes\", 'Men', 1, '$125.00')\n",
      "(187, 'https://us.puma.com/us/en/pd/puma-hoops-x-gremlins-all-pro-nitro%E2%84%A2-mens-basketball-shoes/379303', \"PUMA HOOPS x GREMLINS All Pro NITRO™ Men's Basketball Shoes\", 'Men', 1, '$140.00')\n",
      "(188, 'https://us.puma.com/us/en/pd/mayze-classic-womens-sneakers/384209', \"Mayze Classic Women's Sneakers\", 'Women', 2, '$90.00')\n",
      "(189, 'https://us.puma.com/us/en/pd/suede-gum-mens-sneakers/381174', \"Suede Gum Men's Sneakers\", 'Men', 2, '$75.00')\n",
      "(190, 'https://us.puma.com/us/en/pd/puma-x-sparco-future-cat-og-driving-shoes/307936', 'PUMA x SPARCO Future Cat OG Driving Shoes', 'Men', 2, '$100.00')\n",
      "(191, 'https://us.puma.com/us/en/pd/puma-x-lamelo-ball-x-dexters-laboratory-mb-03-mens-basketball-shoes/379330', \"PUMA x LAMELO BALL x DEXTER'S LABORATORY MB.03 Men's Basketball Shoes\", 'Men', 1, '$135.00')\n",
      "(192, 'https://us.puma.com/us/en/pd/puma-x-lamelo-ball-rs-x-pocket-lafranc%C3%A9-mens-sneakers/395542', \"PUMA x LAMELO BALL RS-X Pocket LaFrancé Men's Sneakers\", 'Men', 1, '$130.00')\n",
      "(193, 'https://us.puma.com/us/en/pd/roma-classic-gum-sneakers/366408', 'Roma Classic Gum Sneakers', 'Men', 2, '$70.00')\n",
      "(194, 'https://us.puma.com/us/en/pd/puma-x-tmc-ralph-sampson-all-star-mens-sneakers/397418', \"PUMA x TMC Ralph Sampson All Star Men's Sneakers\", 'Men', 1, '$90.00')\n",
      "(195, 'https://www.skechers.com/skechers-slip-ins-bobs-sport-squad-chaos/117500_ROS.html', 'Skechers Slip-ins: Bobs Sport Squad Chaos', \"Women's\", 3, '$70.00')\n",
      "(196, 'https://www.skechers.com/skechers-slip-ins-bobs-sport-squad-chaos/117504_LAV.html', 'Skechers Slip-ins: Bobs Sport Squad Chaos', \"Women's\", 2, '$70.00')\n",
      "(197, 'https://www.skechers.com/skechers-slip-ins-ultra-flex-3.0---brilliant/149710_PERI.html', 'Skechers Slip-ins: Ultra Flex 3.0 - Brilliant', \"Women's\", 5, '$90.00')\n",
      "(198, 'https://www.skechers.com/skechers-slip-ins-ultra-flex-3.0/150174_WHT.html', 'Skechers Slip-ins: Ultra Flex 3.0', \"Women's\", 2, '$95.00')\n",
      "(199, 'https://www.skechers.com/skechers-slip-ins-ultra-flex-3.0---new-energy/150182_BKNT.html', 'Skechers Slip-ins: Ultra Flex 3.0 - New Energy', \"Women's\", 1, '$90.00')\n",
      "(200, 'https://www.skechers.com/skechers-slip-ins-ultra-flex-3.0---smooth-step/149709_MVE.html', 'Skechers Slip-ins: Ultra Flex 3.0 - Smooth Step', \"Women's\", 4, '$90.00')\n",
      "(201, 'https://www.skechers.com/skechers-slip-ins-ultra-flex-3.0---cozy-streak/149708_SLT.html', 'Skechers Slip-ins: Ultra Flex 3.0 - Cozy Streak', \"Women's\", 3, '$90.00')\n",
      "(202, 'https://www.skechers.com/martha-stewart-x-skechers-slip-ins-ultra-flex-3/149808_OLV.html', 'Martha Stewart x Skechers Slip-ins: Ultra Flex 3', \"Women's\", 4, '$90.00')\n",
      "(203, 'https://www.skechers.com/skechers-slip-ins-summits---dazzling-haze/149937_GYMT.html', 'Skechers Slip-ins: Summits - Dazzling Haze', \"Women's\", 4, '$75.00')\n",
      "(204, 'https://www.skechers.com/skechers-slip-ins-summits---diamond-dream/150123_LAV.html', 'Skechers Slip-ins: Summits - Diamond Dream', \"Women's\", 2, '$75.00')\n",
      "(205, 'https://www.skechers.com/martha-stewart-x-skechers-slip-ins-ultra-flex-3/158820.html', 'Martha Stewart x Skechers Slip-ins: Ultra Flex 3', \"Women's\", 2, '$90.00')\n",
      "(206, 'https://www.skechers.com/martha-stewart-skechers-slip-ins-ultra-flex-3.0/158911_MOC.html', 'Martha Stewart Skechers Slip-ins: Ultra Flex 3.0', \"Women's\", 1, '$90.00')\n",
      "(207, 'https://www.skechers.com/skechers-slip-ins-go-walk-flex---relish/124963_NVY.html', 'Skechers Slip-ins: GO WALK Flex - Relish', \"Women's\", 5, '$75.00')\n",
      "(208, 'https://www.skechers.com/skechers-slip-ins-go-walk-flex---dacey/124835_GRY.html', 'Skechers Slip-ins: GO WALK Flex - Dacey', \"Women's\", 1, '$75.00')\n",
      "(209, 'https://www.skechers.com/skechers-slip-ins-go-walk-flex---grand-entry/124836_OFWT.html', 'Skechers Slip-ins: GO WALK Flex - Grand Entry', \"Women's\", 4, '$75.00')\n",
      "(210, 'https://www.skechers.com/skechers-slip-ins-go-walk-7---daley/125228_GYLV.html', 'Skechers Slip-ins: GO WALK 7 - Daley', \"Women's\", 2, '$85.00')\n",
      "(211, 'https://www.skechers.com/skechers-slip-ins-go-walk-7---city-lights/125222_TPMT.html', 'Skechers Slip-ins: GO WALK 7 - City Lights', \"Women's\", 2, '$95.00')\n",
      "(212, 'https://www.skechers.com/skechers-slip-ins-go-walk-7---springtime/125219_GRY.html', 'Skechers Slip-ins: GO WALK 7 - Springtime', \"Women's\", 2, '$95.00')\n",
      "(213, 'https://www.skechers.com/go-walk-7---razi/125209_NVLV.html', 'GO WALK 7 - Razi', \"Women's\", 1, '$80.00')\n",
      "(214, 'https://www.skechers.com/go-walk-7---bling/125234_GRY.html', 'GO WALK 7 - Bling', \"Women's\", 2, '$90.00')\n"
     ]
    }
   ],
   "source": [
    "for item in result:\n",
    "    print(item)"
   ]
  },
  {
   "cell_type": "markdown",
   "id": "03152904",
   "metadata": {},
   "source": [
    "# tablE1"
   ]
  },
  {
   "cell_type": "markdown",
   "id": "d0396c0c",
   "metadata": {},
   "source": [
    "1 Write a query  to retrieve all shoe names and their corresponding prices for men's shoes:\n",
    "\n"
   ]
  },
  {
   "cell_type": "code",
   "execution_count": 14,
   "id": "e9efe293",
   "metadata": {},
   "outputs": [],
   "source": [
    "query1=\"SELECT shoe_name, price FROM table1 WHERE category = 'Men';\""
   ]
  },
  {
   "cell_type": "code",
   "execution_count": 15,
   "id": "c975f203",
   "metadata": {},
   "outputs": [
    {
     "data": {
      "text/plain": [
       "<sqlite3.Cursor at 0x2225526ac70>"
      ]
     },
     "execution_count": 15,
     "metadata": {},
     "output_type": "execute_result"
    }
   ],
   "source": [
    "cursor.execute(query1)"
   ]
  },
  {
   "cell_type": "code",
   "execution_count": 16,
   "id": "bccd2057",
   "metadata": {},
   "outputs": [],
   "source": [
    "result2=cursor.fetchall()"
   ]
  },
  {
   "cell_type": "code",
   "execution_count": 17,
   "id": "1ac367ae",
   "metadata": {},
   "outputs": [
    {
     "name": "stdout",
     "output_type": "stream",
     "text": [
      "('Kick Shoes', '10999')\n",
      "('Kick Shoes', '10999')\n",
      "('Ozelia Shoes', '10999')\n",
      "('ADIDAS  X EXTRA BUTTER SAMBA', '13999')\n",
      "('Superstar Shoes', '10999')\n",
      "('adidas Pro Model 80 Poochie', '12999')\n",
      "(\"Men's Granite Trail™ Waterproof Shoe\", 'GO THE EXTRA MILE')\n",
      "(\"Men's PFG Pro Sport™ Shoe\", 'SURE-FOOTED COMFORT')\n",
      "(\"Men's Gunnison™ II Omni-Heat™ Boot\", 'WINTER-READY')\n",
      "(\"Men's Fairbanks™ Omni-Heat™ Boot - Wide\", 'Shipping Information')\n",
      "('Little Kids’ Powderbug™ Plus II Snow Boot', 'SNOW TIME RAIN TIME')\n",
      "(\"Men's PFG Bahama™ Vent Loco Relaxed III Shoe\", 'QUICK-CLEANING CANVAS')\n",
      "(\"Men's Bugaboot™ III Boot - Wide\", 'RELIABLE WINTER BOOT')\n",
      "('Men’s Fairbanks™ Omni-Heat™ Boot', 'Shipping Information')\n",
      "('Men’s Bahama™ Vent Relaxed PFG Shoe - Wide', 'IDEAL FISHING SHOE')\n",
      "(\"Men's Facet™ 75 Alpha OutDry™ Shoe\", 'WATERPROOF POWER')\n",
      "('Men’s PFG Bahama™ Vent Shoe', 'FISH ON')\n",
      "(\"Men's Newton Ridge™ Waterproof Omni-Heat™ II Boot\", 'WINTER HIKER')\n",
      "(\"Men's Granite Trail™ Mid Waterproof Shoe\", 'GO THE EXTRA MILE')\n",
      "('Men’s Newton Ridge™ Plus II Waterproof Hiking Boot', 'Shipping Information')\n",
      "('Men’s Bahama™ Vent Relaxed PFG Shoe', 'IDEAL FISHING SHOE')\n",
      "(\"Men's PFG Tamiami™ Shoe\", 'MAKE A SPLASH')\n",
      "(\"Men's Bugaboot™ III Boot\", 'Shipping Information')\n",
      "(\"Big Kids' Bahama™ PFG Shoe\", 'CAREFREE SLIP-ONS')\n",
      "(\"Men's PFG Tidal Ray™ Flip Flop\", 'EASY LIVING')\n",
      "(\"Men's PFG Bahama™ Vent Shoe - Wide\", 'FISH ON')\n",
      "(\"Men's Trailstorm™ Ascend Waterproof Shoe\", 'STORM ON')\n",
      "(\"Men's Facet™ 75 Mid OutDry™ Shoe\", 'ENDLESS TRAILS')\n",
      "(\"Men's Granite Trail™ Waterproof Shoe - Wide\", 'GO THE EXTRA MILE')\n",
      "(\"Men's PFG Rostra™ Beachcomber™ Flip Flop\", \"LIFE'S A BEACH\")\n",
      "(\"Men's Woodburn™ II Waterproof Shoe\", 'WATERPROOF COMFORT')\n",
      "(\"Men's PFG Bonehead™ Shoe - Wide\", 'A STEP ABOVE')\n",
      "(\"Men's PFG Bonehead™ Shoe\", 'A STEP ABOVE')\n",
      "(\"Little Kids' Bahama™ PFG Shoe\", 'CAREFREE SLIP-ONS')\n",
      "(\"Men's Telluron™ Omni-Heat™ II Boot\", 'GO-ANYWHERE BOOT')\n",
      "(\"Men's Newton Ridge™ Plus II Suede Waterproof Hiking Boot\", 'CLASSIC WATERPROOF HIKER')\n",
      "(\"Men's Expeditionist™ Shield Boot\", 'Shipping Information')\n",
      "(\"Men's PFG Slack Tide™ Boat Shoe\", 'DOCKSIDE CLASSIC')\n",
      "(\"Big Kids' Newton Ridge™ Amped Boot\", 'HAPPY HIKERS')\n",
      "(\"Men's PFG Bahama™ Vent Loco Relaxed III Shoe - Wide\", 'QUICK-CLEANING CANVAS')\n",
      "('Nike Cortez Platform Unlocked By You Greatest Gift', '130')\n",
      "('Nike Cortez Unlocked By You Greatest Gift', '130')\n",
      "(\"Blktop Rider Lithium Men's Sneakers\", '$90.00')\n",
      "(\"PUMA x LAMELO BALL LaFrancé CA Pro Men's Sneakers\", '$90.00')\n",
      "('CA Pro Heritage Sneakers', '$59.99')\n",
      "('Shibui Cat Slides', '$19.99')\n",
      "(\"PUMA x LAMELO BALL MB.03 LaFrancé Men's Basketball Shoes\", '$125.00')\n",
      "(\"Porsche Legacy SPEEDFUSION Men's Driving Shoes\", '$54.99')\n",
      "(\"PUMA x LAMELO BALL MB.03 Toxic Men's Basketball Shoes\", '$125.00')\n",
      "('Voltaic Evo Running Shoe', '$80.00')\n",
      "('Suede Classic XXI Sneakers', '$75.00')\n",
      "('Speedcat Shield SD Driving Shoes', '$90.00')\n",
      "(\"ULTRA ULTIMATE FG/AG Men's Soccer Cleats\", '$139.99')\n",
      "('CA Pro Classic Sneakers', '$80.00')\n",
      "(\"GV Special+ Men's Sneakers\", '$52.99')\n",
      "(\"FENTY x PUMA Creeper Phatty Men's Sneakers\", '$140.00')\n",
      "(\"Mercedes-AMG PETRONAS F1 Future Cat OG Men's Shoes\", '$54.99')\n",
      "('Porsche Legacy Speedcat Driving Shoes', '$110.00')\n",
      "(\"Teveris NITRO™ NYC Men's Sneakers\", '$65.99')\n",
      "(\"Future Rider Camo Flagship Men's Sneakers\", '$59.99')\n",
      "(\"FENTY x PUMA AVANTI L Men's Sneakers\", '$160.00')\n",
      "('RS-X Faded Daytona Sneakers', '$59.99')\n",
      "('CA Pro Velour Sneakers', '$79.99')\n",
      "('RS-XK Sneakers', '$110.00')\n",
      "(\"PUMA x LAMELO BALL MB.01 Lo Men's Basketball Shoes\", '$120.00')\n",
      "(\"RS-Trck Horizon Men's Sneakers\", '$59.99')\n",
      "(\"Future Rider Play On Men's Sneakers\", '$80.00')\n",
      "(\"RS-X Hi Men's Sneakers\", '$140.00')\n",
      "(\"Palermo Leather Men's Sneakers\", '$90.00')\n",
      "(\"PUMA x LAMELO BALL MB.03 Chino Hills Men's Basketball Shoes\", '$125.00')\n",
      "(\"PUMA HOOPS x GREMLINS All Pro NITRO™ Men's Basketball Shoes\", '$140.00')\n",
      "(\"Suede Gum Men's Sneakers\", '$75.00')\n",
      "('PUMA x SPARCO Future Cat OG Driving Shoes', '$100.00')\n",
      "(\"PUMA x LAMELO BALL x DEXTER'S LABORATORY MB.03 Men's Basketball Shoes\", '$135.00')\n",
      "(\"PUMA x LAMELO BALL RS-X Pocket LaFrancé Men's Sneakers\", '$130.00')\n",
      "('Roma Classic Gum Sneakers', '$70.00')\n",
      "(\"PUMA x TMC Ralph Sampson All Star Men's Sneakers\", '$90.00')\n"
     ]
    }
   ],
   "source": [
    "for item in result2:\n",
    "    print(item)"
   ]
  },
  {
   "cell_type": "code",
   "execution_count": 18,
   "id": "711dc44d",
   "metadata": {},
   "outputs": [],
   "source": [
    "cursor.close()"
   ]
  },
  {
   "cell_type": "markdown",
   "id": "3e6e1713",
   "metadata": {},
   "source": [
    "2 Write a query to retrieve the number of different colors available for each category.\n",
    "\n"
   ]
  },
  {
   "cell_type": "code",
   "execution_count": 19,
   "id": "19a908cc",
   "metadata": {},
   "outputs": [],
   "source": [
    "query2=\"SELECT category, COUNT(DISTINCT number_of_colors) AS num_colors FROM table1 GROUP BY category;\""
   ]
  },
  {
   "cell_type": "code",
   "execution_count": 25,
   "id": "2ea01dd9",
   "metadata": {},
   "outputs": [
    {
     "data": {
      "text/plain": [
       "<sqlite3.Cursor at 0x22255388c00>"
      ]
     },
     "execution_count": 25,
     "metadata": {},
     "output_type": "execute_result"
    }
   ],
   "source": [
    "connection=sqlite3.connect('table1.shoes.dp')\n",
    "cursor=connection.cursor()\n",
    "cursor.execute(query2)"
   ]
  },
  {
   "cell_type": "code",
   "execution_count": 26,
   "id": "ad618a9d",
   "metadata": {},
   "outputs": [],
   "source": [
    "result2=cursor.fetchall()"
   ]
  },
  {
   "cell_type": "code",
   "execution_count": 27,
   "id": "8c994dbf",
   "metadata": {},
   "outputs": [
    {
     "name": "stdout",
     "output_type": "stream",
     "text": [
      "('Men', 6)\n",
      "('Women', 13)\n",
      "(\"Women's\", 5)\n"
     ]
    }
   ],
   "source": [
    "for item in result2:\n",
    "    print(item)"
   ]
  },
  {
   "cell_type": "code",
   "execution_count": 29,
   "id": "7810e946",
   "metadata": {},
   "outputs": [],
   "source": [
    "cursor.close()"
   ]
  },
  {
   "cell_type": "markdown",
   "id": "56aa2540",
   "metadata": {},
   "source": [
    "3 Write a query to find the most expensive men's shoe.\n",
    "\n"
   ]
  },
  {
   "cell_type": "code",
   "execution_count": 30,
   "id": "4d5a1268",
   "metadata": {},
   "outputs": [],
   "source": [
    "query3=\"SELECT shoe_name, price FROM table1 WHERE category = 'Men' ORDER BY price DESC LIMIT 1;\""
   ]
  },
  {
   "cell_type": "code",
   "execution_count": 31,
   "id": "bfd923f0",
   "metadata": {},
   "outputs": [
    {
     "data": {
      "text/plain": [
       "<sqlite3.Cursor at 0x222552750a0>"
      ]
     },
     "execution_count": 31,
     "metadata": {},
     "output_type": "execute_result"
    }
   ],
   "source": [
    "connection=sqlite3.connect('table1.shoes.dp')\n",
    "cursor=connection.cursor()\n",
    "cursor.execute(query3)"
   ]
  },
  {
   "cell_type": "code",
   "execution_count": 32,
   "id": "60d779f5",
   "metadata": {},
   "outputs": [],
   "source": [
    "result3=cursor.fetchall()"
   ]
  },
  {
   "cell_type": "code",
   "execution_count": 33,
   "id": "ce02e1bd",
   "metadata": {},
   "outputs": [
    {
     "name": "stdout",
     "output_type": "stream",
     "text": [
      "(\"Men's Gunnison™ II Omni-Heat™ Boot\", 'WINTER-READY')\n"
     ]
    }
   ],
   "source": [
    "for item in result3:\n",
    "    print(item)"
   ]
  },
  {
   "cell_type": "markdown",
   "id": "180700f0",
   "metadata": {},
   "source": [
    "4 Write a query to find the cheapest women's shoe in a specific color (e.g., 'Black ').\n",
    "\n"
   ]
  },
  {
   "cell_type": "code",
   "execution_count": 35,
   "id": "65eda64c",
   "metadata": {},
   "outputs": [
    {
     "name": "stdout",
     "output_type": "stream",
     "text": [
      "(\"PUMA x SWAROVSKI Suede Women's Sneakers\", '$100.00')\n"
     ]
    }
   ],
   "source": [
    "connection = sqlite3.connect('table1.shoes.dp')\n",
    "cursor = connection.cursor()\n",
    "query4 = \"SELECT shoe_name, price FROM table1 WHERE category = 'Women' ORDER BY price LIMIT 20;\"\n",
    "cursor.execute(query4)\n",
    "result4 = cursor.fetchone()\n",
    "print(result4)\n",
    "cursor.close()\n",
    "connection.close()"
   ]
  },
  {
   "cell_type": "markdown",
   "id": "8fae07a4",
   "metadata": {},
   "source": [
    "5 Write a query to retrieve all shoe names and their corresponding prices for men's shoes.\n",
    "\n"
   ]
  },
  {
   "cell_type": "code",
   "execution_count": 89,
   "id": "aa36da71",
   "metadata": {},
   "outputs": [
    {
     "data": {
      "text/plain": [
       "<sqlite3.Cursor at 0x22255565b90>"
      ]
     },
     "execution_count": 89,
     "metadata": {},
     "output_type": "execute_result"
    }
   ],
   "source": [
    "connection=sqlite3.connect('table1.shoes.dp')\n",
    "query5=\"SELECT shoe_name, price FROM table1 WHERE category = 'Men';\"\n",
    "cursor=connection.cursor()\n",
    "cursor.execute(query5)"
   ]
  },
  {
   "cell_type": "code",
   "execution_count": 90,
   "id": "d5fa212f",
   "metadata": {},
   "outputs": [],
   "source": [
    "result5=cursor.fetchall()"
   ]
  },
  {
   "cell_type": "code",
   "execution_count": 92,
   "id": "7a15ebf8",
   "metadata": {},
   "outputs": [
    {
     "name": "stdout",
     "output_type": "stream",
     "text": [
      "[('Kick Shoes', '10999'), ('Kick Shoes', '10999'), ('Ozelia Shoes', '10999'), ('ADIDAS  X EXTRA BUTTER SAMBA', '13999'), ('Superstar Shoes', '10999'), ('adidas Pro Model 80 Poochie', '12999'), (\"Men's Granite Trail™ Waterproof Shoe\", 'GO THE EXTRA MILE'), (\"Men's PFG Pro Sport™ Shoe\", 'SURE-FOOTED COMFORT'), (\"Men's Gunnison™ II Omni-Heat™ Boot\", 'WINTER-READY'), (\"Men's Fairbanks™ Omni-Heat™ Boot - Wide\", 'Shipping Information'), ('Little Kids’ Powderbug™ Plus II Snow Boot', 'SNOW TIME RAIN TIME'), (\"Men's PFG Bahama™ Vent Loco Relaxed III Shoe\", 'QUICK-CLEANING CANVAS'), (\"Men's Bugaboot™ III Boot - Wide\", 'RELIABLE WINTER BOOT'), ('Men’s Fairbanks™ Omni-Heat™ Boot', 'Shipping Information'), ('Men’s Bahama™ Vent Relaxed PFG Shoe - Wide', 'IDEAL FISHING SHOE'), (\"Men's Facet™ 75 Alpha OutDry™ Shoe\", 'WATERPROOF POWER'), ('Men’s PFG Bahama™ Vent Shoe', 'FISH ON'), (\"Men's Newton Ridge™ Waterproof Omni-Heat™ II Boot\", 'WINTER HIKER'), (\"Men's Granite Trail™ Mid Waterproof Shoe\", 'GO THE EXTRA MILE'), ('Men’s Newton Ridge™ Plus II Waterproof Hiking Boot', 'Shipping Information'), ('Men’s Bahama™ Vent Relaxed PFG Shoe', 'IDEAL FISHING SHOE'), (\"Men's PFG Tamiami™ Shoe\", 'MAKE A SPLASH'), (\"Men's Bugaboot™ III Boot\", 'Shipping Information'), (\"Big Kids' Bahama™ PFG Shoe\", 'CAREFREE SLIP-ONS'), (\"Men's PFG Tidal Ray™ Flip Flop\", 'EASY LIVING'), (\"Men's PFG Bahama™ Vent Shoe - Wide\", 'FISH ON'), (\"Men's Trailstorm™ Ascend Waterproof Shoe\", 'STORM ON'), (\"Men's Facet™ 75 Mid OutDry™ Shoe\", 'ENDLESS TRAILS'), (\"Men's Granite Trail™ Waterproof Shoe - Wide\", 'GO THE EXTRA MILE'), (\"Men's PFG Rostra™ Beachcomber™ Flip Flop\", \"LIFE'S A BEACH\"), (\"Men's Woodburn™ II Waterproof Shoe\", 'WATERPROOF COMFORT'), (\"Men's PFG Bonehead™ Shoe - Wide\", 'A STEP ABOVE'), (\"Men's PFG Bonehead™ Shoe\", 'A STEP ABOVE'), (\"Little Kids' Bahama™ PFG Shoe\", 'CAREFREE SLIP-ONS'), (\"Men's Telluron™ Omni-Heat™ II Boot\", 'GO-ANYWHERE BOOT'), (\"Men's Newton Ridge™ Plus II Suede Waterproof Hiking Boot\", 'CLASSIC WATERPROOF HIKER'), (\"Men's Expeditionist™ Shield Boot\", 'Shipping Information'), (\"Men's PFG Slack Tide™ Boat Shoe\", 'DOCKSIDE CLASSIC'), (\"Big Kids' Newton Ridge™ Amped Boot\", 'HAPPY HIKERS'), (\"Men's PFG Bahama™ Vent Loco Relaxed III Shoe - Wide\", 'QUICK-CLEANING CANVAS'), ('Nike Cortez Platform Unlocked By You Greatest Gift', '130'), ('Nike Cortez Unlocked By You Greatest Gift', '130'), (\"Blktop Rider Lithium Men's Sneakers\", '$90.00'), (\"PUMA x LAMELO BALL LaFrancé CA Pro Men's Sneakers\", '$90.00'), ('CA Pro Heritage Sneakers', '$59.99'), ('Shibui Cat Slides', '$19.99'), (\"PUMA x LAMELO BALL MB.03 LaFrancé Men's Basketball Shoes\", '$125.00'), (\"Porsche Legacy SPEEDFUSION Men's Driving Shoes\", '$54.99'), (\"PUMA x LAMELO BALL MB.03 Toxic Men's Basketball Shoes\", '$125.00'), ('Voltaic Evo Running Shoe', '$80.00'), ('Suede Classic XXI Sneakers', '$75.00'), ('Speedcat Shield SD Driving Shoes', '$90.00'), (\"ULTRA ULTIMATE FG/AG Men's Soccer Cleats\", '$139.99'), ('CA Pro Classic Sneakers', '$80.00'), (\"GV Special+ Men's Sneakers\", '$52.99'), (\"FENTY x PUMA Creeper Phatty Men's Sneakers\", '$140.00'), (\"Mercedes-AMG PETRONAS F1 Future Cat OG Men's Shoes\", '$54.99'), ('Porsche Legacy Speedcat Driving Shoes', '$110.00'), (\"Teveris NITRO™ NYC Men's Sneakers\", '$65.99'), (\"Future Rider Camo Flagship Men's Sneakers\", '$59.99'), (\"FENTY x PUMA AVANTI L Men's Sneakers\", '$160.00'), ('RS-X Faded Daytona Sneakers', '$59.99'), ('CA Pro Velour Sneakers', '$79.99'), ('RS-XK Sneakers', '$110.00'), (\"PUMA x LAMELO BALL MB.01 Lo Men's Basketball Shoes\", '$120.00'), (\"RS-Trck Horizon Men's Sneakers\", '$59.99'), (\"Future Rider Play On Men's Sneakers\", '$80.00'), (\"RS-X Hi Men's Sneakers\", '$140.00'), (\"Palermo Leather Men's Sneakers\", '$90.00'), (\"PUMA x LAMELO BALL MB.03 Chino Hills Men's Basketball Shoes\", '$125.00'), (\"PUMA HOOPS x GREMLINS All Pro NITRO™ Men's Basketball Shoes\", '$140.00'), (\"Suede Gum Men's Sneakers\", '$75.00'), ('PUMA x SPARCO Future Cat OG Driving Shoes', '$100.00'), (\"PUMA x LAMELO BALL x DEXTER'S LABORATORY MB.03 Men's Basketball Shoes\", '$135.00'), (\"PUMA x LAMELO BALL RS-X Pocket LaFrancé Men's Sneakers\", '$130.00'), ('Roma Classic Gum Sneakers', '$70.00'), (\"PUMA x TMC Ralph Sampson All Star Men's Sneakers\", '$90.00')]\n"
     ]
    }
   ],
   "source": [
    "print(result5)"
   ]
  },
  {
   "cell_type": "markdown",
   "id": "325c90a3",
   "metadata": {},
   "source": [
    "# tablE2"
   ]
  },
  {
   "cell_type": "markdown",
   "id": "b3292067",
   "metadata": {},
   "source": [
    "1 Write a query that retrieves the count of sizes for all styles.\n",
    "\n"
   ]
  },
  {
   "cell_type": "code",
   "execution_count": 39,
   "id": "d5e7c895",
   "metadata": {},
   "outputs": [],
   "source": [
    "connection=sqlite3.connect('table1.shoes.dp')"
   ]
  },
  {
   "cell_type": "code",
   "execution_count": 40,
   "id": "58a578d1",
   "metadata": {},
   "outputs": [
    {
     "data": {
      "text/plain": [
       "229"
      ]
     },
     "execution_count": 40,
     "metadata": {},
     "output_type": "execute_result"
    }
   ],
   "source": [
    "df1.to_sql('table2',connection,if_exists='replace')"
   ]
  },
  {
   "cell_type": "code",
   "execution_count": 45,
   "id": "5bbfde76",
   "metadata": {},
   "outputs": [
    {
     "name": "stdout",
     "output_type": "stream",
     "text": [
      "[('107311_01', 1), ('1424692', 1), ('1553001', 1), ('1554171', 1), ('1554172', 1), ('1594731', 1), ('1637872', 1), ('1661511', 1), ('1661512', 1), ('1673141', 1), ('1673142', 1), ('1718821', 1), ('1746011', 1), ('1746012', 1), ('1746411', 1), ('1791221', 1), ('1791222', 1), ('1791281', 1), ('1800312', 1), ('1803121', 1), ('1803151', 1), ('1803152', 1), ('1826931', 1), ('1826932', 1), ('1862291', 1), ('1862391', 1), ('1889601', 1), ('1889602', 1), ('1927991', 1), ('1928751', 1), ('1939981', 1), ('1945421', 1), ('1950851', 1), ('1950861', 1), ('1982241', 1), ('1987121', 1), ('1987131', 1), ('1987132', 1), ('1987151', 1), ('2005041', 1), ('2027031', 1), ('2027051', 1), ('2027081', 1), ('2027111', 1), ('2027201', 1), ('2040521', 1), ('2041001', 1), ('2044121', 1), ('2044241', 1), ('2044281', 1), ('2044351', 1), ('2044571', 1), ('2053201', 1), ('2053211', 1), ('2053212', 1), ('2053221', 1), ('2053241', 1), ('2053421', 1), ('2056181', 1), ('2056191', 1), ('307211_07', 1), ('307778_03', 1), ('307891_01', 1), ('307936_01', 1), ('366408_01', 1), ('366613_01', 1), ('369155_01', 1), ('373438_01', 1), ('374915_01', 1), ('376941_04', 1), ('378916_01', 1), ('379140_01', 1), ('379233_01', 1), ('379235_01', 1), ('379303_01', 1), ('379330_01', 1), ('379601_01', 1), ('380190_01', 1), ('381174_01', 1), ('381410_01', 1), ('381983_01', 1), ('384209_01', 1), ('385296_02', 1), ('387272_02', 1), ('390717_01', 1), ('391610_01', 1), ('392710_01', 1), ('392718_01', 1), ('392730_01', 1), ('392787_04', 1), ('393152_01', 1), ('393473_17', 1), ('393772_02', 1), ('394981_01', 1), ('395281_01', 1), ('395542_01', 1), ('396106_01', 1), ('396352_02', 1), ('396403_01', 1), ('396464_01', 1), ('397089_01', 1), ('397112_01', 1), ('397113_01', 1), ('397418_01', 1), ('397572_01', 1), ('398352_01', 1), ('398949_01', 1), ('399262_01', 1), ('399332_01', 1), ('BSZ08', 1), ('GVS47', 1), ('KXM74', 1), ('LSO26', 1), ('LZB18', 1), ('LZD31', 1), ('LZE46', 1), ('LZQ72', 1), ('LZZ98', 1), ('MAP80', 1), ('MAS99', 1), ('MAT40', 1), ('MAT43', 1), ('MBU94', 1), ('MCH62', 1), ('MCH80', 1), ('MCK75', 1), ('MCK79', 1), ('MCM03', 1), ('MCQ82', 1), ('MCQ86', 1), ('MCT16', 1), ('MCW28', 1), ('MCW70', 1), ('MDN10', 1), ('MDR06', 1), ('MDU10', 1), ('MDW13', 1), ('NKC60', 1), ('NKC84', 1), ('NKH31', 1), ('NLB34', 1), ('NMT16', 1), ('Style #:117500ROS', 1), ('Style #:117504LAV', 1), ('Style #:124566BKMT', 1), ('Style #:124568BBK', 1), ('Style #:124569GRY', 1), ('Style #:124641BKW', 1), ('Style #:124835GRY', 1), ('Style #:124836OFWT', 1), ('Style #:124963NVY', 1), ('Style #:125209NVLV', 1), ('Style #:125219GRY', 1), ('Style #:125222TPMT', 1), ('Style #:125228GYLV', 1), ('Style #:125234GRY', 1), ('Style #:149708SLT', 1), ('Style #:149709MVE', 1), ('Style #:149710PERI', 1), ('Style #:149808OLV', 1), ('Style #:149937GYMT', 1), ('Style #:150123LAV', 1), ('Style #:150174WHT', 1), ('Style #:150182BKNT', 1), ('Style #:158820OLV', 1), ('Style #:158911MOC', 1), ('Style #:216258CCOR', 1), ('Style #:216259NVY', 1), ('Style #:216601TPE', 1), ('Style #:220313WBK', 1), ('Style #:220347GRY', 1), ('Style #:220389BLBK', 1), ('Style #:220839CCBK', 1), ('Style #:220909NVOR', 1), ('Style #:220952NVY', 1), ('Style #:232462WBK', 1), ('Style: AH6789-703', 1), ('Style: CZ1055-100', 1), ('Style: DC2533-103', 1), ('Style: DD1503-101', 1), ('Style: DD1869-107', 1), ('Style: DH0625-005', 1), ('Style: DH3158-102', 1), ('Style: DH9523-100', 1), ('Style: DH9523-105', 1), ('Style: DJ6159-005', 1), ('Style: DM7590-200', 1), ('Style: DN1791-105', 1), ('Style: DR5377-001', 1), ('Style: DV3950-201', 1), ('Style: DV7190-200', 1), ('Style: DX2931-200', 1), ('Style: DX2931-400', 1), ('Style: DX9176-103', 1), ('Style: DZ2537-002', 1), ('Style: DZ2795-001', 1), ('Style: DZ3671-104', 1), ('Style: FB2208-007', 1), ('Style: FB2348-003', 1), ('Style: FD0736-003', 1), ('Style: FD0736-103', 1), ('Style: FD2196-100', 1), ('Style: FD2292-007', 1), ('Style: FJ8890-900', 1), ('Style: FJ8890-905', 1), ('Style: FN0880-010', 1), ('Style: FN7196-663', 1), ('Style: FN7778-600', 1), ('Style: FN7991-007', 1), ('Style: FQ7223-900', 1), ('Style: FQ7223-905', 1), ('Style: FQ8895-100', 1), ('Style: FZ3597-133', 1), ('Style: FZ5630-101', 1)]\n"
     ]
    }
   ],
   "source": [
    "connection = sqlite3.connect('table1.shoes.dp')\n",
    "cursor = connection.cursor()\n",
    "\n",
    "query6 = \"SELECT style_or_product_code, COUNT(DISTINCT number_of_sizes) AS number_of_sizes FROM table2 GROUP BY style_or_product_code;\"\n",
    "cursor.execute(query6)\n",
    "\n",
    "result1 = cursor.fetchall()\n",
    "print(result1)\n",
    "\n",
    "cursor.close()\n",
    "connection.close()"
   ]
  },
  {
   "cell_type": "markdown",
   "id": "6939444c",
   "metadata": {},
   "source": [
    "2  Write a query to list all styles with their associated colors.\n",
    "\n",
    "\n"
   ]
  },
  {
   "cell_type": "code",
   "execution_count": 47,
   "id": "5e6409f6",
   "metadata": {},
   "outputs": [
    {
     "name": "stdout",
     "output_type": "stream",
     "text": [
      "[('MDW13', 'Glory Red / Off White / Cream White', None, None, None, None), ('MBU94', 'Red / Cloud White / Gold Metallic', None, None, None, None), ('BSZ08', 'Core Black / Cloud White / Gum', None, None, None, None), ('BSZ08', 'Cloud White / Core Black / Clear Granite', None, None, None, None), ('GVS47', 'Core Black / Cloud White / Core Black', None, None, None, None), ('LZE46', 'Shadow Navy / Clear Blue / Gum', None, None, None, None), ('LSO26', 'Cloud White / Core Black / Cloud White', None, None, None, None), ('LZB18', 'Core Black / Cloud White / Gold Metallic', None, None, None, None), ('NLB34', 'Core Black / Core White / Gum', None, None, None, None), ('NLB34', 'Core White / Core Black / Gum', None, None, None, None), ('MCQ86', 'Core Black / Core Black / Cloud White', None, None, None, None), ('MCQ86', 'Cloud White / Cloud White / Grey One', None, None, None, None), ('MCQ82', 'Core Black / Cloud White / Cloud White', None, None, None, None), ('NKH31', 'Cloud White / Collegiate Green / Green', None, None, None, None), ('NMT16', 'Charcoal S24 / Wonder Beige F23 / Orange', None, None, None, None), ('MDR06', 'Dark Green / Cloud White / Off White', None, None, None, None), ('MDN10', 'Cloud White / Core Black / Cloud White', None, None, None, None), ('MCQ86', 'Preloved Fig S24 / Shadow Violet F23 / Off White', None, None, None, None), ('MCQ86', 'Putty Mauve S24 / Wonder Taupe S23 / Off White', None, None, None, None), ('LZD31', 'Mesa / Cream White / Gum', None, None, None, None), ('MCW70', 'Aluminium / Magic Beige F22 / Grey Three', None, None, None, None), ('NKC84', 'Wonder Clay F23 / Clear Pink / Gum', None, None, None, None), ('NKC60', 'Cloud White / Core Black / Core Black', None, None, None, None), ('MCW28', 'Cloud White / Off White / Core Black', None, None, None, None), ('MCQ82', 'Cloud White / Core Black / Cloud White', None, None, None, None), ('MCT16', 'Chalk White / Gum / Chalk White', None, None, None, None), ('KXM74', 'Cloud White / Cloud White / Cloud White', None, None, None, None), ('KXM74', 'Cloud White / Core Black / Cloud White', None, None, None, None), ('LZZ98', 'Core Black / Core Black / Grey Six', None, None, None, None), ('MAT43', 'Core White / Semi Flash Aqua / Almost Pink', None, None, None, None), ('MAT43', 'Core White / Almost Yellow / Blue Dawn', None, None, None, None), ('MCH80', 'Silver Green / Crystal White / Green Oxide', None, None, None, None), ('MCM03', 'Shadow Olive / Shadow Olive / Core Black', None, None, None, None), ('LZB18', 'Cloud White / Core Black / Gold Metallic', None, None, None, None), ('MCM03', 'Grey Four / Grey Four / Core Black', None, None, None, None), ('LZB18', 'Cloud White / Blue / Cloud White', None, None, None, None), ('MAT43', 'Wonder Beige F23 / Wonder Beige F23 / Silver Pebble S23', None, None, None, None), ('MAT40', 'Wonder Quartz / Wonder Clay / Core Black', None, None, None, None), ('MAS99', 'Cloud White / Gold Metallic / Core Black', None, None, None, None), ('MAS99', 'Cloud White / Silver Metallic / Core Black', None, None, None, None), ('MDN10', 'Cloud White / Bliss Orange / Cloud White', None, None, None, None), ('MDN10', 'Cloud White / Clear Sky / Cloud White', None, None, None, None), ('MCH62', 'Pulse Lime / Core Black / Cloud White', None, None, None, None), ('MAP80', 'Collegiate Burgundy / Cloud White / Collegiate Navy', None, None, None, None), ('LZQ72', 'Core Black / Pulse Lime / Cloud White', None, None, None, None), ('MCK79', 'Semi Impact Orange / Core Black / Off White', None, None, None, None), ('MDU10', 'Core Black / Core Black / Gold Metallic', None, None, None, None), ('MCK75', 'Wonder Beige / Wonder Beige / Aluminium', None, None, None, None), ('2053211', None, None, None, None, None), ('2027201', None, None, None, None, None), ('2041001', None, None, None, None, None), ('1950851', None, None, None, None, None), ('1987151', None, None, None, None, None), ('2053221', None, None, None, None, None), ('1862291', None, None, None, None, None), ('1746012', None, None, None, None, None), ('2044351', None, None, None, None, None), ('1637872', None, None, None, None, None), ('1889601', None, None, None, None, None), ('2053241', None, None, None, None, None), ('1791222', None, None, None, None, None), ('1554172', None, None, None, None, None), ('1746011', None, None, None, None, None), ('1661512', None, None, None, None, None), ('2044241', None, None, None, None, None), ('1673141', None, None, None, None, None), ('2056191', None, None, None, None, None), ('2044571', None, None, None, None, None), ('2053201', None, None, None, None, None), ('1594731', None, None, None, None, None), ('1791281', None, None, None, None, None), ('1424692', None, None, None, None, None), ('1661511', None, None, None, None, None), ('1927991', None, None, None, None, None), ('1791221', None, None, None, None, None), ('1826931', None, None, None, None, None), ('1982241', None, None, None, None, None), ('1673142', None, None, None, None, None), ('2044281', None, None, None, None, None), ('1862391', None, None, None, None, None), ('1803151', None, None, None, None, None), ('2027051', None, None, None, None, None), ('2053212', None, None, None, None, None), ('1939981', None, None, None, None, None), ('1987121', None, None, None, None, None), ('1553001', None, None, None, None, None), ('1987132', None, None, None, None, None), ('1718821', None, None, None, None, None), ('1987131', None, None, None, None, None), ('1950861', None, None, None, None, None), ('1826932', None, None, None, None, None), ('1928751', None, None, None, None, None), ('2027081', None, None, None, None, None), ('1746411', None, None, None, None, None), ('2053421', None, None, None, None, None), ('2040521', None, None, None, None, None), ('2027111', None, None, None, None, None), ('2027031', None, None, None, None, None), ('1800312', None, None, None, None, None), ('1554171', None, None, None, None, None), ('2056181', None, None, None, None, None), ('2005041', None, None, None, None, None), ('1945421', None, None, None, None, None), ('1803121', None, None, None, None, None), ('2044121', None, None, None, None, None), ('1803152', None, None, None, None, None), ('1889602', None, None, None, None, None), ('Style: FD2196-100', 'Summit White/Sanddrift/Sail/Black', 'Light Bone/Light Smoke Grey/Light Iron Ore/Rugged Orange', 'Persian Violet/Black/Anthracite/Metallic Silver', None, None), ('Style: DD1869-107', 'Chlorophyll/Sail/Chlorophyll', 'White/University Red/Black', 'White/Aluminum', 'Pale Vanilla/Sail/Topaz Gold', 'Design your own Nike By You product'), ('Style: FQ7223-900', None, None, None, None, None), ('Style: DZ2537-002', 'Black/Fireberry/Metallic Gold', 'White/Luminous Green/Sea Glass/Lime Blast', 'Light Silver/Guava Ice/Mica Green/Pale Ivory', 'Bordeaux/Vivid Purple/Volt/Black', 'Amber Brown/Light Bone/Mica Green/Guava Ice'), ('Style: DD1503-101', 'White/White/Black', 'Design your own Nike By You product', None, None, None), ('Style: DH0625-005', 'Mica Green/Plum Eclipse/Amber Brown/Sequoia', 'Black/White', 'Platinum Violet/Fireberry/Purple Ink/Luminous Green', 'Purple Ink/Deep Jungle/Purple Cosmos/Safety Orange', 'Diffused Taupe/Dark Pony/Sanddrift/Picante Red'), ('Style: AH6789-703', 'Light Bone/White/Metallic Silver/Diffused Blue', 'Sea Glass/White/Oil Green', 'White/Fuchsia Dream/Active Fuchsia/Bright Crimson', 'Hyper Pink/White/Hyper Pink', 'White/White/Black'), ('Style: DM7590-200', 'White/White/White', 'White/Smokey Mauve/Platinum Violet', 'Pearl White/Sail/Team Orange/Phantom', 'White/Hemp/Team Orange/Black', 'White/Summit White/Coral Chalk/Sea Coral'), ('Style: FQ7223-905', None, None, None, None, None), ('Style: FD0736-103', 'White/Photon Dust/Fir/Platinum Tint', 'Pure Platinum/Wolf Grey/Cool Grey/Metallic Cool Grey', 'Black/Anthracite/Dark Smoke Grey', 'Light Orewood Brown/Khaki/Earth/Light Bone', 'Summit White/Pure Platinum/Light Iron Ore/Metallic Silver'), ('Style: DH3158-102', 'White/University Blue', 'White/White/White', 'White/Platinum Violet', 'White/Pink Oxford', 'White/White/Metallic Silver'), ('Style: FD0736-003', 'White/Photon Dust/Fir/Platinum Tint', 'Pure Platinum/Wolf Grey/Cool Grey/Metallic Cool Grey', 'Black/Anthracite/Dark Smoke Grey', 'Light Orewood Brown/Khaki/Earth/Light Bone', 'Summit White/Pure Platinum/Light Iron Ore/Metallic Silver'), ('Style: DX2931-200', 'Muslin/Coconut Milk/Black/Campfire Orange', 'Plum Eclipse/Coconut Milk/Gum Medium Brown/Sail', 'Adobe/Coconut Milk/Gum Medium Brown/Sail', 'Stadium Green/Sail/Coconut Milk/Opti Yellow', 'Game Royal/White/Sail/Summit White'), ('Style: FN0880-010', 'Platinum Violet/Smokey Mauve/Saturn Gold/Black', 'White/Light Lemon Twist/Volt/Black', 'Black/Dark Grey/White', 'Design your own Nike By You product', None), ('Style: FZ3597-133', 'Sail/Vintage Green/Sesame', 'Blue Tint/White/Disco Purple/Polar', 'White/University Red/Wolf Grey/Obsidian', 'Summit White/Opti Yellow/Sail/White', 'Pearl Pink/White/Pearl Pink/Coral Chalk'), ('Style: DH9523-105', 'White/Summit White/White/Blue Tint', 'Black/Orange/Clear/White', 'White/Light Orewood Brown/Sail/Rush Fuchsia', 'White/Black/Orange/White', None), ('Style: DH9523-100', 'White/Summit White/White/Blue Tint', 'Black/Orange/Clear/White', 'White/Light Orewood Brown/Sail/Rush Fuchsia', 'White/Black/Orange/White', None), ('Style: DX2931-400', 'Muslin/Coconut Milk/Black/Campfire Orange', 'Plum Eclipse/Coconut Milk/Gum Medium Brown/Sail', 'Adobe/Coconut Milk/Gum Medium Brown/Sail', 'Stadium Green/Sail/Coconut Milk/Opti Yellow', 'Game Royal/White/Sail/Summit White'), ('Style: DV7190-200', 'White/Metallic Silver/Chrome/Platinum Tint', 'Red Stardust/Summit White/Campfire Orange/Rugged Orange', 'Diffused Taupe/Plum Eclipse/Night Maroon/Black', 'White/Fuchsia Dream/Baltic Blue/Bright Crimson', 'Summit White/Light Bone/Phantom/Summit White'), ('Style: FJ8890-905', None, None, None, None, None), ('Style: FN7196-663', None, None, None, None, None), ('Style: DX9176-103', 'White/Rugged Orange/Campfire Orange/Cedar', 'White/Rush Fuchsia/Emerald Rise', 'White/Summit White/Iron Grey/Black', 'White/Light Smoke Grey/Summit White/Malachite', 'Sail/Wheat Gold/Team Red/Fir'), ('Style: FB2348-003', 'Platinum Violet/Smokey Mauve/Earth/Platinum Violet', 'Phantom/Light Orewood Brown/Luminous Green/Phantom', 'Fir/Earth/Deep Royal Blue/Fir', 'Rugged Orange/Black/Campfire Orange/Rugged Orange', 'Wheat Gold/Rugged Orange/Field Purple/Wheat Gold'), ('Style: DZ2795-001', 'Vivid Sulfur/Sail/White/Black', 'Black/White', 'Midnight Navy/White', None, None), ('Style: FN7991-007', 'Platinum Violet/Smokey Mauve/Saturn Gold/Summit White', 'Deep Jungle/Black/White/Metallic Silver', 'Guava Ice/Amber Brown/Photon Dust/Vivid Purple', 'Black/Iron Grey/White', 'Design your own Nike By You product'), ('Style: DV3950-201', 'Smokey Mauve/Light Bone/Velvet Brown/Platinum Violet', 'Black/Anthracite', 'Bordeaux/Black/Volt/Vivid Purple', 'Black/White/Fireberry/Metallic Gold', 'Pale Ivory/Light Silver/Mica Green/Ice Peach'), ('Style: DJ6159-005', 'Pure Platinum/Baltic Blue/Black/Green Abyss', 'Volt/Black/Summit White/Bright Cactus', 'Thunder Blue/Chlorophyll/Vapor Green/Light Armory Blue', 'Light Smoke Grey/Black/Glacier Blue/White', 'Mantra Orange/Enamel Green/Bicoastal/Ghost Green'), ('Style: DZ3671-104', 'Black/Viotech/Team Red/White', 'Summit White/Light Armory Blue/Football Grey/Ashen Slate', 'White/Metallic Silver/Sail/Pure Platinum', 'Summit White/Racer Blue/Safety Orange/White', 'White/Pure Platinum/White'), ('Style: DR5377-001', None, None, None, None, None), ('Style: FJ8890-900', None, None, None, None, None), ('Style: FQ8895-100', 'White/Metallic Silver', 'Cedar/Rugged Orange', 'Blue Tint/Light Lemon Twist/Metallic Silver/Fireberry', 'Pink Spell/Spring Green/Racer Blue/Citron Pulse', 'Hyper Pink/White/Pink Blast/Hyper Pink'), ('Style: FD2292-007', 'White/Pure Platinum/Metallic Silver', 'Black/Anthracite/White', 'Platinum Violet/Smokey Mauve', 'Light Bone/Sail/Ice Peach/Bright Mandarin', None), ('Style: FZ5630-101', 'Sail/Gum Yellow/Midnight Navy', 'Sail/Gum Yellow/Black/Sail', None, None, None), ('Style: DN1791-105', 'White/Smokey Mauve/Black/Platinum Violet', 'White/Sail/Team Orange/University Blue', 'White/Red Stardust/Sail/Cedar', 'Sail/Malachite/Coconut Milk/Gorge Green', 'White/Light Photo Blue/Sail/Black'), ('Style: FN7778-600', None, None, None, None, None), ('Style: FB2208-007', 'White/White', 'Platinum Violet/Smokey Mauve/White', 'Black/White', 'Pearl Pink/White/Pink Foam', 'Photon Dust/White/Lime Blast/Polar'), ('Style: CZ1055-100', 'White/Sail/Diffused Blue', 'White/White/Peach/White', 'White/Sail/Peach/Habanero Red', 'White/Sail/Peach/Black', 'White/Peach/Summit White/Pink Oxford'), ('Style: DC2533-103', 'White/Picante Red/Sail/Summit White', 'Picante Red/Light Photo Blue/Coconut Milk/Sail', 'Game Royal/Stadium Green/Picante Red/Citron Pulse', 'White/Black/White', 'Active Fuchsia/Black/Coconut Milk/University Gold'), ('393152_01', 'Inky Blue-Persian Blue', 'Cast Iron-PUMA Black', None, None, None), ('395281_01', 'For All Time Red-Dark Orange-PUMA Black', None, None, None, None), ('397572_01', 'PUMA White-Puma Team Gold', None, None, None, None), ('385296_02', 'Puma Black-Puma Black', 'Putty-Putty', None, None, None), ('398949_01', 'Malachite-Puma Team Gold-PUMA White', 'Dark Jasper-Puma Team Gold-PUMA White', None, None, None), ('379233_01', 'Fluro Green Pes-PUMA Green-Fluro Yellow Pes', None, None, None, None), ('307778_03', 'Sand Dune-PUMA White-PUMA Black', None, None, None, None), ('396352_02', 'PUMA Black', None, None, None, None), ('378916_01', 'Purple Glimmer-Green Gecko', None, None, None, None), ('379601_01', 'PUMA Black-Stormy Slate-For All Time Red', 'For All Time Red-PUMA Black-Gray Fog', 'Club Navy-PUMA Black-Electric Lime', None, None), ('374915_01', 'Puma Black-Puma White', 'High Risk Red-Puma White', 'Gray Violet-Puma White', 'Peacoat-Puma White', 'Honey Mustard-Puma White'), ('387272_02', 'Ash Gray-For All Time Red-PUMA Black', 'Myrtle-Myrtle-PUMA Black', None, None, None), ('107311_01', 'PUMA White-PUMA Black-Fire Orchid', 'PUMA Black-Asphalt', 'Ultra Blue-PUMA White-Pro Green', 'Yellow Blaze-PUMA White-PUMA Black', None), ('380190_01', 'Puma White', 'Puma Black', None, None, None), ('366613_01', 'Puma White-Puma White', 'Puma Black-Puma Black', 'Puma White-Peacoat', 'Puma White-Ribbon Red', None), ('396403_01', 'PUMA Black-Warm White-Gum', 'Speed Blue-Lime Pow-Gum', 'Lavender Alert-Burnt Red-Gum', None, None), ('369155_01', 'Puma White-Puma White', 'Puma White-Puma Black', None, None, None), ('381410_01', 'Puma Black-Puma White', 'High Risk Red-Puma White', 'Marshmallow-Puma White', 'Lily Pad-Lily Pad', 'Icy Blue-PUMA White'), ('381983_01', 'Puma White-Puma Black', 'Puma White-Peyote', None, None, None), ('373438_01', 'Puma White-Puma White', 'Puma Black-Puma White', None, None, None), ('307891_01', 'PUMA White-PUMA White-Spectra Green', 'Spectra Green-PUMA Black-Puma Black', None, None, None), ('307211_07', 'Sand Dune-Bold Blue-PUMA White', None, None, None, None), ('396106_01', 'Sand Dune-PUMA Black-Racing Blue', None, None, None, None), ('391610_01', 'Deep Lichen Green-Dark Olive', 'Tapioca-Pebble', None, None, None), ('398352_01', 'Club Navy', 'Dark Myrtle', None, None, None), ('397113_01', 'PUMA White-Malachite-Puma Team Gold', None, None, None, None), ('394981_01', 'Day Dream-Evening Sky-PUMA White', 'Fizzy Apple-Platinum Gray-PUMA White', None, None, None), ('397112_01', 'Malachite-Warm White', 'PUMA Black-PUMA Black', None, None, None), ('397089_01', 'PUMA White-Gold-Warm White', None, None, None, None), ('392787_04', 'Alpine Snow-Alpine Snow', 'PUMA Black-PUMA Black', None, None, None), ('376941_04', 'Puma White-Silver', 'PUMA Black-PUMA Black', None, None, None), ('392730_01', 'PUMA White', 'PUMA Black', 'PUMA White-PUMA Black', 'PUMA Black-PUMA White', None), ('393772_02', 'Frosty Pink-Warm White', 'Frosty Pink-Ravish-Pearl Pink', None, None, None), ('399262_01', 'Club Navy', 'Dark Myrtle', None, None, None), ('379140_01', 'PUMA White-Feather Gray', None, None, None, None), ('390717_01', 'Orange Brick-Clementine', 'Hero Blue-Electric Peppermint', None, None, None), ('393473_17', 'Cobalt Glaze-Pelé Yellow', 'Pink Delight-PUMA Green', None, None, None), ('392718_01', 'PUMA Black-Shadow Gray', 'PUMA White-Alpine Snow', None, None, None), ('396464_01', 'PUMA White-Vapor Gray-Gum', 'PUMA Black-Feather Gray-Gum', None, None, None), ('392710_01', 'Whisper White-ARUBA BLUE', None, None, None, None), ('399332_01', 'PUMA Black-Warm White-Gum', 'Speed Blue-Lime Pow-Gum', 'Lavender Alert-Burnt Red-Gum', None, None), ('379235_01', 'Feather Gray-Lime Smash', None, None, None, None), ('379303_01', 'PUMA White', None, None, None, None), ('384209_01', 'Puma White', 'Puma Black', None, None, None), ('381174_01', 'Puma Black-Gum', 'Pebble-Gum', None, None, None), ('307936_01', 'PUMA Black-PUMA White-Dark Coal', 'Reflex Blue C-PUMA White-Sedate Gray', None, None, None), ('379330_01', 'Poison Pink-Fluro Orange Pes', None, None, None, None), ('395542_01', 'For All Time Red-Dark Orange-PUMA Black', None, None, None, None), ('366408_01', 'Puma White-Puma Team Gold', 'Puma Black-Puma Team Gold', None, None, None), ('397418_01', 'PUMA White-PUMA Navy-PUMA Silver', None, None, None, None), ('Style #:117500ROS', 'ROSE', 'BLACK', 'BLACK', None, None), ('Style #:117504LAV', 'LAVENDER', 'OFF WHITE', None, None, None), ('Style #:149710PERI', 'PERIWINKLE', 'MAUVE', 'NATURAL', 'BLACK', 'BLACK'), ('Style #:150174WHT', 'WHITE', 'BLACK', None, None, None), ('Style #:150182BKNT', 'BLACK / NATURAL', None, None, None, None), ('Style #:149709MVE', 'MAUVE', 'GRAY', 'NAVY', 'BLACK', None), ('Style #:149708SLT', 'SLATE', 'LIGHT GRAY', 'BLACK', None, None), ('Style #:149808OLV', 'OLIVE', 'NATURAL', 'MOCHA', 'BLACK', None), ('Style #:149937GYMT', 'GRAY / MULTI', 'NAVY / PURPLE', 'BLACK / WHITE', 'BLACK / TURQUOISE', None), ('Style #:150123LAV', 'LAVENDER', 'BLACK', None, None, None), ('Style #:158820OLV', 'OLIVE', 'BLACK', None, None, None), ('Style #:158911MOC', 'MOCHA', None, None, None, None), ('Style #:124963NVY', 'NAVY', 'OFF WHITE', 'TAUPE / BLUE', 'BLACK / WHITE', 'BLACK'), ('Style #:124835GRY', 'GRAY', None, None, None, None), ('Style #:124836OFWT', 'OFF WHITE', 'NAVY / WHITE', 'BLACK / WHITE', 'BLACK', None), ('Style #:125228GYLV', 'GRAY / LAVENDER', 'BLACK / HOT PINK', None, None, None), ('Style #:125222TPMT', 'TAUPE / MULTI', 'BLACK / MULTI', None, None, None), ('Style #:125219GRY', 'GRAY', 'BLACK', None, None, None), ('Style #:125209NVLV', 'NAVY / LAVENDER', None, None, None, None), ('Style #:125234GRY', 'GRAY', 'BLACK / ROSE GOLD', None, None, None), ('Style #:124566BKMT', 'BLACK / MULTI', None, None, None, None), ('Style #:124569GRY', 'GRAY', 'BLACK / LAVENDER', None, None, None), ('Style #:124568BBK', 'BLACK', None, None, None, None), ('Style #:124641BKW', 'BLACK / WHITE', 'LIGHT PINK', 'BLACK', None, None), ('Style #:220952NVY', 'NAVY', 'GRAY', 'BLACK / CHARCOAL', 'BLACK', None), ('Style #:220347GRY', 'GRAY', 'CHARCOAL/BLACK', 'BLACK / RED', 'BLACK', None), ('Style #:220839CCBK', 'CHARCOAL/BLACK', None, None, None, None), ('Style #:220313WBK', 'WHITE / BLACK', 'BLACK / WHITE', 'GRAY / RED', 'BLACK', None), ('Style #:220389BLBK', 'BLUE  /  BLACK', 'NAVY', 'BLACK', None, None), ('Style #:220909NVOR', 'NAVY / ORANGE', 'CHARCOAL / RED', None, None, None), ('Style #:232462WBK', 'WHITE / BLACK', 'TAUPE', 'NAVY', None, None), ('Style #:216601TPE', 'TAUPE', 'BLACK', None, None, None), ('Style #:216258CCOR', 'CHARCOAL / ORANGE', None, None, None, None), ('Style #:216259NVY', 'NAVY', None, None, None, None)]\n"
     ]
    }
   ],
   "source": [
    "connection = sqlite3.connect('table1.shoes.dp')\n",
    "cursor = connection.cursor()\n",
    "\n",
    "query7 = \"SELECT style_or_product_code, color_1, color_2, color_3, color_4, color_5 FROM table2;\"\n",
    "cursor.execute(query7)\n",
    "\n",
    "result7 = cursor.fetchall()\n",
    "print(result7)\n",
    "\n",
    "cursor.close()\n",
    "connection.close()"
   ]
  },
  {
   "cell_type": "markdown",
   "id": "a7940723",
   "metadata": {},
   "source": [
    "3 Write a to find styles that have more than one color.\n",
    "\n"
   ]
  },
  {
   "cell_type": "code",
   "execution_count": 49,
   "id": "7ae235ab",
   "metadata": {},
   "outputs": [
    {
     "name": "stdout",
     "output_type": "stream",
     "text": [
      "[('107311_01', 4), ('307891_01', 2), ('307936_01', 2), ('366408_01', 2), ('366613_01', 4), ('369155_01', 2), ('373438_01', 2), ('374915_01', 5), ('376941_04', 2), ('379601_01', 3), ('380190_01', 2), ('381174_01', 2), ('381410_01', 5), ('381983_01', 2), ('384209_01', 2), ('385296_02', 2), ('387272_02', 2), ('390717_01', 2), ('391610_01', 2), ('392718_01', 2), ('392730_01', 4), ('392787_04', 2), ('393152_01', 2), ('393473_17', 2), ('393772_02', 2), ('394981_01', 2), ('396403_01', 3), ('396464_01', 2), ('397112_01', 2), ('398352_01', 2), ('398949_01', 2), ('399262_01', 2), ('399332_01', 3), ('Style #:117500ROS', 3), ('Style #:117504LAV', 2), ('Style #:124569GRY', 2), ('Style #:124641BKW', 3), ('Style #:124836OFWT', 4), ('Style #:124963NVY', 5), ('Style #:125219GRY', 2), ('Style #:125222TPMT', 2), ('Style #:125228GYLV', 2), ('Style #:125234GRY', 2), ('Style #:149708SLT', 3), ('Style #:149709MVE', 4), ('Style #:149710PERI', 5), ('Style #:149808OLV', 4), ('Style #:149937GYMT', 4), ('Style #:150123LAV', 2), ('Style #:150174WHT', 2), ('Style #:158820OLV', 2), ('Style #:216601TPE', 2), ('Style #:220313WBK', 4), ('Style #:220347GRY', 4), ('Style #:220389BLBK', 3), ('Style #:220909NVOR', 2), ('Style #:220952NVY', 4), ('Style #:232462WBK', 3), ('Style: AH6789-703', 5), ('Style: CZ1055-100', 5), ('Style: DC2533-103', 5), ('Style: DD1503-101', 2), ('Style: DD1869-107', 5), ('Style: DH0625-005', 5), ('Style: DH3158-102', 5), ('Style: DH9523-100', 4), ('Style: DH9523-105', 4), ('Style: DJ6159-005', 5), ('Style: DM7590-200', 5), ('Style: DN1791-105', 5), ('Style: DV3950-201', 5), ('Style: DV7190-200', 5), ('Style: DX2931-200', 5), ('Style: DX2931-400', 5), ('Style: DX9176-103', 5), ('Style: DZ2537-002', 5), ('Style: DZ2795-001', 3), ('Style: DZ3671-104', 5), ('Style: FB2208-007', 5), ('Style: FB2348-003', 5), ('Style: FD0736-003', 5), ('Style: FD0736-103', 5), ('Style: FD2196-100', 3), ('Style: FD2292-007', 4), ('Style: FN0880-010', 4), ('Style: FN7991-007', 5), ('Style: FQ8895-100', 5), ('Style: FZ3597-133', 5), ('Style: FZ5630-101', 2)]\n"
     ]
    }
   ],
   "source": [
    "connection = sqlite3.connect('table1.shoes.dp')\n",
    "cursor = connection.cursor()\n",
    "\n",
    "query8 = \"\"\"\n",
    "SELECT style_or_product_code, \n",
    "       CASE WHEN color_1 IS NOT NULL THEN 1 ELSE 0 END +\n",
    "       CASE WHEN color_2 IS NOT NULL THEN 1 ELSE 0 END +\n",
    "       CASE WHEN color_3 IS NOT NULL THEN 1 ELSE 0 END +\n",
    "       CASE WHEN color_4 IS NOT NULL THEN 1 ELSE 0 END +\n",
    "       CASE WHEN color_5 IS NOT NULL THEN 1 ELSE 0 END AS color_count\n",
    "FROM table2\n",
    "GROUP BY style_or_product_code\n",
    "HAVING color_count > 1;\n",
    "\"\"\"\n",
    "cursor.execute(query8)\n",
    "result8 = cursor.fetchall()\n",
    "\n",
    "print(result8)\n",
    "\n",
    "\n",
    "cursor.close()\n",
    "connection.close()\n"
   ]
  },
  {
   "cell_type": "markdown",
   "id": "fc4920c6",
   "metadata": {},
   "source": [
    "4  Write a query to find the count of sizes available for each color for a specific style code.\n",
    "\n"
   ]
  },
  {
   "cell_type": "code",
   "execution_count": 51,
   "id": "2d79fb7a",
   "metadata": {
    "scrolled": true
   },
   "outputs": [
    {
     "name": "stdout",
     "output_type": "stream",
     "text": [
      "[('MDW13', 'Glory Red / Off White / Cream White', 1), ('MDW13', None, 1), ('MDW13', None, 1), ('MDW13', None, 1), ('MDW13', None, 1)]\n"
     ]
    }
   ],
   "source": [
    "connection = sqlite3.connect('table1.shoes.dp')\n",
    "cursor = connection.cursor()\n",
    "\n",
    "query9 = \"\"\"\n",
    "SELECT style_or_product_code, color_1, size_count_color_1\n",
    "FROM (\n",
    "    SELECT style_or_product_code, color_1,\n",
    "           COUNT(DISTINCT number_of_sizes) AS size_count_color_1\n",
    "    FROM table2\n",
    "    WHERE style_or_product_code = 'MDW13'\n",
    "    GROUP BY style_or_product_code, color_1\n",
    "    UNION ALL\n",
    "    SELECT style_or_product_code, color_2,\n",
    "           COUNT(DISTINCT number_of_sizes) AS size_count_color_2\n",
    "    FROM table2\n",
    "    WHERE style_or_product_code = 'MDW13'\n",
    "    GROUP BY style_or_product_code, color_2\n",
    "    UNION ALL\n",
    "    SELECT style_or_product_code, color_3,\n",
    "           COUNT(DISTINCT number_of_sizes) AS size_count_color_3\n",
    "    FROM table2\n",
    "    WHERE style_or_product_code = 'MDW13'\n",
    "    GROUP BY style_or_product_code, color_3\n",
    "    UNION ALL\n",
    "    SELECT style_or_product_code, color_4,\n",
    "           COUNT(DISTINCT number_of_sizes) AS size_count_color_4\n",
    "    FROM table2\n",
    "    WHERE style_or_product_code = 'MDW13'\n",
    "    GROUP BY style_or_product_code, color_4\n",
    "    UNION ALL\n",
    "    SELECT style_or_product_code, color_5,\n",
    "           COUNT(DISTINCT number_of_sizes) AS size_count_color_5\n",
    "    FROM table2\n",
    "    WHERE style_or_product_code = 'MDW13'\n",
    "    GROUP BY style_or_product_code, color_5\n",
    ") AS subquery;\n",
    "\"\"\"\n",
    "cursor.execute(query9)\n",
    "\n",
    "result9 = cursor.fetchall()\n",
    "print(result9)\n",
    "\n",
    "cursor.close()\n",
    "connection.close()\n"
   ]
  },
  {
   "cell_type": "markdown",
   "id": "68e375f7",
   "metadata": {},
   "source": [
    "5  Write a query to find styles that have a specific color.\n",
    "\n"
   ]
  },
  {
   "cell_type": "code",
   "execution_count": 53,
   "id": "c85d823c",
   "metadata": {},
   "outputs": [
    {
     "name": "stdout",
     "output_type": "stream",
     "text": [
      "[]\n"
     ]
    }
   ],
   "source": [
    "connection = sqlite3.connect('table1.shoes.dp')\n",
    "cursor = connection.cursor()\n",
    "\n",
    "query10 = \"\"\"\n",
    "SELECT style_or_product_code\n",
    "FROM table2\n",
    "WHERE 'Cloud White' IN (TRIM(color_1), TRIM(color_2), TRIM(color_3), TRIM(color_4), TRIM(color_5));\n",
    "\n",
    "\"\"\"\n",
    "cursor.execute(query10)\n",
    "\n",
    "result10 = cursor.fetchall()\n",
    "print(result10)\n",
    "\n",
    "# Close the cursor and connection\n",
    "cursor.close()\n",
    "connection.close()\n"
   ]
  },
  {
   "cell_type": "markdown",
   "id": "92c51a6b",
   "metadata": {},
   "source": [
    "# tablE3"
   ]
  },
  {
   "cell_type": "markdown",
   "id": "b0d5d7f2",
   "metadata": {},
   "source": [
    "1 Write a query calculates the average comfort rating for a specific product based on its reviews.\n",
    "\n"
   ]
  },
  {
   "cell_type": "code",
   "execution_count": 57,
   "id": "821bb741",
   "metadata": {},
   "outputs": [
    {
     "data": {
      "text/plain": [
       "397"
      ]
     },
     "execution_count": 57,
     "metadata": {},
     "output_type": "execute_result"
    }
   ],
   "source": [
    "connection = sqlite3.connect('table1.shoes.dp')\n",
    "df3.to_sql('table3',connection,if_exists='replace')"
   ]
  },
  {
   "cell_type": "code",
   "execution_count": 55,
   "id": "44cb8eed",
   "metadata": {},
   "outputs": [],
   "source": [
    "df3=pd.read_csv('table3_csv3')"
   ]
  },
  {
   "cell_type": "code",
   "execution_count": 56,
   "id": "6599f0df",
   "metadata": {},
   "outputs": [
    {
     "data": {
      "text/html": [
       "<div>\n",
       "<style scoped>\n",
       "    .dataframe tbody tr th:only-of-type {\n",
       "        vertical-align: middle;\n",
       "    }\n",
       "\n",
       "    .dataframe tbody tr th {\n",
       "        vertical-align: top;\n",
       "    }\n",
       "\n",
       "    .dataframe thead th {\n",
       "        text-align: right;\n",
       "    }\n",
       "</style>\n",
       "<table border=\"1\" class=\"dataframe\">\n",
       "  <thead>\n",
       "    <tr style=\"text-align: right;\">\n",
       "      <th></th>\n",
       "      <th>link</th>\n",
       "      <th>reviews</th>\n",
       "      <th>size</th>\n",
       "      <th>comfort</th>\n",
       "      <th>quantification</th>\n",
       "      <th>stars</th>\n",
       "    </tr>\n",
       "  </thead>\n",
       "  <tbody>\n",
       "    <tr>\n",
       "      <th>0</th>\n",
       "      <td>https://www.adidas.co.in/gazelle-shoes/IG1062....</td>\n",
       "      <td>6</td>\n",
       "      <td>NaN</td>\n",
       "      <td>4.833333</td>\n",
       "      <td>5.000000</td>\n",
       "      <td>4.8</td>\n",
       "    </tr>\n",
       "    <tr>\n",
       "      <th>1</th>\n",
       "      <td>https://www.adidas.co.in/gazelle-bold-shoes/ID...</td>\n",
       "      <td>530</td>\n",
       "      <td>NaN</td>\n",
       "      <td>4.445283</td>\n",
       "      <td>4.698113</td>\n",
       "      <td>4.7</td>\n",
       "    </tr>\n",
       "    <tr>\n",
       "      <th>2</th>\n",
       "      <td>https://www.adidas.co.in/samba-og-shoes/B75807...</td>\n",
       "      <td>7027</td>\n",
       "      <td>NaN</td>\n",
       "      <td>4.227176</td>\n",
       "      <td>4.586025</td>\n",
       "      <td>4.8</td>\n",
       "    </tr>\n",
       "    <tr>\n",
       "      <th>3</th>\n",
       "      <td>https://www.adidas.co.in/samba-og-shoes/B75806...</td>\n",
       "      <td>7027</td>\n",
       "      <td>NaN</td>\n",
       "      <td>4.227176</td>\n",
       "      <td>4.586025</td>\n",
       "      <td>4.8</td>\n",
       "    </tr>\n",
       "    <tr>\n",
       "      <th>4</th>\n",
       "      <td>https://www.adidas.co.in/superstar-shoes/EG495...</td>\n",
       "      <td>4848</td>\n",
       "      <td>NaN</td>\n",
       "      <td>4.304384</td>\n",
       "      <td>4.572814</td>\n",
       "      <td>4.8</td>\n",
       "    </tr>\n",
       "    <tr>\n",
       "      <th>...</th>\n",
       "      <td>...</td>\n",
       "      <td>...</td>\n",
       "      <td>...</td>\n",
       "      <td>...</td>\n",
       "      <td>...</td>\n",
       "      <td>...</td>\n",
       "    </tr>\n",
       "    <tr>\n",
       "      <th>392</th>\n",
       "      <td>https://www.woodlandworldwide.com/productinfo/...</td>\n",
       "      <td>0</td>\n",
       "      <td>WHITE,BLACK</td>\n",
       "      <td>0.000000</td>\n",
       "      <td>0.000000</td>\n",
       "      <td>0.0</td>\n",
       "    </tr>\n",
       "    <tr>\n",
       "      <th>393</th>\n",
       "      <td>https://www.woodlandworldwide.com/productinfo/...</td>\n",
       "      <td>0</td>\n",
       "      <td>WHITE</td>\n",
       "      <td>0.000000</td>\n",
       "      <td>0.000000</td>\n",
       "      <td>0.0</td>\n",
       "    </tr>\n",
       "    <tr>\n",
       "      <th>394</th>\n",
       "      <td>https://www.woodlandworldwide.com/productinfo/...</td>\n",
       "      <td>0</td>\n",
       "      <td>DSKY BLUE,DESERT ROSE</td>\n",
       "      <td>0.000000</td>\n",
       "      <td>0.000000</td>\n",
       "      <td>0.0</td>\n",
       "    </tr>\n",
       "    <tr>\n",
       "      <th>395</th>\n",
       "      <td>https://www.woodlandworldwide.com/productinfo/...</td>\n",
       "      <td>0</td>\n",
       "      <td>RED</td>\n",
       "      <td>0.000000</td>\n",
       "      <td>0.000000</td>\n",
       "      <td>0.0</td>\n",
       "    </tr>\n",
       "    <tr>\n",
       "      <th>396</th>\n",
       "      <td>https://www.woodlandworldwide.com/productinfo/...</td>\n",
       "      <td>0</td>\n",
       "      <td>NUDE</td>\n",
       "      <td>0.000000</td>\n",
       "      <td>0.000000</td>\n",
       "      <td>0.0</td>\n",
       "    </tr>\n",
       "  </tbody>\n",
       "</table>\n",
       "<p>397 rows × 6 columns</p>\n",
       "</div>"
      ],
      "text/plain": [
       "                                                  link reviews  \\\n",
       "0    https://www.adidas.co.in/gazelle-shoes/IG1062....       6   \n",
       "1    https://www.adidas.co.in/gazelle-bold-shoes/ID...     530   \n",
       "2    https://www.adidas.co.in/samba-og-shoes/B75807...    7027   \n",
       "3    https://www.adidas.co.in/samba-og-shoes/B75806...    7027   \n",
       "4    https://www.adidas.co.in/superstar-shoes/EG495...    4848   \n",
       "..                                                 ...     ...   \n",
       "392  https://www.woodlandworldwide.com/productinfo/...       0   \n",
       "393  https://www.woodlandworldwide.com/productinfo/...       0   \n",
       "394  https://www.woodlandworldwide.com/productinfo/...       0   \n",
       "395  https://www.woodlandworldwide.com/productinfo/...       0   \n",
       "396  https://www.woodlandworldwide.com/productinfo/...       0   \n",
       "\n",
       "                      size   comfort  quantification  stars  \n",
       "0                      NaN  4.833333        5.000000    4.8  \n",
       "1                      NaN  4.445283        4.698113    4.7  \n",
       "2                      NaN  4.227176        4.586025    4.8  \n",
       "3                      NaN  4.227176        4.586025    4.8  \n",
       "4                      NaN  4.304384        4.572814    4.8  \n",
       "..                     ...       ...             ...    ...  \n",
       "392            WHITE,BLACK  0.000000        0.000000    0.0  \n",
       "393                  WHITE  0.000000        0.000000    0.0  \n",
       "394  DSKY BLUE,DESERT ROSE  0.000000        0.000000    0.0  \n",
       "395                    RED  0.000000        0.000000    0.0  \n",
       "396                   NUDE  0.000000        0.000000    0.0  \n",
       "\n",
       "[397 rows x 6 columns]"
      ]
     },
     "execution_count": 56,
     "metadata": {},
     "output_type": "execute_result"
    }
   ],
   "source": [
    "df3"
   ]
  },
  {
   "cell_type": "code",
   "execution_count": 62,
   "id": "f600be53",
   "metadata": {},
   "outputs": [
    {
     "name": "stdout",
     "output_type": "stream",
     "text": [
      "[(4.833333333333333,)]\n"
     ]
    }
   ],
   "source": [
    "connection = sqlite3.connect('table1.shoes.dp')\n",
    "cursor = connection.cursor()\n",
    "\n",
    "query11 = \"\"\"\n",
    "SELECT AVG(COALESCE(comfort, 0)) AS average_comfort_stars\n",
    "FROM table3\n",
    "WHERE link = 'https://www.adidas.co.in/gazelle-shoes/IG1062.html';\n",
    "\"\"\"\n",
    "cursor.execute(query11)\n",
    "\n",
    "result11 = cursor.fetchall()\n",
    "print(result11)\n",
    "\n",
    "cursor.close()\n",
    "connection.close()\n"
   ]
  },
  {
   "cell_type": "markdown",
   "id": "544c7d37",
   "metadata": {},
   "source": [
    "2  Write a query to retrieve products with high star ratings (e.g., 4 stars or above)\n",
    "\n"
   ]
  },
  {
   "cell_type": "code",
   "execution_count": 63,
   "id": "4fa7c513",
   "metadata": {},
   "outputs": [
    {
     "name": "stdout",
     "output_type": "stream",
     "text": [
      "[(0, 'https://www.adidas.co.in/gazelle-shoes/IG1062.html', '6', None, 4.833333333333333, 5.0, 4.8), (1, 'https://www.adidas.co.in/gazelle-bold-shoes/ID6990.html', '530', None, 4.445283018867925, 4.69811320754717, 4.7), (2, 'https://www.adidas.co.in/samba-og-shoes/B75807.html', '7027', None, 4.227175616009116, 4.586025330866657, 4.8), (3, 'https://www.adidas.co.in/samba-og-shoes/B75806.html', '7027', None, 4.227175616009116, 4.586025330866657, 4.8), (4, 'https://www.adidas.co.in/superstar-shoes/EG4959.html', '4848', None, 4.304383788254756, 4.572813531353136, 4.8), (5, 'https://www.adidas.co.in/gazelle-shoes/IG4988.html', '5', None, 3.8, 3.8, 4.0), (6, 'https://www.adidas.co.in/stan-smith-shoes/Q47225.html', '91', None, 3.934065934065934, 4.307692307692308, 4.2), (7, 'https://www.adidas.co.in/superstar-xlg-shoes/IG9777.html', '57', None, 4.280701754385965, 4.543859649122807, 4.8), (10, 'https://www.adidas.co.in/falcon-shoes/IG8301.html', '10', None, 4.6, 4.8, 4.8), (11, 'https://www.adidas.co.in/falcon-shoes/IG5732.html', '10', None, 4.6, 4.8, 4.8), (15, 'https://www.adidas.co.in/gazelle-spzl-shoes/IF5787.html', '13', None, 4.384615384615385, 3.769230769230769, 4.2), (16, 'https://www.adidas.co.in/superstar-xlg-shoes/IF3001.html', '29', None, 4.655172413793103, 4.896551724137931, 4.8), (17, 'https://www.adidas.co.in/falcon-shoes/IE8204.html', '10', None, 4.6, 4.8, 4.8), (18, 'https://www.adidas.co.in/falcon-shoes/IE8203.html', '10', None, 4.6, 4.8, 4.8), (19, 'https://www.adidas.co.in/forum-boot-shoes/IE7205.html', '3', None, 4.333333333333333, 4.333333333333333, 4.7), (20, 'https://www.adidas.co.in/ozmillen-shoes/IE3517.html', '6', None, 4.166666666666667, 4.166666666666667, 4.7), (22, 'https://www.adidas.co.in/stan-smith-shoes/IE0459.html', '1', None, 5.0, 5.0, 5.0), (26, 'https://www.adidas.co.in/superstar-shoes/FV3285.html', '260', None, 4.161538461538462, 4.473076923076923, 4.6), (27, 'https://www.adidas.co.in/superstar-shoes/FV3284.html', '260', None, 4.161538461538462, 4.473076923076923, 4.6), (29, 'https://www.adidas.co.in/superstar-shoes/IG3147.html', '28', None, 4.5, 4.642857142857143, 4.6), (30, 'https://www.adidas.co.in/superstar-shoes/IG3146.html', '28', None, 4.5, 4.642857142857143, 4.6), (32, 'https://www.adidas.co.in/superstar-xlg-shoes/IG0735.html', '106', None, 4.613207547169812, 4.79245283018868, 4.8), (33, 'https://www.adidas.co.in/superstar-xlg-shoes/IF9995.html', '57', None, 4.280701754385965, 4.543859649122807, 4.8), (34, 'https://www.adidas.co.in/superstar-xlg-shoes/IF8114.html', '107', None, 4.607476635514018, 4.785046728971962, 4.8), (35, 'https://www.adidas.co.in/superstar-xlg-shoes/IF8068.html', '57', None, 4.280701754385965, 4.543859649122807, 4.8), (36, 'https://www.adidas.co.in/superstar-shoes/IF7690.html', '28', None, 4.5, 4.642857142857143, 4.6), (37, 'https://www.adidas.co.in/superstar-bonega-2b-shoes/IF7683.html', '1', None, 5.0, 5.0, 5.0), (40, 'https://www.adidas.co.in/superstar-xlg-shoes/IF3004.html', '29', None, 4.655172413793103, 4.896551724137931, 4.8), (41, 'https://www.adidas.co.in/superstar-xlg-shoes/IF3003.html', '29', None, 4.655172413793103, 4.896551724137931, 4.8), (43, 'https://www.adidas.co.in/superstar-xlg-shoes/IE9872.html', '152', None, 4.256578947368421, 4.697368421052632, 4.8), (45, 'https://www.adidas.co.in/adidas-pro-model-80-poochie/IE7563.html', '34', None, 4.117647058823529, 4.617647058823529, 4.9), (46, 'https://www.adidas.co.in/superstar-xlg-shoes/IE5195.html', '10', None, 4.0, 4.3, 4.6), (47, 'https://www.adidas.co.in/superstar-lux-shoes/IE2302.html', '14', None, 4.285714285714286, 4.642857142857143, 4.4), (48, 'https://www.columbia.com/p/mens-granite-trail-waterproof-shoe-2053211.html?dwvar_2053211_color=231', '18', None, None, None, 4.6667), (49, 'https://www.columbia.com/p/womens-facet-75-mid-outdry-shoe-2027201.html?dwvar_2027201_color=553', '31', None, None, None, 4.3548), (50, 'https://www.columbia.com/p/mens-pfg-pro-sport-shoe-2041001.html?dwvar_2041001_color=383', '60', None, None, None, 4.2333), (51, 'https://www.columbia.com/p/womens-minx-slip-iv-boot-1950851.html?dwvar_1950851_color=125', '97', None, None, None, 4.3402), (52, 'https://www.columbia.com/p/womens-pfg-bonehead-shoe-1987151.html?dwvar_1987151_color=103', '61', None, None, None, 4.3934), (53, 'https://www.columbia.com/p/womens-granite-trail-mid-waterproof-shoe-2053221.html?dwvar_2053221_color=033', '6', None, None, None, 4.6667), (54, 'https://www.columbia.com/p/mens-gunnison-ii-omni-heat-boot-1862291.html?dwvar_1862291_color=231', '234', None, None, None, 4.3718), (55, 'https://www.columbia.com/p/mens-fairbanks-omni-heat-boot---wide-1746012.html?dwvar_1746012_color=288', '481', None, None, None, 4.2453), (56, 'https://www.columbia.com/p/womens-trailstorm-ascend-mid-waterproof-shoe-2044351.html?dwvar_2044351_color=342', '2', None, None, None, 5.0), (57, 'https://www.columbia.com/p/little-kids-powderbug-plus-ii-snow-boot-1637872.html?dwvar_1637872_color=010', '126', None, None, None, 4.4048), (58, 'https://www.columbia.com/p/mens-pfg-bahama-vent-loco-relaxed-iii-shoe-1889601.html?dwvar_1889601_color=053', '139', None, None, None, 4.4676), (59, 'https://www.columbia.com/p/womens-granite-trail-waterproof-shoe-2053241.html?dwvar_2053241_color=342', '23', None, None, None, 4.6522), (60, 'https://www.columbia.com/p/mens-bugaboot-iii-boot---wide-1791222.html?dwvar_1791222_color=010', '777', None, None, None, 4.5341), (61, 'https://www.columbia.com/p/womens-ice-maiden-ii-boot---wide-1554172.html?dwvar_1554172_color=232', '1030', None, None, None, 4.5282), (62, 'https://www.columbia.com/p/mens-fairbanks-omni-heat-boot-1746011.html?dwvar_1746011_color=288', '1406', None, None, None, 4.4218), (63, 'https://www.columbia.com/p/mens-bahama-vent-relaxed-pfg-shoe---wide-1661512.html?dwvar_1661512_color=023', '121', None, None, None, 4.2562), (65, 'https://www.columbia.com/p/mens-pfg-bahama-vent-shoe-1673141.html?dwvar_1673141_color=037', '670', None, None, None, 4.5597), (66, 'https://www.columbia.com/p/mens-newton-ridge-waterproof-omni-heat-ii-boot-2056191.html?dwvar_2056191_color=240', '4', None, None, None, 5.0), (67, 'https://www.columbia.com/p/womens-newton-ridge-bc-boot-2044571.html?dwvar_2044571_color=252', '6', None, None, None, 5.0), (68, 'https://www.columbia.com/p/mens-granite-trail-mid-waterproof-shoe-2053201.html?dwvar_2053201_color=089', '8', None, None, None, 4.75), (69, 'https://www.columbia.com/p/mens-newton-ridge-hiking-boot-1594731.html?dwvar_1594731_color=289', '1443', None, None, None, 4.5059), (70, 'https://www.columbia.com/p/womens-bugaboot-iii-boot-1791281.html?dwvar_1791281_color=010', '195', None, None, None, 4.3128), (71, 'https://www.columbia.com/p/womens-newton-ridge-plus-waterproof-hiking-boot-1424692.html?dwvar_1424692_color=052', '2616', None, None, None, 4.6411), (72, 'https://www.columbia.com/p/mens-bahama-vent-relaxed-pfg-shoe-1661511.html?dwvar_1661511_color=210', '427', None, None, None, 4.6042), (73, 'https://www.columbia.com/p/mens-pfg-tamiami-shoe-1927991.html?dwvar_1927991_color=099', '197', None, None, None, 4.4264), (74, 'https://www.columbia.com/p/mens-bugaboot-iii-boot-1791221.html?dwvar_1791221_color=010', '788', None, None, None, 4.4873), (75, 'https://www.columbia.com/p/big-kids-bahama-pfg-shoe-1826931.html?dwvar_1826931_color=036', '39', None, None, None, 4.4615), (76, 'https://www.columbia.com/p/mens-pfg-tidal-ray-flip-flop-1982241.html?dwvar_1982241_color=005', '43', None, None, None, 4.2326), (77, 'https://www.columbia.com/p/mens-pfg-bahama-vent-shoe---wide-1673142.html?dwvar_1673142_color=278', '242', None, None, None, 4.4669), (79, 'https://www.columbia.com/p/womens-ice-maiden-shorty-boot-1862391.html?dwvar_1862391_color=286', '206', None, None, None, 4.4612), (80, 'https://www.columbia.com/p/womens-minx-shorty-iii-boot-1803151.html?dwvar_1803151_color=212', '1648', None, None, None, 4.4715), (81, 'https://www.columbia.com/p/mens-facet-75-mid-outdry-shoe-2027051.html?dwvar_2027051_color=383', '42', None, None, None, 4.4762), (82, 'https://www.columbia.com/p/mens-granite-trail-waterproof-shoe---wide-2053212.html?dwvar_2053212_color=213', '12', None, None, None, 4.0833), (85, 'https://www.columbia.com/p/mens-woodburn-ii-waterproof-shoe-1553001.html?dwvar_1553001_color=231', '66', None, None, None, 4.5303), (86, 'https://www.columbia.com/p/mens-pfg-bonehead-shoe---wide-1987132.html?dwvar_1987132_color=271', '37', None, None, None, 4.2703), (87, 'https://www.columbia.com/p/womens-newton-ridge-plus-waterproof-amped-hiking-boot-1718821.html?dwvar_1718821_color=204', '3055', None, None, None, 4.6628), (88, 'https://www.columbia.com/p/mens-pfg-bonehead-shoe-1987131.html?dwvar_1987131_color=088', '74', None, None, None, 4.3378), (90, 'https://www.columbia.com/p/little-kids-bahama-pfg-shoe-1826932.html?dwvar_1826932_color=227', '27', None, None, None, 4.4815), (91, 'https://www.columbia.com/p/mens-telluron-omni-heat-ii-boot-1928751.html?dwvar_1928751_color=010', '7', None, None, None, 4.7143), (93, 'https://www.columbia.com/p/mens-newton-ridge-plus-ii-suede-waterproof-hiking-boot-1746411.html?dwvar_1746411_color=217', '826', None, None, None, 4.5254), (94, 'https://www.columbia.com/p/mens-expeditionist-shield-boot-2053421.html?dwvar_2053421_color=373', '15', None, None, None, 4.8667), (95, 'https://www.columbia.com/p/womens-pfg-pro-sport-shoe-2040521.html?dwvar_2040521_color=063', '15', None, None, None, 4.4667), (96, 'https://www.columbia.com/p/womens-pfg-tamiami%C2%A0backcast-shoe-2027111.html?dwvar_2027111_color=063', '6', None, None, None, 5.0), (97, 'https://www.columbia.com/p/mens-pfg-slack-tide-boat-shoe-2027031.html?dwvar_2027031_color=088', '8', None, None, None, 4.25), (98, 'https://www.columbia.com/p/womens-firecamp-boot---wide-1800312.html?dwvar_1800312_color=010', '25', None, None, None, 4.32), (99, 'https://www.columbia.com/p/womens-ice-maiden-ii-boot-1554171.html?dwvar_1554171_color=288', '2151', None, None, None, 4.6239), (100, 'https://www.columbia.com/p/womens-newton-ridge-waterproof-omni-heat-ii-boot-2056181.html?dwvar_2056181_color=089', '15', None, None, None, 4.7333), (101, 'https://www.columbia.com/p/womens-moritza-boot-2005041.html?dwvar_2005041_color=286', '76', None, None, None, 4.6579), (102, 'https://www.columbia.com/p/womens-bugaboot-celsius-plus-boot-1945421.html?dwvar_1945421_color=081', '39', None, None, None, 4.4359), (103, 'https://www.columbia.com/p/womens-minx-mid-iii-boot-1803121.html?dwvar_1803121_color=383', '1431', None, None, None, 4.4605), (104, 'https://www.columbia.com/p/big-kids-newton-ridge-amped-boot-2044121.html?dwvar_2044121_color=288', '2', None, None, None, 4.5), (105, 'https://www.columbia.com/p/womens-minx-shorty-iii-boot---wide-1803152.html?dwvar_1803152_color=053', '454', None, None, None, 4.293), (106, 'https://www.columbia.com/p/mens-pfg-bahama-vent-loco-relaxed-iii-shoe---wide-1889602.html?dwvar_1889602_color=053', '39', None, None, None, 4.0256), (107, 'https://www.nike.com/t/phoenix-waffle-womens-shoes-CDl2fm/FD2196-100', '33', '10.5,7.5,12,5.5,6.5,9.5,7,11.5,6,10,5,8.5,9,11,8', 1.86, 1.14, 4.5), (108, 'https://www.nike.com/t/dunk-high-womens-shoes-LwCxXJ/DD1869-107', '518', '10.5,7.5,12,5.5,6.5,9.5,7,11.5,6,10,5,8.5,9,11,8', 1.76, 1.03, 4.8), (110, 'https://www.nike.com/t/metcon-9-womens-workout-shoes-xMlsHx/DZ2537-002', '34', '10.5,7.5,12,15,5.5,6.5,9.5,7,11.5,6,10,5,8.5,9,11,13,8,14', 1.48, 0.83, 4.4), (111, 'https://www.nike.com/t/dunk-low-womens-shoes-4W2Z5P/DD1503-101', '619', '10.5,7.5,12,5.5,6.5,9.5,7,11.5,6,10,5,8.5,9,11,8', 1.55, 0.98, 4.8), (112, 'https://www.nike.com/t/zegama-womens-trail-running-shoes-FWN4lV/DH0625-005', '72', '10.5,7.5,12,5.5,6.5,9.5,7,11.5,6,10,5,8.5,9,11,8', 1.89, 0.94, 4.8), (113, 'https://www.nike.com/t/air-max-270-womens-shoes-Pgb94t/AH6789-703', '3686', '10.5,7.5,12,5.5,6.5,9.5,7,11.5,6,10,5,8.5,9,11,8', 1.68, 0.72, 4.7), (114, 'https://www.nike.com/t/court-legacy-lift-womens-shoes-x0B6BB/DM7590-200', '297', '10.5,7.5,12,5.5,6.5,9.5,7,11.5,6,10,5,8.5,9,11,8', 1.51, 1.17, 4.6), (116, 'https://www.nike.com/t/v2k-run-womens-shoes-nRRH5X/FD0736-103', '22', '10.5,7.5,12,5.5,6.5,9.5,7,11.5,6,10,5,8.5,9,11,8', 1.82, 1.0, 5.0), (117, 'https://www.nike.com/t/court-vision-low-next-nature-womens-shoes-ZkMMBG/DH3158-102', '200', '10.5,7.5,12,5.5,6.5,9.5,7,11.5,6,10,5,8.5,9,11,8', 1.55, 1.18, 4.6), (118, 'https://www.nike.com/t/v2k-run-womens-shoes-nRRH5X/FD0736-003', '22', '10.5,7.5,12,5.5,6.5,9.5,7,11.5,6,10,5,8.5,9,11,8', 1.82, 1.0, 5.0), (119, 'https://www.nike.com/t/waffle-debut-vintage-womens-shoes-rfRkv2/DX2931-200', '41', '10.5,7.5,12,5.5,6.5,9.5,7,11.5,6,10,5,8.5,9,11,8', 1.85, 0.85, 4.6), (122, 'https://www.nike.com/t/waffle-debut-womens-shoes-5Rl1KL/DH9523-105', '634', '10.5,7.5,12,5.5,6.5,9.5,7,11.5,6,10,5,8.5,9,11,8', 1.8, 0.77, 4.7), (123, 'https://www.nike.com/t/waffle-debut-womens-shoes-5Rl1KL/DH9523-100', '634', '10.5,7.5,12,5.5,6.5,9.5,7,11.5,6,10,5,8.5,9,11,8', 1.8, 0.77, 4.7), (124, 'https://www.nike.com/t/waffle-debut-vintage-womens-shoes-rfRkv2/DX2931-400', '41', '10.5,7.5,12,5.5,6.5,9.5,7,11.5,6,10,5,8.5,9,11,8', 1.85, 0.85, 4.6), (125, 'https://www.nike.com/t/air-max-90-futura-womens-shoes-kvRZ4h/DV7190-200', '9', '10.5,7.5,12,5.5,6.5,9.5,7,11.5,6,10,5,8.5,9,11,8', None, None, 4.3), (127, 'https://www.nike.com/t/vomero-5-womens-shoes-ZnKVhN/FN7196-663', '1', '10.5,7.5,12,5.5,6.5,9.5,7,11.5,6,10,5,8.5,9,11,8', 2.0, 1.0, 5.0), (128, 'https://www.nike.com/t/gamma-force-womens-shoes-4TR9Xf/DX9176-103', '148', '10.5,7.5,12,5.5,6.5,9.5,7,11.5,6,10,5,8.5,9,11,8', 1.51, 1.2, 4.5), (129, 'https://www.nike.com/t/air-force-1-wild-womens-shoes-r7kSSl/FB2348-003', '24', '10.5,5.5,6.5,9.5,11.5,10,5,8.5,13,7.5,15,7,6,11,14,16,4,12.5,3.5,4.5,9,12,8', 1.71, 1.13, 4.5), (130, 'https://www.nike.com/t/cortez-txt-womens-shoes-6Q4TgR/DZ2795-001', '7', '10.5,7.5,12,5.5,6.5,9.5,7,11.5,6,10,5,8.5,9,11,8', 1.0, 1.0, 4.3), (131, 'https://www.nike.com/t/pegasus-40-womens-road-running-shoes-wide-L80k6C/FN7991-007', '146', '10.5,7.5,12,5.5,6.5,9.5,7,11.5,6,10,5,8.5,9,11,8', 1.8, 1.19, 4.6), (132, 'https://www.nike.com/t/free-metcon-5-womens-workout-shoes-h4Zl5h/DV3950-201', '308', '10.5,7.5,12,15,5.5,6.5,9.5,7,11.5,6,10,5,8.5,9,11,13,8,14', 1.78, 0.9, 4.7), (133, 'https://www.nike.com/t/pegasus-trail-4-womens-trail-running-shoes-CQT261/DJ6159-005', '316', '10.5,7.5,12,5.5,6.5,9.5,7,11.5,6,10,5,8.5,9,11,8', 1.83, 0.88, 4.7), (135, 'https://www.nike.com/t/dbreak-premium-womens-shoes-61jl9b/DR5377-001', '1', '10.5,7.5,12,5.5,6.5,9.5,7,11.5,6,10,5,8.5,9,11,8', None, None, 5.0), (137, 'https://www.nike.com/t/air-vapormax-plus-womens-shoes-xbt7zf/FQ8895-100', '2', '10.5,7.5,12,5.5,6.5,9.5,7,11.5,6,10,5,8.5,9,11,8', 2.0, 1.0, 5.0), (138, 'https://www.nike.com/t/interact-run-womens-road-running-shoes-v5LlQl/FD2292-007', '28', '10.5,7.5,12,5.5,6.5,9.5,7,11.5,6,10,5,8.5,9,11,8', 1.86, 0.9, 4.6), (139, 'https://www.nike.com/t/killshot-2-womens-shoes-ZmzdkQ/FZ5630-101', '1', '10.5,5.5,6.5,9.5,11.5,10,5,8.5,13,15.5,7.5,7,6,11,13.5,4,12.5,14.5,3.5,4.5,9,12,8', 1.0, 1.0, 5.0), (140, 'https://www.nike.com/t/cortez-womens-shoes-tZtTd5/DN1791-105', '57', '10.5,7.5,12,5.5,6.5,9.5,7,11.5,6,10,5,8.5,9,11,8', None, None, 4.5), (141, 'https://www.nike.com/t/vomero-5-womens-shoes-26nkFx/FN7778-600', '4', '10.5,7.5,12,5.5,6.5,9.5,7,11.5,6,10,5,8.5,9,11,8', 2.0, 1.0, 5.0), (142, 'https://www.nike.com/t/revolution-7-womens-road-running-shoes-wP5p63/FB2208-007', '13', '10.5,7.5,12,5.5,6.5,9.5,7,11.5,6,10,5,8.5,9,11,8', None, None, 4.0), (143, 'https://www.nike.com/t/blazer-mid-77-womens-shoes-NPWfjm/CZ1055-100', '708', '10.5,7.5,12,5.5,6.5,9.5,7,11.5,6,10,5,8.5,9,11,8', 1.31, 0.95, 4.6), (144, 'https://www.nike.com/t/waffle-one-womens-shoes-qk5cz3/DC2533-103', '285', '10.5,7.5,12,5.5,6.5,9.5,7,11.5,6,10,5,8.5,9,11,8', 1.49, 1.01, 4.6), (145, 'https://us.puma.com/us/en/pd/blktop-rider-lithium-mens-sneakers/393152', '2', '7,7.5,8,8.5,9,9.5,10,10.5,11,11.5,12,13,14', 0.0, 0.0, 5.0), (147, 'https://us.puma.com/us/en/pd/ca-pro-heritage-sneakers/397572', '2', '4,4.5,5,5.5,6,6.5,7,7.5,8,8.5,9,9.5,10,10.5,11,11.5,12,13,14', 0.0, 0.0, 4.5), (148, 'https://us.puma.com/us/en/pd/shibui-cat-slides/385296', '19', '4,5,6,7,8,9,10,11,12,13,14', 0.0, 0.0, 4.3), (150, 'https://us.puma.com/us/en/pd/puma-x-lamelo-ball-mb-03-lafranc%C3%A9-mens-basketball-shoes/379233', '26', '4.5,5,6,6.5,7,7.5,8,8.5,9,9.5,10,10.5,11,11.5,12,13,14,15,16,18', 0.0, 0.0, 4.0), (151, 'https://us.puma.com/us/en/pd/porsche-legacy-speedfusion-mens-driving-shoes/307778', '10', '7,7.5,8,8.5,9,9.5,10,10.5,11,11.5,12,13', 0.0, 0.0, 4.3), (153, 'https://us.puma.com/us/en/pd/puma-x-lamelo-ball-mb-03-toxic-mens-basketball-shoes/378916', '72', '4,4.5,5,5.5,6,6.5,7,7.5,8,8.5,9,9.5,10,10.5,11,11.5,12,13,14,15,16,17,18', 0.0, 0.0, 4.2), (154, 'https://us.puma.com/us/en/pd/voltaic-evo-running-shoe/379601', '1', '7,7.5,8,8.5,9,9.5,10,10.5,11,11.5,12,13,14', 0.0, 0.0, 5.0), (155, 'https://us.puma.com/us/en/pd/suede-classic-xxi-sneakers/374915', '420', '4,4.5,5,5.5,6,6.5,7,7.5,8,8.5,9,9.5,10,10.5,11,11.5,12,13,14,15', 0.0, 0.0, 4.2), (156, 'https://us.puma.com/us/en/pd/speedcat-shield-sd-driving-shoes/387272', '63', None, 0.0, 0.0, 4.7), (158, 'https://us.puma.com/us/en/pd/ca-pro-classic-sneakers/380190', '55', '7,7.5,8,8.5,9,9.5,10,10.5,11,11.5,12,13,14', 0.0, 0.0, 4.1), (159, 'https://us.puma.com/us/en/pd/gv-special%2B-mens-sneakers/366613', '83', '7,7.5,8,8.5,9,9.5,10,10.5,11,11.5,12,13,14', 0.0, 0.0, 4.1), (160, 'https://us.puma.com/us/en/pd/fenty-x-puma-creeper-phatty-mens-sneakers/396403', '2', '4,4.5,5,5.5,6,6.5,7,7.5,8,8.5,9,9.5,10,10.5,11,11.5,12,13,14,15,16', 0.0, 0.0, 5.0), (161, 'https://us.puma.com/us/en/pd/cali-womens-sneakers/369155', '162', '5.5,6,6.5,7,7.5,8,8.5,9,9.5,10,10.5,11', 0.0, 0.0, 4.1), (162, 'https://us.puma.com/us/en/pd/suede-classic-xxi-womens-sneakers/381410', '160', '5.5,6,6.5,7,7.5,8,8.5,9,9.5,10,10.5,11', 0.0, 0.0, 4.2), (163, 'https://us.puma.com/us/en/pd/mayze-womens-sneakers/381983', '55', '6,6.5,7,7.5,8,8.5,9,9.5,10,10.5,11', 0.0, 0.0, 4.4), (164, 'https://us.puma.com/us/en/pd/cali-wedge-womens-sneakers/373438', '104', '5.5,6,6.5,7,7.5,8,8.5,9,9.5,10,10.5,11', 0.0, 0.0, 4.7), (165, 'https://us.puma.com/us/en/pd/mercedes-amg-petronas-f1-future-cat-og-mens-shoes/307891', '8', '4,4.5,5,5.5,6,6.5,7,7.5,8,8.5,9,9.5,10,10.5,11,11.5,12,13,14', 0.0, 0.0, 4.6), (166, 'https://us.puma.com/us/en/pd/porsche-legacy-speedcat-driving-shoes/307211', '18', '4,4.5,5,5.5,6.5,7,7.5,8,8.5,9,9.5,10,10.5,11,11.5,12,13,14', 0.0, 0.0, 4.2), (167, 'https://us.puma.com/us/en/pd/teveris-nitro%E2%84%A2-nyc-mens-sneakers/396106', '2', '7,7.5,8,8.5,9,9.5,10,10.5,11,11.5,12,13', 0.0, 0.0, 4.0), (168, 'https://us.puma.com/us/en/pd/future-rider-camo-flagship-mens-sneakers/391610', '10', '4,4.5,5,5.5,6,6.5,7,7.5,8,8.5,9,9.5,10,10.5,11,11.5,12,14', 0.0, 0.0, 4.5), (169, 'https://us.puma.com/us/en/pd/fenty-x-puma-avanti-l-mens-sneakers/398352', '4', '7,7.5,8,8.5,9,9.5,10,10.5,11,11.5,12,13,14', 0.0, 0.0, 5.0), (171, 'https://us.puma.com/us/en/pd/rs-x-faded-daytona-sneakers/394981', '14', '4,4.5,5,5.5,7,7.5,8,8.5,9,9.5,10,10.5,11,11.5,12', 0.0, 0.0, 4.3), (172, 'https://us.puma.com/us/en/pd/ca-pro-velour-sneakers/397112', '1', '4,4.5,5,5.5,6,6.5,7,7.5,8,8.5,9,9.5,10,10.5,11,11.5,12,13,14', 0.0, 0.0, 5.0), (175, 'https://us.puma.com/us/en/pd/puma-x-lamelo-ball-mb-01-lo-mens-basketball-shoes/376941', '37', '7,7.5,8,8.5,9,9.5,10,10.5,11,11.5,12,13,16', 0.0, 0.0, 4.1), (176, 'https://us.puma.com/us/en/pd/cali-dream-west-coast-leather-womens-sneakers/392730', '9', '5.5,6,6.5,7,7.5,8,8.5,9,9.5,10,10.5,11', 0.0, 0.0, 4.1), (177, 'https://us.puma.com/us/en/pd/rs-x-soft-womens-sneakers/393772', '3', '5.5,6,6.5,7,7.5,8,8.5,9,9.5,10,10.5,11', 0.0, 0.0, 4.7), (178, 'https://us.puma.com/us/en/pd/fenty-x-puma-avanti-l-womens-sneakers/399262', '49', '5.5,6,6.5,7,7.5,8,8.5,9,9.5,10,10.5,11', 0.0, 0.0, 4.6), (179, 'https://us.puma.com/us/en/pd/foreverrun-nitro%E2%84%A2-knit-womens-running-shoes/379140', '1', '6.5,7,7.5,8,8.5,9,9.5,10,10.5,11', 0.0, 0.0, 5.0), (182, 'https://us.puma.com/us/en/pd/rs-x-hi-mens-sneakers/392718', '1', '7,7.5,8,8.5,9,9.5,10,10.5,11,11.5,12,13,14', 0.0, 0.0, 4.0), (185, 'https://us.puma.com/us/en/pd/fenty-x-puma-creeper-phatty-womens-sneakers/399332', '6', '5.5,6,6.5,7,7.5,8,8.5,9,9.5,10,10.5,11', 0.0, 0.0, 4.5), (187, 'https://us.puma.com/us/en/pd/puma-hoops-x-gremlins-all-pro-nitro%E2%84%A2-mens-basketball-shoes/379303', '1', '4,4.5,5,5.5,6,6.5,7,7.5,8,8.5,9,9.5,10,10.5,11,11.5,12,13,14,15,16,17,18', 0.0, 0.0, 5.0), (189, 'https://us.puma.com/us/en/pd/suede-gum-mens-sneakers/381174', '13', '7,7.5,8,8.5,9,9.5,10,10.5,11,11.5,12,13,14', 0.0, 0.0, 4.3), (190, 'https://us.puma.com/us/en/pd/puma-x-sparco-future-cat-og-driving-shoes/307936', '16', '4.5,5,5.5,6,6.5,7,7.5,8,8.5,9,9.5,10,10.5,11,11.5,12,13,14', 0.0, 0.0, 4.8), (193, 'https://us.puma.com/us/en/pd/roma-classic-gum-sneakers/366408', '36', '4,4.5,5,6,7,7.5,8,8.5,9,9.5,10,10.5,11,11.5,12,13,14', 0.0, 0.0, 4.1), (195, 'https://www.skechers.com/skechers-slip-ins-bobs-sport-squad-chaos/117500_ROS.html', '304 Reviews', '5.0,6.0,6.5,7.0,7.5,8.0,8.5,9.0,9.5,10.0,11.0', 0.0, 0.0, 4.75), (197, 'https://www.skechers.com/skechers-slip-ins-ultra-flex-3.0---brilliant/149710_PERI.html', '964 Reviews', '5.0,5.5,6.0,6.5,7.0,7.5,8.0,8.5,9.0,9.5,10.0,11.0', 0.0, 0.0, 4.75), (198, 'https://www.skechers.com/skechers-slip-ins-ultra-flex-3.0/150174_WHT.html', '12 Reviews', '6.5,7.0,7.5,8.0,8.5,9.0,9.5,10.0,11.0', 0.0, 0.0, 4.5), (200, 'https://www.skechers.com/skechers-slip-ins-ultra-flex-3.0---smooth-step/149709_MVE.html', '501 Reviews', '5.0,5.5,6.0,6.5,7.0,7.5,8.0,8.5,9.0,9.5,10.0,11.0', 0.0, 0.0, 4.75), (201, 'https://www.skechers.com/skechers-slip-ins-ultra-flex-3.0---cozy-streak/149708_SLT.html', '210 Reviews', '5.0,5.5,6.0,6.5,7.0,7.5,8.0,8.5,9.0,9.5,10.0,11.0', 0.0, 0.0, 4.75), (202, 'https://www.skechers.com/martha-stewart-x-skechers-slip-ins-ultra-flex-3/149808_OLV.html', '12 Reviews', '5.0,5.5,6.0,6.5,7.0,7.5,8.0,8.5,9.0,9.5,10.0,11.0', 0.0, 0.0, 4.0), (203, 'https://www.skechers.com/skechers-slip-ins-summits---dazzling-haze/149937_GYMT.html', '946 Reviews', '5.5,6.0,6.5,7.0,7.5,8.0,8.5,9.0,10.0,11.0', 0.0, 0.0, 4.75), (204, 'https://www.skechers.com/skechers-slip-ins-summits---diamond-dream/150123_LAV.html', '20 Reviews', '5.0,6.5,7.5,8.0,8.5,9.0,9.5,10.0', 0.0, 0.0, 4.75), (205, 'https://www.skechers.com/martha-stewart-x-skechers-slip-ins-ultra-flex-3/158820.html', '43 Reviews', '5.0', 0.0, 0.0, 5.0), (207, 'https://www.skechers.com/skechers-slip-ins-go-walk-flex---relish/124963_NVY.html', '550 Reviews', '5.0,5.5,6.0,6.5,7.0,7.5,8.0,8.5,9.0,9.5,10.0,10.5,11.0,12.0', 0.0, 0.0, 4.5), (209, 'https://www.skechers.com/skechers-slip-ins-go-walk-flex---grand-entry/124836_OFWT.html', '8 Reviews', '5.0,5.5,6.0,6.5,7.0,7.5,8.0,8.5,9.0,9.5,10.0,11.0,12.0', 0.0, 0.0, 5.0), (215, 'https://www.skechers.com/skechers-slip-ins-go-walk-6---valentina/124566_BKMT.html', '114 Reviews', '5.0,6.0,6.5,7.0,7.5,8.0,8.5,9.0,9.5,10.0,11.0', 0.0, 0.0, 4.75), (216, 'https://www.skechers.com/skechers-slip-ins-go-walk-6---fabulous-view/124569_GRY.html', '309 Reviews', '5.0,5.5,6.0,6.5,7.0,7.5,8.0,8.5,9.0,9.5,10.0,10.5,11.0,12.0,13.0', 0.0, 0.0, 4.5), (217, 'https://www.skechers.com/skechers-slip-ins-go-walk-6---lovely-day/124568_BBK.html', '111 Reviews', '5.0,5.5,6.0,6.5,7.0,7.5', 0.0, 0.0, 4.5), (218, 'https://www.skechers.com/skechers-slip-ins-go-walk-joy---vela/124641_BKW.html', '1 Reviews', '5.0,5.5,6.0,6.5,7.0,7.5,8.0,8.5,9.0,9.5,10.0,11.0,12.0', 0.0, 0.0, 5.0), (222, 'https://www.skechers.com/skechers-slip-ins-max-cushioning-premier/220313_WBK.html', '184 Reviews', '7.0,7.5,8.0,8.5,9.0,9.5,10.0,10.5,11.0,11.5,12.0,13.0,14.0', 0.0, 0.0, 4.75), (223, 'https://www.skechers.com/skechers-slip-ins-max-cushioning---advantageous/220389_BLBK.html', '495 Reviews', '7.5,8.0,8.5,9.0,9.5,10.0,10.5,11.0,11.5,12.0,13.0', 0.0, 0.0, 4.75), (225, 'https://www.skechers.com/skechers-slip-ins-arch-fit-2.0---look-ahead/232462_WBK.html', '41 Reviews', '7.5,8.0,8.5,9.0,9.5,10.0,10.5,11.0,11.5,12.0,13.0,14.0', 0.0, 0.0, 4.75), (226, 'https://www.skechers.com/skechers-slip-ins-arch-fit-2.0---grand-select-2/216601_TPE.html', '33 Reviews', '7.0,7.5,8.0,8.5,9.0,9.5,10.0,10.5,11.0,11.5,12.0,13.0,14.0', 0.0, 0.0, 4.75), (227, 'https://www.skechers.com/skechers-slip-ins-go-walk-arch-fit---simplicity/216258.html', '195 Reviews', '7.5,8.0,8.5,9.0,9.5,10.0,10.5,11.0,12.0,13.0', 0.0, 0.0, 4.75), (228, 'https://www.skechers.com/skechers-slip-ins-go-walk-arch-fit---hands-free/216259_NVY.html', '166 Reviews', '7.5,8.0,8.5,9.0,9.5,10.0,10.5,11.0,11.5,12.0,13.0', 0.0, 0.0, 4.5), (231, 'https://www.skechers.com/skechers-slip-ins-rf-slade---ocon/210811_TPE.html', '1 Reviews', '7.0,7.5,8.0,8.5,9.0,9.5,10.0,10.5,11.0,11.5,12.0,13.0', 0.0, 0.0, 5.0), (232, 'https://www.skechers.com/skechers-slip-ins-rf-garner---newick/210803_ACDB.html', '19 Reviews', '7.0,8.0,8.5', 0.0, 0.0, 5.0), (233, 'https://www.skechers.com/skechers-slip-ins-relaxed-fit-parson---oswin/204866.html', '324 Reviews', '7.0,7.5,8.5,9.0', 0.0, 0.0, 4.75), (234, 'https://www.skechers.com/skechers-slip-ins-rf-respected---elgin/204810_RDBR.html', '104 Reviews', '7.5,8.5,9.5,10.0,10.5', 0.0, 0.0, 4.75), (235, 'https://www.skechers.com/skechers-slip-ins-rf-craster---lanigan/204847_RDBR.html', '30 Reviews', '7.5,8.0,10.0', 0.0, 0.0, 4.5), (236, 'https://www.skechers.com/skechers-slip-ins-garza---gervin/205046_CHOC.html', '49 Reviews', '7.0,8.0,10.0,12.0', 0.0, 0.0, 4.75), (238, 'https://www.skechers.com/skechers-slip-ins-relaxed-fit-knowlson---kantel/205073_CDB.html', '3 Reviews', '7.5,8.0,8.5,9.5,10.0', 0.0, 0.0, 5.0), (239, 'https://www.skechers.com/skechers-slip-ins-mn-casual-glide-cell---garret/205082_CDB.html', '4 Reviews', '7.5,8.0,8.5,9.0,9.5,10.0,10.5,11.0,11.5,12.0,13.0', 0.0, 0.0, 5.0), (240, 'https://www.skechers.com/skechers-slip-ins-mn-casual-glide-cell---gable/205074_BLK.html', '9 Reviews', '7.5,8.0,8.5,9.0,9.5,10.0,10.5,11.0,11.5,12.0,13.0', 0.0, 0.0, 4.5), (241, 'https://www.skechers.com/skechers-slip-ins-mn-casual-glide-cell---abbott/205059_COG.html', '13 Reviews', '7.5,8.0,8.5,9.0,9.5,10.0,10.5,11.0,11.5,12.0,13.0,14.0', 0.0, 0.0, 4.5), (242, 'https://www.skechers.com/skechers-slip-ins-mn-casual-glide-cell---waylen/205056_TPE.html', '1 Reviews', '8.0,8.5,9.0,9.5,10.0,10.5,11.0,11.5,12.0,13.0', 0.0, 0.0, 5.0)]\n"
     ]
    }
   ],
   "source": [
    "connection = sqlite3.connect('table1.shoes.dp')\n",
    "cursor = connection.cursor()\n",
    "\n",
    "query12 = \"\"\"\n",
    "SELECT *\n",
    "FROM table3\n",
    "WHERE stars >= 4.0;\n",
    "\"\"\"\n",
    "cursor.execute(query12)\n",
    "\n",
    "result12 = cursor.fetchall()\n",
    "print(result12)\n",
    "\n",
    "cursor.close()\n",
    "connection.close()\n"
   ]
  },
  {
   "cell_type": "markdown",
   "id": "881fa4e1",
   "metadata": {},
   "source": [
    "3 Write a query that counts the number of reviews for each product.\n",
    "\n"
   ]
  },
  {
   "cell_type": "code",
   "execution_count": 65,
   "id": "f5fcd298",
   "metadata": {},
   "outputs": [
    {
     "name": "stdout",
     "output_type": "stream",
     "text": [
      "[('https://us.puma.com/us/en/pd/basket-classic-velvet-womens-sneakers/398949', 1), ('https://us.puma.com/us/en/pd/blktop-rider-lithium-mens-sneakers/393152', 1), ('https://us.puma.com/us/en/pd/ca-pro-classic-sneakers/380190', 1), ('https://us.puma.com/us/en/pd/ca-pro-heritage-sneakers/397572', 1), ('https://us.puma.com/us/en/pd/ca-pro-velour-sneakers/397112', 1), ('https://us.puma.com/us/en/pd/cali-dream-west-coast-leather-womens-sneakers/392730', 1), ('https://us.puma.com/us/en/pd/cali-wedge-womens-sneakers/373438', 1), ('https://us.puma.com/us/en/pd/cali-womens-sneakers/369155', 1), ('https://us.puma.com/us/en/pd/fenty-x-puma-avanti-l-mens-sneakers/398352', 1), ('https://us.puma.com/us/en/pd/fenty-x-puma-avanti-l-womens-sneakers/399262', 1), ('https://us.puma.com/us/en/pd/fenty-x-puma-creeper-phatty-mens-sneakers/396403', 1), ('https://us.puma.com/us/en/pd/fenty-x-puma-creeper-phatty-womens-sneakers/399332', 1), ('https://us.puma.com/us/en/pd/foreverrun-nitro%E2%84%A2-knit-womens-running-shoes/379140', 1), ('https://us.puma.com/us/en/pd/future-rider-camo-flagship-mens-sneakers/391610', 1), ('https://us.puma.com/us/en/pd/future-rider-play-on-mens-sneakers/393473', 1), ('https://us.puma.com/us/en/pd/gv-special%2B-mens-sneakers/366613', 1), ('https://us.puma.com/us/en/pd/mayze-classic-womens-sneakers/384209', 1), ('https://us.puma.com/us/en/pd/mayze-heritage-velvet-womens-sneakers/397113', 1), ('https://us.puma.com/us/en/pd/mayze-womens-sneakers/381983', 1), ('https://us.puma.com/us/en/pd/mercedes-amg-petronas-f1-future-cat-og-mens-shoes/307891', 1), ('https://us.puma.com/us/en/pd/palermo-leather-mens-sneakers/396464', 1), ('https://us.puma.com/us/en/pd/porsche-legacy-speedcat-driving-shoes/307211', 1), ('https://us.puma.com/us/en/pd/porsche-legacy-speedfusion-mens-driving-shoes/307778', 1), ('https://us.puma.com/us/en/pd/pulsar-wedge-cat-logo-womens-sneakers/392710', 1), ('https://us.puma.com/us/en/pd/puma-hoops-x-gremlins-all-pro-nitro%E2%84%A2-mens-basketball-shoes/379303', 1), ('https://us.puma.com/us/en/pd/puma-x-lamelo-ball-lafranc%C3%A9-ca-pro-mens-sneakers/395281', 1), ('https://us.puma.com/us/en/pd/puma-x-lamelo-ball-mb-01-lo-mens-basketball-shoes/376941', 1), ('https://us.puma.com/us/en/pd/puma-x-lamelo-ball-mb-03-chino-hills-mens-basketball-shoes/379235', 1), ('https://us.puma.com/us/en/pd/puma-x-lamelo-ball-mb-03-lafranc%C3%A9-mens-basketball-shoes/379233', 1), ('https://us.puma.com/us/en/pd/puma-x-lamelo-ball-mb-03-toxic-mens-basketball-shoes/378916', 1), ('https://us.puma.com/us/en/pd/puma-x-lamelo-ball-rs-x-pocket-lafranc%C3%A9-mens-sneakers/395542', 1), ('https://us.puma.com/us/en/pd/puma-x-lamelo-ball-x-dexters-laboratory-mb-03-mens-basketball-shoes/379330', 1), ('https://us.puma.com/us/en/pd/puma-x-sparco-future-cat-og-driving-shoes/307936', 1), ('https://us.puma.com/us/en/pd/puma-x-swarovski-suede-womens-sneakers/396352', 1), ('https://us.puma.com/us/en/pd/puma-x-tmc-ralph-sampson-all-star-mens-sneakers/397418', 1), ('https://us.puma.com/us/en/pd/roma-classic-gum-sneakers/366408', 1), ('https://us.puma.com/us/en/pd/rs-trck-horizon-mens-sneakers/390717', 1), ('https://us.puma.com/us/en/pd/rs-x-faded-daytona-sneakers/394981', 1), ('https://us.puma.com/us/en/pd/rs-x-glimmer-womens-sneakers/397089', 1), ('https://us.puma.com/us/en/pd/rs-x-hi-mens-sneakers/392718', 1), ('https://us.puma.com/us/en/pd/rs-x-soft-womens-sneakers/393772', 1), ('https://us.puma.com/us/en/pd/rs-xk-sneakers/392787', 1), ('https://us.puma.com/us/en/pd/shibui-cat-slides/385296', 1), ('https://us.puma.com/us/en/pd/speedcat-shield-sd-driving-shoes/387272', 1), ('https://us.puma.com/us/en/pd/suede-classic-xxi-sneakers/374915', 1), ('https://us.puma.com/us/en/pd/suede-classic-xxi-womens-sneakers/381410', 1), ('https://us.puma.com/us/en/pd/suede-gum-mens-sneakers/381174', 1), ('https://us.puma.com/us/en/pd/teveris-nitro%E2%84%A2-nyc-mens-sneakers/396106', 1), ('https://us.puma.com/us/en/pd/ultra-ultimate-fg-ag-mens-soccer-cleats/107311', 1), ('https://us.puma.com/us/en/pd/voltaic-evo-running-shoe/379601', 1), ('https://www.adidas.co.in/adidas--x-extra-butter-samba/IE0174.html', 1), ('https://www.adidas.co.in/adidas-pro-model-80-poochie/IE7563.html', 1), ('https://www.adidas.co.in/adifom-superstar-shoes/IE9873.html', 1), ('https://www.adidas.co.in/falcon-shoes/IE8203.html', 1), ('https://www.adidas.co.in/falcon-shoes/IE8204.html', 1), ('https://www.adidas.co.in/falcon-shoes/IG5732.html', 1), ('https://www.adidas.co.in/falcon-shoes/IG8301.html', 1), ('https://www.adidas.co.in/forum-boot-shoes/IE7205.html', 1), ('https://www.adidas.co.in/gazelle-bold-shoes/ID6990.html', 1), ('https://www.adidas.co.in/gazelle-indoor-shoes/IE2946.html', 1), ('https://www.adidas.co.in/gazelle-shoes/IG1062.html', 1), ('https://www.adidas.co.in/gazelle-shoes/IG4988.html', 1), ('https://www.adidas.co.in/gazelle-spzl-shoes/IF5787.html', 1), ('https://www.adidas.co.in/kick-shoes/IG8950.html', 1), ('https://www.adidas.co.in/kick-shoes/IG8951.html', 1), ('https://www.adidas.co.in/ozelia-shoes/IF8670.html', 1), ('https://www.adidas.co.in/ozmillen-shoes/IE3517.html', 1), ('https://www.adidas.co.in/samba-og-shoes/B75806.html', 1), ('https://www.adidas.co.in/samba-og-shoes/B75807.html', 1), ('https://www.adidas.co.in/stan-smith-pf-shoes/IE0450.html', 1), ('https://www.adidas.co.in/stan-smith-shoes/IE0459.html', 1), ('https://www.adidas.co.in/stan-smith-shoes/Q47225.html', 1), ('https://www.adidas.co.in/superstar-bonega-2b-shoes/IF7683.html', 1), ('https://www.adidas.co.in/superstar-bonega-shoes/IF7582.html', 1), ('https://www.adidas.co.in/superstar-bonega-shoes/IF7583.html', 1), ('https://www.adidas.co.in/superstar-lux-shoes/IE2302.html', 1), ('https://www.adidas.co.in/superstar-millencon-boot-shoes/IG5320.html', 1), ('https://www.adidas.co.in/superstar-shoes/EG4959.html', 1), ('https://www.adidas.co.in/superstar-shoes/FV3284.html', 1), ('https://www.adidas.co.in/superstar-shoes/FV3285.html', 1), ('https://www.adidas.co.in/superstar-shoes/IE9856.html', 1), ('https://www.adidas.co.in/superstar-shoes/IF7690.html', 1), ('https://www.adidas.co.in/superstar-shoes/IG3146.html', 1), ('https://www.adidas.co.in/superstar-shoes/IG3147.html', 1), ('https://www.adidas.co.in/superstar-slip-on-shoes/IE0399.html', 1), ('https://www.adidas.co.in/superstar-slip-on-shoes/IG5717.html', 1), ('https://www.adidas.co.in/superstar-xlg-shoes/IE5195.html', 1), ('https://www.adidas.co.in/superstar-xlg-shoes/IE9872.html', 1), ('https://www.adidas.co.in/superstar-xlg-shoes/IF3001.html', 1), ('https://www.adidas.co.in/superstar-xlg-shoes/IF3003.html', 1), ('https://www.adidas.co.in/superstar-xlg-shoes/IF3004.html', 1), ('https://www.adidas.co.in/superstar-xlg-shoes/IF8068.html', 1), ('https://www.adidas.co.in/superstar-xlg-shoes/IF8114.html', 1), ('https://www.adidas.co.in/superstar-xlg-shoes/IF9121.html', 1), ('https://www.adidas.co.in/superstar-xlg-shoes/IF9995.html', 1), ('https://www.adidas.co.in/superstar-xlg-shoes/IG0735.html', 1), ('https://www.adidas.co.in/superstar-xlg-shoes/IG2972.html', 1), ('https://www.adidas.co.in/superstar-xlg-shoes/IG9777.html', 1), ('https://www.columbia.com/p/big-kids-bahama-pfg-shoe-1826931.html?dwvar_1826931_color=036', 1), ('https://www.columbia.com/p/big-kids-newton-ridge-amped-boot-2044121.html?dwvar_2044121_color=288', 1), ('https://www.columbia.com/p/little-kids-bahama-pfg-shoe-1826932.html?dwvar_1826932_color=227', 1), ('https://www.columbia.com/p/little-kids-powderbug-plus-ii-snow-boot-1637872.html?dwvar_1637872_color=010', 1), ('https://www.columbia.com/p/mens-bahama-vent-relaxed-pfg-shoe---wide-1661512.html?dwvar_1661512_color=023', 1), ('https://www.columbia.com/p/mens-bahama-vent-relaxed-pfg-shoe-1661511.html?dwvar_1661511_color=210', 1), ('https://www.columbia.com/p/mens-bugaboot-iii-boot---wide-1791222.html?dwvar_1791222_color=010', 1), ('https://www.columbia.com/p/mens-bugaboot-iii-boot-1791221.html?dwvar_1791221_color=010', 1), ('https://www.columbia.com/p/mens-expeditionist-shield-boot-2053421.html?dwvar_2053421_color=373', 1), ('https://www.columbia.com/p/mens-facet-75-alpha-outdry-shoe-2044241.html?dwvar_2044241_color=316', 1), ('https://www.columbia.com/p/mens-facet-75-mid-outdry-shoe-2027051.html?dwvar_2027051_color=383', 1), ('https://www.columbia.com/p/mens-fairbanks-omni-heat-boot---wide-1746012.html?dwvar_1746012_color=288', 1), ('https://www.columbia.com/p/mens-fairbanks-omni-heat-boot-1746011.html?dwvar_1746011_color=288', 1), ('https://www.columbia.com/p/mens-granite-trail-mid-waterproof-shoe-2053201.html?dwvar_2053201_color=089', 1), ('https://www.columbia.com/p/mens-granite-trail-waterproof-shoe---wide-2053212.html?dwvar_2053212_color=213', 1), ('https://www.columbia.com/p/mens-granite-trail-waterproof-shoe-2053211.html?dwvar_2053211_color=231', 1), ('https://www.columbia.com/p/mens-gunnison-ii-omni-heat-boot-1862291.html?dwvar_1862291_color=231', 1), ('https://www.columbia.com/p/mens-newton-ridge-hiking-boot-1594731.html?dwvar_1594731_color=289', 1), ('https://www.columbia.com/p/mens-newton-ridge-plus-ii-suede-waterproof-hiking-boot-1746411.html?dwvar_1746411_color=217', 1), ('https://www.columbia.com/p/mens-newton-ridge-waterproof-omni-heat-ii-boot-2056191.html?dwvar_2056191_color=240', 1), ('https://www.columbia.com/p/mens-pfg-bahama-vent-loco-relaxed-iii-shoe---wide-1889602.html?dwvar_1889602_color=053', 1), ('https://www.columbia.com/p/mens-pfg-bahama-vent-loco-relaxed-iii-shoe-1889601.html?dwvar_1889601_color=053', 1), ('https://www.columbia.com/p/mens-pfg-bahama-vent-shoe---wide-1673142.html?dwvar_1673142_color=278', 1), ('https://www.columbia.com/p/mens-pfg-bahama-vent-shoe-1673141.html?dwvar_1673141_color=037', 1), ('https://www.columbia.com/p/mens-pfg-bonehead-shoe---wide-1987132.html?dwvar_1987132_color=271', 1), ('https://www.columbia.com/p/mens-pfg-bonehead-shoe-1987131.html?dwvar_1987131_color=088', 1), ('https://www.columbia.com/p/mens-pfg-pro-sport-shoe-2041001.html?dwvar_2041001_color=383', 1), ('https://www.columbia.com/p/mens-pfg-rostra-beachcomber-flip-flop-1987121.html?dwvar_1987121_color=036', 1), ('https://www.columbia.com/p/mens-pfg-slack-tide-boat-shoe-2027031.html?dwvar_2027031_color=088', 1), ('https://www.columbia.com/p/mens-pfg-tamiami-shoe-1927991.html?dwvar_1927991_color=099', 1), ('https://www.columbia.com/p/mens-pfg-tidal-ray-flip-flop-1982241.html?dwvar_1982241_color=005', 1), ('https://www.columbia.com/p/mens-telluron-omni-heat-ii-boot-1928751.html?dwvar_1928751_color=010', 1), ('https://www.columbia.com/p/mens-trailstorm-ascend-waterproof-shoe-2044281.html?dwvar_2044281_color=005', 1), ('https://www.columbia.com/p/mens-woodburn-ii-waterproof-shoe-1553001.html?dwvar_1553001_color=231', 1), ('https://www.columbia.com/p/womens-bugaboot-celsius-plus-boot-1945421.html?dwvar_1945421_color=081', 1), ('https://www.columbia.com/p/womens-bugaboot-iii-boot-1791281.html?dwvar_1791281_color=010', 1), ('https://www.columbia.com/p/womens-facet-75-mid-outdry-shoe-2027201.html?dwvar_2027201_color=553', 1), ('https://www.columbia.com/p/womens-firecamp-boot---wide-1800312.html?dwvar_1800312_color=010', 1), ('https://www.columbia.com/p/womens-granite-trail-mid-waterproof-shoe-2053221.html?dwvar_2053221_color=033', 1), ('https://www.columbia.com/p/womens-granite-trail-waterproof-shoe-2053241.html?dwvar_2053241_color=342', 1), ('https://www.columbia.com/p/womens-ice-maiden-ii-boot---wide-1554172.html?dwvar_1554172_color=232', 1), ('https://www.columbia.com/p/womens-ice-maiden-ii-boot-1554171.html?dwvar_1554171_color=288', 1), ('https://www.columbia.com/p/womens-ice-maiden-shorty-boot-1862391.html?dwvar_1862391_color=286', 1), ('https://www.columbia.com/p/womens-ice-maiden-slip-iii-boot-1950861.html?dwvar_1950861_color=010', 1), ('https://www.columbia.com/p/womens-minx-mid-iii-boot-1803121.html?dwvar_1803121_color=383', 1), ('https://www.columbia.com/p/womens-minx-shorty-iii-boot---wide-1803152.html?dwvar_1803152_color=053', 1), ('https://www.columbia.com/p/womens-minx-shorty-iii-boot-1803151.html?dwvar_1803151_color=212', 1), ('https://www.columbia.com/p/womens-minx-slip-iv-boot-1950851.html?dwvar_1950851_color=125', 1), ('https://www.columbia.com/p/womens-moritza-boot-2005041.html?dwvar_2005041_color=286', 1), ('https://www.columbia.com/p/womens-newton-ridge-bc-boot-2044571.html?dwvar_2044571_color=252', 1), ('https://www.columbia.com/p/womens-newton-ridge-plus-waterproof-amped-hiking-boot-1718821.html?dwvar_1718821_color=204', 1), ('https://www.columbia.com/p/womens-newton-ridge-plus-waterproof-hiking-boot-1424692.html?dwvar_1424692_color=052', 1), ('https://www.columbia.com/p/womens-newton-ridge-waterproof-omni-heat-ii-boot-2056181.html?dwvar_2056181_color=089', 1), ('https://www.columbia.com/p/womens-pfg-bonehead-shoe-1987151.html?dwvar_1987151_color=103', 1), ('https://www.columbia.com/p/womens-pfg-pro-sport-shoe-2040521.html?dwvar_2040521_color=063', 1), ('https://www.columbia.com/p/womens-pfg-slackwater-boat-shoe-2027081.html?dwvar_2027081_color=019', 1), ('https://www.columbia.com/p/womens-pfg-tamiami%C2%A0backcast-shoe-2027111.html?dwvar_2027111_color=063', 1), ('https://www.columbia.com/p/womens-pfg-tamiami-shoe-1939981.html?dwvar_1939981_color=279', 1), ('https://www.columbia.com/p/womens-trailstorm-ascend-mid-waterproof-shoe-2044351.html?dwvar_2044351_color=342', 1), ('https://www.nike.com/t/air-force-1-07-womens-shoes-PqdxJw/FZ3597-133', 1), ('https://www.nike.com/t/air-force-1-wild-womens-shoes-r7kSSl/FB2348-003', 1), ('https://www.nike.com/t/air-max-270-womens-shoes-Pgb94t/AH6789-703', 1), ('https://www.nike.com/t/air-max-90-futura-womens-shoes-kvRZ4h/DV7190-200', 1), ('https://www.nike.com/t/air-max-plus-womens-shoes-47Sxw5/DZ3671-104', 1), ('https://www.nike.com/t/air-vapormax-plus-womens-shoes-xbt7zf/FQ8895-100', 1), ('https://www.nike.com/t/blazer-mid-77-womens-shoes-NPWfjm/CZ1055-100', 1), ('https://www.nike.com/t/cortez-txt-womens-shoes-6Q4TgR/DZ2795-001', 1), ('https://www.nike.com/t/cortez-womens-shoes-tZtTd5/DN1791-105', 1), ('https://www.nike.com/t/court-legacy-lift-womens-shoes-x0B6BB/DM7590-200', 1), ('https://www.nike.com/t/court-vision-low-next-nature-womens-shoes-ZkMMBG/DH3158-102', 1), ('https://www.nike.com/t/dbreak-premium-womens-shoes-61jl9b/DR5377-001', 1), ('https://www.nike.com/t/dunk-high-womens-shoes-LwCxXJ/DD1869-107', 1), ('https://www.nike.com/t/dunk-low-womens-shoes-4W2Z5P/DD1503-101', 1), ('https://www.nike.com/t/free-metcon-5-womens-workout-shoes-h4Zl5h/DV3950-201', 1), ('https://www.nike.com/t/gamma-force-womens-shoes-4TR9Xf/DX9176-103', 1), ('https://www.nike.com/t/infinityrn-4-womens-road-running-shoes-wide-ZrWGRG/FN0880-010', 1), ('https://www.nike.com/t/interact-run-womens-road-running-shoes-v5LlQl/FD2292-007', 1), ('https://www.nike.com/t/killshot-2-womens-shoes-ZmzdkQ/FZ5630-101', 1), ('https://www.nike.com/t/metcon-9-womens-workout-shoes-xMlsHx/DZ2537-002', 1), ('https://www.nike.com/t/pegasus-40-womens-road-running-shoes-wide-L80k6C/FN7991-007', 1), ('https://www.nike.com/t/pegasus-trail-4-womens-trail-running-shoes-CQT261/DJ6159-005', 1), ('https://www.nike.com/t/phoenix-waffle-womens-shoes-CDl2fm/FD2196-100', 1), ('https://www.nike.com/t/revolution-7-womens-road-running-shoes-wP5p63/FB2208-007', 1), ('https://www.nike.com/t/v2k-run-womens-shoes-nRRH5X/FD0736-003', 1), ('https://www.nike.com/t/v2k-run-womens-shoes-nRRH5X/FD0736-103', 1), ('https://www.nike.com/t/vomero-5-womens-shoes-26nkFx/FN7778-600', 1), ('https://www.nike.com/t/vomero-5-womens-shoes-ZnKVhN/FN7196-663', 1), ('https://www.nike.com/t/waffle-debut-vintage-womens-shoes-rfRkv2/DX2931-200', 1), ('https://www.nike.com/t/waffle-debut-vintage-womens-shoes-rfRkv2/DX2931-400', 1), ('https://www.nike.com/t/waffle-debut-womens-shoes-5Rl1KL/DH9523-100', 1), ('https://www.nike.com/t/waffle-debut-womens-shoes-5Rl1KL/DH9523-105', 1), ('https://www.nike.com/t/waffle-one-womens-shoes-qk5cz3/DC2533-103', 1), ('https://www.nike.com/t/zegama-womens-trail-running-shoes-FWN4lV/DH0625-005', 1), ('https://www.nike.com/u/custom-cortez-platform-unlocked-by-you-10001611/4868453426', 1), ('https://www.nike.com/u/custom-cortez-platform-unlocked-by-you-10001679/3685247182', 1), ('https://www.nike.com/u/custom-cortez-unlocked-by-you-10001612/5774408047', 1), ('https://www.nike.com/u/custom-cortez-unlocked-by-you-10001678/8653210374', 1), ('https://www.skechers.com/go-walk-7---bling/125234_GRY.html', 1), ('https://www.skechers.com/go-walk-7---razi/125209_NVLV.html', 1), ('https://www.skechers.com/martha-stewart-skechers-slip-ins-ultra-flex-3.0/158911_MOC.html', 1), ('https://www.skechers.com/martha-stewart-x-skechers-slip-ins-ultra-flex-3/149808_OLV.html', 1), ('https://www.skechers.com/martha-stewart-x-skechers-slip-ins-ultra-flex-3/158820.html', 1), ('https://www.skechers.com/skechers-slip-ins-arch-fit-2.0---grand-select-2/216601_TPE.html', 1), ('https://www.skechers.com/skechers-slip-ins-arch-fit-2.0---look-ahead/232462_WBK.html', 1), ('https://www.skechers.com/skechers-slip-ins-bobs-sport-squad-chaos/117500_ROS.html', 1), ('https://www.skechers.com/skechers-slip-ins-bobs-sport-squad-chaos/117504_LAV.html', 1), ('https://www.skechers.com/skechers-slip-ins-garza---gervin/205046_CHOC.html', 1), ('https://www.skechers.com/skechers-slip-ins-go-walk-6---fabulous-view/124569_GRY.html', 1), ('https://www.skechers.com/skechers-slip-ins-go-walk-6---lovely-day/124568_BBK.html', 1), ('https://www.skechers.com/skechers-slip-ins-go-walk-6---valentina/124566_BKMT.html', 1), ('https://www.skechers.com/skechers-slip-ins-go-walk-7---city-lights/125222_TPMT.html', 1), ('https://www.skechers.com/skechers-slip-ins-go-walk-7---daley/125228_GYLV.html', 1), ('https://www.skechers.com/skechers-slip-ins-go-walk-7---springtime/125219_GRY.html', 1), ('https://www.skechers.com/skechers-slip-ins-go-walk-af-2.0---hands-free-2/216600_TPE.html', 1), ('https://www.skechers.com/skechers-slip-ins-go-walk-arch-fit---hands-free/216259_NVY.html', 1), ('https://www.skechers.com/skechers-slip-ins-go-walk-arch-fit---simplicity/216258.html', 1), ('https://www.skechers.com/skechers-slip-ins-go-walk-flex---dacey/124835_GRY.html', 1), ('https://www.skechers.com/skechers-slip-ins-go-walk-flex---grand-entry/124836_OFWT.html', 1), ('https://www.skechers.com/skechers-slip-ins-go-walk-flex---relish/124963_NVY.html', 1), ('https://www.skechers.com/skechers-slip-ins-go-walk-joy---vela/124641_BKW.html', 1), ('https://www.skechers.com/skechers-slip-ins-gr-swirl-tech-speed---surpass/220909_NVOR.html', 1), ('https://www.skechers.com/skechers-slip-ins-max-cushioning---advantageous/220389_BLBK.html', 1), ('https://www.skechers.com/skechers-slip-ins-max-cushioning-af---fortuitous/220952_NVY.html', 1), ('https://www.skechers.com/skechers-slip-ins-max-cushioning-af---game/220347_GRY.html', 1), ('https://www.skechers.com/skechers-slip-ins-max-cushioning-premier-2.0/220839.html', 1), ('https://www.skechers.com/skechers-slip-ins-max-cushioning-premier/220313_WBK.html', 1), ('https://www.skechers.com/skechers-slip-ins-mn-casual-glide-cell---abbott/205059_COG.html', 1), ('https://www.skechers.com/skechers-slip-ins-mn-casual-glide-cell---gable/205074_BLK.html', 1), ('https://www.skechers.com/skechers-slip-ins-mn-casual-glide-cell---garret/205082_CDB.html', 1), ('https://www.skechers.com/skechers-slip-ins-mn-casual-glide-cell---waylen/205056_TPE.html', 1), ('https://www.skechers.com/skechers-slip-ins-relaxed-fit-knowlson---kantel/205073_CDB.html', 1), ('https://www.skechers.com/skechers-slip-ins-relaxed-fit-parson---oswin/204866.html', 1), ('https://www.skechers.com/skechers-slip-ins-rf-craster---lanigan/204847_RDBR.html', 1), ('https://www.skechers.com/skechers-slip-ins-rf-garner---newick/210803_ACDB.html', 1), ('https://www.skechers.com/skechers-slip-ins-rf-knowlson---shore-thing/205188_DSRT.html', 1), ('https://www.skechers.com/skechers-slip-ins-rf-respected---elgin/204810_RDBR.html', 1), ('https://www.skechers.com/skechers-slip-ins-rf-slade---ocon/210811_TPE.html', 1), ('https://www.skechers.com/skechers-slip-ins-rf-slade---zachary/210828.html', 1), ('https://www.skechers.com/skechers-slip-ins-summits---dazzling-haze/149937_GYMT.html', 1), ('https://www.skechers.com/skechers-slip-ins-summits---diamond-dream/150123_LAV.html', 1), ('https://www.skechers.com/skechers-slip-ins-ultra-flex-3.0---brilliant/149710_PERI.html', 1), ('https://www.skechers.com/skechers-slip-ins-ultra-flex-3.0---cozy-streak/149708_SLT.html', 1), ('https://www.skechers.com/skechers-slip-ins-ultra-flex-3.0---new-energy/150182_BKNT.html', 1), ('https://www.skechers.com/skechers-slip-ins-ultra-flex-3.0---smooth-step/149709_MVE.html', 1), ('https://www.skechers.com/skechers-slip-ins-ultra-flex-3.0/150174_WHT.html', 1), ('https://www.woodlandworldwide.com/productinfo/FGC0AI024031B-DBLUE', 2), ('https://www.woodlandworldwide.com/productinfo/FLC015044221A-LGREY', 2), ('https://www.woodlandworldwide.com/productinfo/FLC0150S0142A-BLUE', 2), ('https://www.woodlandworldwide.com/productinfo/FLC0180S0132A-WHITE', 2), ('https://www.woodlandworldwide.com/productinfo/FLC0180T0952A-BLUE', 2), ('https://www.woodlandworldwide.com/productinfo/FLC0180T0962A-NAVY', 2), ('https://www.woodlandworldwide.com/productinfo/FLC0180U6582A-GRAFFITI_WHITE', 2), ('https://www.woodlandworldwide.com/productinfo/FLC0180U6602A-WHITE_RED', 2), ('https://www.woodlandworldwide.com/productinfo/FLC0180V3482A-WHITE', 2), ('https://www.woodlandworldwide.com/productinfo/FLC0260S2522A-WHITE', 2), ('https://www.woodlandworldwide.com/productinfo/FLC0260S2552A-PINK', 2), ('https://www.woodlandworldwide.com/productinfo/FLC0260U2552A-RED', 2), ('https://www.woodlandworldwide.com/productinfo/FLC0260U2592A-GREY', 2), ('https://www.woodlandworldwide.com/productinfo/FLC0260U2602A-NUDE', 2), ('https://www.woodlandworldwide.com/productinfo/FLC0260U2622A-NAVY', 2), ('https://www.woodlandworldwide.com/productinfo/FLC0260U2632A-RED', 2), ('https://www.woodlandworldwide.com/productinfo/FLC0260U7582A-RED', 2), ('https://www.woodlandworldwide.com/productinfo/FLC0260V3482A-RED', 2), ('https://www.woodlandworldwide.com/productinfo/FLC0310S2532A-BLACK', 2), ('https://www.woodlandworldwide.com/productinfo/FLC0310S2602A-BROWN_MAROON', 2), ('https://www.woodlandworldwide.com/productinfo/FLC0310S2612A-MAROON', 2), ('https://www.woodlandworldwide.com/productinfo/FLC0310S2622A-WHITE', 2), ('https://www.woodlandworldwide.com/productinfo/FLC0310T9022A-LBLUE', 2), ('https://www.woodlandworldwide.com/productinfo/FLC0310T9032A-GREY', 2), ('https://www.woodlandworldwide.com/productinfo/FLC0310T9042A-RUST', 2), ('https://www.woodlandworldwide.com/productinfo/FLC0310T9062A-GREY', 2), ('https://www.woodlandworldwide.com/productinfo/FLC0310V3382A-WHITE', 2), ('https://www.woodlandworldwide.com/productinfo/FLC051016461A-CAMEL', 2), ('https://www.woodlandworldwide.com/productinfo/FLC051017981A-ORANGE', 2), ('https://www.woodlandworldwide.com/productinfo/FLC051044211A-VARIGLIA', 2), ('https://www.woodlandworldwide.com/productinfo/FLC0510R1962A-PURPLE_GREY', 2), ('https://www.woodlandworldwide.com/productinfo/FLC0510R1982A-WHITE', 2), ('https://www.woodlandworldwide.com/productinfo/FLC0510T0572A-PINK', 2), ('https://www.woodlandworldwide.com/productinfo/FLC0510T0792A-LBLUE', 2), ('https://www.woodlandworldwide.com/productinfo/FLC0510T0802A-LPINK', 2), ('https://www.woodlandworldwide.com/productinfo/FLC0510T7112A-LBROWN', 2), ('https://www.woodlandworldwide.com/productinfo/FLC0AI024471A-LPINK', 2), ('https://www.woodlandworldwide.com/productinfo/FLC0AI025371B-BLACK', 2), ('https://www.woodlandworldwide.com/productinfo/FLC0AI027271A-DBLUE', 2), ('https://www.woodlandworldwide.com/productinfo/FLC0AR028921A-RUST_BROWN', 2), ('https://www.woodlandworldwide.com/productinfo/FLC0AX025041A-DSKY_BLUE', 2), ('https://www.woodlandworldwide.com/productinfo/FLC0AX032671A-DESERT_ROSE', 2), ('https://www.woodlandworldwide.com/productinfo/FLC0B3024821B-OWHITE', 2), ('https://www.woodlandworldwide.com/productinfo/FLC0BA025011A-BLUE', 2), ('https://www.woodlandworldwide.com/productinfo/FLC0BA025051A-BLACK', 2), ('https://www.woodlandworldwide.com/productinfo/FLC0DN0AR932A-PINK_BLUE', 2), ('https://www.woodlandworldwide.com/productinfo/FLC0DN0AR952A-BLACK_PURPLE', 2), ('https://www.woodlandworldwide.com/productinfo/FLC0DY0AR942A-GREY', 2), ('https://www.woodlandworldwide.com/productinfo/FLC0DY0T7822A-PINK', 2), ('https://www.woodlandworldwide.com/productinfo/FLC0G2025001A-BLACK', 2), ('https://www.woodlandworldwide.com/productinfo/FLC0H40R1952A-BLACK', 2), ('https://www.woodlandworldwide.com/productinfo/FLC0H40R1972A-WHITE', 2), ('https://www.woodlandworldwide.com/productinfo/FLC0H40S7582A-NAVY', 2), ('https://www.woodlandworldwide.com/productinfo/FLC0H40S7592A-BLUE', 2), ('https://www.woodlandworldwide.com/productinfo/FLC0H40S7602A-GREY', 2), ('https://www.woodlandworldwide.com/productinfo/FLC0H40S7612A-BLUE', 2), ('https://www.woodlandworldwide.com/productinfo/FLC0H40S9652A-WHITE', 2), ('https://www.woodlandworldwide.com/productinfo/FLC0H40S9662A-FUSCHIA', 2), ('https://www.woodlandworldwide.com/productinfo/FLC0H40T0752A-PURPLE', 2), ('https://www.woodlandworldwide.com/productinfo/FLC0H40T0762A-PINK', 2), ('https://www.woodlandworldwide.com/productinfo/FLC0H40T0772A-PINK', 2), ('https://www.woodlandworldwide.com/productinfo/FLC0H40T0782A-PURPLE', 2), ('https://www.woodlandworldwide.com/productinfo/FLC0H40T3272A-PINK', 2), ('https://www.woodlandworldwide.com/productinfo/FLC0H40U3332A-GREY', 2), ('https://www.woodlandworldwide.com/productinfo/FLC0H40U3342A-LGREY', 2), ('https://www.woodlandworldwide.com/productinfo/FLC0H40U6372A-BLACK', 2), ('https://www.woodlandworldwide.com/productinfo/FLC0H9025631B-BLACK', 2), ('https://www.woodlandworldwide.com/productinfo/FLC0H9026391B-DCADET_BLUE', 2), ('https://www.woodlandworldwide.com/productinfo/FLC0IA0AR972A-GREY_GREEN', 2), ('https://www.woodlandworldwide.com/productinfo/FLC0IA0AR992A-WHITE_PURPLE', 2), ('https://www.woodlandworldwide.com/productinfo/FLC0R70U3282A-BLACK', 2), ('https://www.woodlandworldwide.com/productinfo/FLC0R9025031A-BEIGE', 2), ('https://www.woodlandworldwide.com/productinfo/FLC0Z3022431A-WHITE', 2), ('https://www.woodlandworldwide.com/productinfo/FLC0Z3022441A-ORANGE', 2), ('https://www.woodlandworldwide.com/productinfo/FLC0Z3024031B-TAN', 2), ('https://www.woodlandworldwide.com/productinfo/FLC0Z3024811B-WHITE', 2), ('https://www.woodlandworldwide.com/productinfo/FLC0Z3028911A-BLACK', 2)]\n"
     ]
    }
   ],
   "source": [
    "connection = sqlite3.connect('table1.shoes.dp')\n",
    "cursor = connection.cursor()\n",
    "\n",
    "query13 = \"\"\"\n",
    "SELECT link, COUNT(*) AS review_count\n",
    "FROM table3\n",
    "GROUP BY link;\n",
    "\n",
    "\"\"\"\n",
    "cursor.execute(query13)\n",
    "\n",
    "result13 = cursor.fetchall()\n",
    "print(result13)\n",
    "\n",
    "cursor.close()\n",
    "connection.close()\n"
   ]
  },
  {
   "cell_type": "markdown",
   "id": "cdb366ac",
   "metadata": {},
   "source": [
    "4  Write a To retrieve products that have a quantified durability/quality/performance rating above a certain threshold (e.g., above 7).\n",
    "\n"
   ]
  },
  {
   "cell_type": "code",
   "execution_count": 69,
   "id": "ea2870b8",
   "metadata": {},
   "outputs": [
    {
     "name": "stdout",
     "output_type": "stream",
     "text": [
      "[(0, 'https://www.adidas.co.in/gazelle-shoes/IG1062.html', '6', None, 4.833333333333333, 5.0, 4.8), (1, 'https://www.adidas.co.in/gazelle-bold-shoes/ID6990.html', '530', None, 4.445283018867925, 4.69811320754717, 4.7), (2, 'https://www.adidas.co.in/samba-og-shoes/B75807.html', '7027', None, 4.227175616009116, 4.586025330866657, 4.8), (3, 'https://www.adidas.co.in/samba-og-shoes/B75806.html', '7027', None, 4.227175616009116, 4.586025330866657, 4.8), (4, 'https://www.adidas.co.in/superstar-shoes/EG4959.html', '4848', None, 4.304383788254756, 4.572813531353136, 4.8), (6, 'https://www.adidas.co.in/stan-smith-shoes/Q47225.html', '91', None, 3.934065934065934, 4.307692307692308, 4.2), (7, 'https://www.adidas.co.in/superstar-xlg-shoes/IG9777.html', '57', None, 4.280701754385965, 4.543859649122807, 4.8), (8, 'https://www.adidas.co.in/kick-shoes/IG8951.html', '0', None, 4.280701754385965, 4.543859649122807, 0.0), (9, 'https://www.adidas.co.in/kick-shoes/IG8950.html', '0', None, 4.280701754385965, 4.543859649122807, 0.0), (10, 'https://www.adidas.co.in/falcon-shoes/IG8301.html', '10', None, 4.6, 4.8, 4.8), (11, 'https://www.adidas.co.in/falcon-shoes/IG5732.html', '10', None, 4.6, 4.8, 4.8), (12, 'https://www.adidas.co.in/superstar-slip-on-shoes/IG5717.html', '0', None, 4.6, 4.8, 0.0), (13, 'https://www.adidas.co.in/superstar-xlg-shoes/IF9121.html', '0', None, 4.6, 4.8, 0.0), (14, 'https://www.adidas.co.in/ozelia-shoes/IF8670.html', '0', None, 4.6, 4.8, 0.0), (16, 'https://www.adidas.co.in/superstar-xlg-shoes/IF3001.html', '29', None, 4.655172413793103, 4.896551724137931, 4.8), (17, 'https://www.adidas.co.in/falcon-shoes/IE8204.html', '10', None, 4.6, 4.8, 4.8), (18, 'https://www.adidas.co.in/falcon-shoes/IE8203.html', '10', None, 4.6, 4.8, 4.8), (19, 'https://www.adidas.co.in/forum-boot-shoes/IE7205.html', '3', None, 4.333333333333333, 4.333333333333333, 4.7), (20, 'https://www.adidas.co.in/ozmillen-shoes/IE3517.html', '6', None, 4.166666666666667, 4.166666666666667, 4.7), (21, 'https://www.adidas.co.in/gazelle-indoor-shoes/IE2946.html', '0', None, 4.166666666666667, 4.166666666666667, 0.0), (22, 'https://www.adidas.co.in/stan-smith-shoes/IE0459.html', '1', None, 5.0, 5.0, 5.0), (23, 'https://www.adidas.co.in/stan-smith-pf-shoes/IE0450.html', '0', None, 5.0, 5.0, 0.0), (24, 'https://www.adidas.co.in/superstar-slip-on-shoes/IE0399.html', '0', None, 5.0, 5.0, 0.0), (25, 'https://www.adidas.co.in/adidas--x-extra-butter-samba/IE0174.html', '0', None, 5.0, 5.0, 0.0), (26, 'https://www.adidas.co.in/superstar-shoes/FV3285.html', '260', None, 4.161538461538462, 4.473076923076923, 4.6), (27, 'https://www.adidas.co.in/superstar-shoes/FV3284.html', '260', None, 4.161538461538462, 4.473076923076923, 4.6), (29, 'https://www.adidas.co.in/superstar-shoes/IG3147.html', '28', None, 4.5, 4.642857142857143, 4.6), (30, 'https://www.adidas.co.in/superstar-shoes/IG3146.html', '28', None, 4.5, 4.642857142857143, 4.6), (31, 'https://www.adidas.co.in/superstar-xlg-shoes/IG2972.html', '0', None, 4.5, 4.642857142857143, 0.0), (32, 'https://www.adidas.co.in/superstar-xlg-shoes/IG0735.html', '106', None, 4.613207547169812, 4.79245283018868, 4.8), (33, 'https://www.adidas.co.in/superstar-xlg-shoes/IF9995.html', '57', None, 4.280701754385965, 4.543859649122807, 4.8), (34, 'https://www.adidas.co.in/superstar-xlg-shoes/IF8114.html', '107', None, 4.607476635514018, 4.785046728971962, 4.8), (35, 'https://www.adidas.co.in/superstar-xlg-shoes/IF8068.html', '57', None, 4.280701754385965, 4.543859649122807, 4.8), (36, 'https://www.adidas.co.in/superstar-shoes/IF7690.html', '28', None, 4.5, 4.642857142857143, 4.6), (37, 'https://www.adidas.co.in/superstar-bonega-2b-shoes/IF7683.html', '1', None, 5.0, 5.0, 5.0), (40, 'https://www.adidas.co.in/superstar-xlg-shoes/IF3004.html', '29', None, 4.655172413793103, 4.896551724137931, 4.8), (41, 'https://www.adidas.co.in/superstar-xlg-shoes/IF3003.html', '29', None, 4.655172413793103, 4.896551724137931, 4.8), (42, 'https://www.adidas.co.in/adifom-superstar-shoes/IE9873.html', '0', None, 4.655172413793103, 4.896551724137931, 0.0), (43, 'https://www.adidas.co.in/superstar-xlg-shoes/IE9872.html', '152', None, 4.256578947368421, 4.697368421052632, 4.8), (44, 'https://www.adidas.co.in/superstar-shoes/IE9856.html', '0', None, 4.256578947368421, 4.697368421052632, 0.0), (45, 'https://www.adidas.co.in/adidas-pro-model-80-poochie/IE7563.html', '34', None, 4.117647058823529, 4.617647058823529, 4.9), (46, 'https://www.adidas.co.in/superstar-xlg-shoes/IE5195.html', '10', None, 4.0, 4.3, 4.6), (47, 'https://www.adidas.co.in/superstar-lux-shoes/IE2302.html', '14', None, 4.285714285714286, 4.642857142857143, 4.4)]\n"
     ]
    }
   ],
   "source": [
    "connection = sqlite3.connect('table1.shoes.dp')\n",
    "cursor = connection.cursor()\n",
    "\n",
    "query14 = \"\"\"\n",
    "SELECT *\n",
    "FROM table3\n",
    "WHERE quantification > 4;\n",
    "\"\"\"\n",
    "cursor.execute(query14)\n",
    "result14 = cursor.fetchall()\n",
    "print(result14)\n",
    "cursor.close()\n",
    "connection.close()\n"
   ]
  },
  {
   "cell_type": "markdown",
   "id": "6f396b56",
   "metadata": {},
   "source": [
    "5 Write a query that  calculates the average comfort rating for each size.\n",
    "\n"
   ]
  },
  {
   "cell_type": "code",
   "execution_count": 70,
   "id": "1b8aade2",
   "metadata": {},
   "outputs": [
    {
     "name": "stdout",
     "output_type": "stream",
     "text": [
      "[(None, 4.212810229265864), ('10.5,5.5,6.5,9.5,11.5,10,5,8.5,13,15.5,7.5,7,6,11,13.5,4,12.5,14.5,3.5,4.5,9,12,8', 0.3333333333333333), ('10.5,5.5,6.5,9.5,11.5,10,5,8.5,13,15.5,7.5,7,6,11,14,16.5,13.5,12.5,14.5,9,12,8', None), ('10.5,5.5,6.5,9.5,11.5,10,5,8.5,13,15.5,7.5,7,6,11,14,16.5,13.5,4,12.5,14.5,3.5,4.5,9,12,8', 0.0), ('10.5,5.5,6.5,9.5,11.5,10,5,8.5,13,7.5,15,7,6,11,14,16,4,12.5,3.5,4.5,9,12,8', 1.71), ('10.5,7.5,12,15,5.5,6.5,9.5,7,11.5,6,10,5,8.5,9,11,13,8,14', 1.63), ('10.5,7.5,12,5.5,6.5,9.5,7,11.5,6,10,5,8.5,9,11,8', 1.7191304347826093), ('4,4.5,5,5.5,6,6.5,7,7.5,8,8.5,9,9.5,10,10.5,11,11.5,12,12.5,13,14', 0.0), ('4,4.5,5,5.5,6,6.5,7,7.5,8,8.5,9,9.5,10,10.5,11,11.5,12,13,14', 0.0), ('4,4.5,5,5.5,6,6.5,7,7.5,8,8.5,9,9.5,10,10.5,11,11.5,12,13,14,15', 0.0), ('4,4.5,5,5.5,6,6.5,7,7.5,8,8.5,9,9.5,10,10.5,11,11.5,12,13,14,15,16', 0.0), ('4,4.5,5,5.5,6,6.5,7,7.5,8,8.5,9,9.5,10,10.5,11,11.5,12,13,14,15,16,17,18', 0.0), ('4,4.5,5,5.5,6,6.5,7,7.5,8,8.5,9,9.5,10,10.5,11,11.5,12,14', 0.0), ('4,4.5,5,5.5,6.5,7,7.5,8,8.5,9,9.5,10,10.5,11,11.5,12,13,14', 0.0), ('4,4.5,5,5.5,7,7.5,8,8.5,9,9.5,10,10.5,11,11.5,12', 0.0), ('4,4.5,5,6,7,7.5,8,8.5,9,9.5,10,10.5,11,11.5,12,13,14', 0.0), ('4,5,6,7,8,9,10,11,12,13,14', 0.0), ('4.5,5,5.5,6,6.5,7,7.5,8,8.5,9,9.5,10,10.5,11,11.5,12,13,14', 0.0), ('4.5,5,6,6.5,7,7.5,8,8.5,9,9.5,10,10.5,11,11.5,12,13,14,15,16,18', 0.0), ('5.0', 0.0), ('5.0,5.5,6.0,6.5,7.0,7.5', 0.0), ('5.0,5.5,6.0,6.5,7.0,7.5,8.0,8.5,9.0,9.5,10.0', 0.0), ('5.0,5.5,6.0,6.5,7.0,7.5,8.0,8.5,9.0,9.5,10.0,10.5,11.0,12.0', 0.0), ('5.0,5.5,6.0,6.5,7.0,7.5,8.0,8.5,9.0,9.5,10.0,10.5,11.0,12.0,13.0', 0.0), ('5.0,5.5,6.0,6.5,7.0,7.5,8.0,8.5,9.0,9.5,10.0,11.0', 0.0), ('5.0,5.5,6.0,6.5,7.0,7.5,8.0,8.5,9.0,9.5,10.0,11.0,12.0', 0.0), ('5.0,6.0,6.5,7.0,7.5,8.0,8.5,9.0,9.5,10.0,11.0', 0.0), ('5.0,6.5,7.5,8.0,8.5,9.0,9.5,10.0', 0.0), ('5.5,6,6.5,7,7.5,8,8.5,9,9.5,10,10.5,11', 0.0), ('5.5,6.0,6.5,7.0,7.5,8.0,8.5,9.0,10.0,11.0', 0.0), ('5.5,6.0,6.5,7.0,7.5,8.0,8.5,9.0,9.5,10.0,11.0', 0.0), ('6,6.5,7,7.5,8,8.5,9,9.5,10,10.5,11', 0.0), ('6,6.5,7,7.5,8,8.5,9,9.5,10,10.5,11,11.5,12,13,14', 0.0), ('6.0,6.5,7.0,7.5,8.0,8.5,9.0,10.0', 0.0), ('6.0,6.5,7.0,7.5,8.0,8.5,9.0,9.5,10.0,11.0', 0.0), ('6.0,6.5,7.5,8.0,8.5', 0.0), ('6.5,7,7.5,8,8.5,9,9.5,10,10.5,11', 0.0), ('6.5,7.0,7.5,8.0,8.5,9.0,9.5,10.0,11.0', 0.0), ('7,7.5,8,8.5,9,9.5,10,10.5,11', 0.0), ('7,7.5,8,8.5,9,9.5,10,10.5,11,11.5,12,13', 0.0), ('7,7.5,8,8.5,9,9.5,10,10.5,11,11.5,12,13,14', 0.0), ('7,7.5,8,8.5,9,9.5,10,10.5,11,11.5,12,13,14,15,16', 0.0), ('7,7.5,8,8.5,9,9.5,10,10.5,11,11.5,12,13,16', 0.0), ('7.0,10.0,10.5,11.0,12.0,13.0', 0.0), ('7.0,7.5,8.0,8.5', 0.0), ('7.0,7.5,8.0,8.5,9.0,9.5,10.0,10.5,11.0,11.5,12.0,13.0', 0.0), ('7.0,7.5,8.0,8.5,9.0,9.5,10.0,10.5,11.0,11.5,12.0,13.0,14.0', 0.0), ('7.0,7.5,8.5,9.0', 0.0), ('7.0,8.0,10.0,12.0', 0.0), ('7.0,8.0,8.5', 0.0), ('7.5,8.0,10.0', 0.0), ('7.5,8.0,8.5,9.0,9.5,10.0,10.5,11.0,11.5,12.0', 0.0), ('7.5,8.0,8.5,9.0,9.5,10.0,10.5,11.0,11.5,12.0,13.0', 0.0), ('7.5,8.0,8.5,9.0,9.5,10.0,10.5,11.0,11.5,12.0,13.0,14.0', 0.0), ('7.5,8.0,8.5,9.0,9.5,10.0,10.5,11.0,12.0,13.0', 0.0), ('7.5,8.0,8.5,9.5,10.0', 0.0), ('7.5,8.5,9.5,10.0,10.5', 0.0), ('8.0,8.5,9.0,9.5,10.0,10.5,11.0,11.5,12.0,13.0', 0.0), ('BEIGE,PINK,BLACK', 0.0), ('BLACK', 0.0), ('BLACK,BLUE', 0.0), ('BLACK,DROYAL BLUE', 0.0), ('BLACK,GREY', 0.0), ('BLACK,LBEIGE,NAVY', 0.0), ('BLACK,WHITE', 0.0), ('BLACK,WHITE/BLACK', 0.0), ('BLACK/PURPLE,WHITE/PINK', 0.0), ('BLUE', 0.0), ('BLUE,GREEN', 0.0), ('BLUE,GREY', 0.0), ('BLUE,OWHITE,BLACK', 0.0), ('BROWN/MAROON,YELLOW/OLIVE', 0.0), ('CAMEL', 0.0), ('DBLUE', 0.0), ('DBLUE,LBEIGE', 0.0), ('DCADET BLUE,CAMEL', 0.0), ('DESERT ROSE,GREY,DSKY BLUE', 0.0), ('DSKY BLUE,DESERT ROSE', 0.0), ('FUSCHIA,WHITE', 0.0), ('GRAFFITI/WHITE,PINK', 0.0), ('GREY', 0.0), ('GREY,BLUE', 0.0), ('GREY,PINK', 0.0), ('GREY,WHITE/PINK', 0.0), ('GREY/GREEN,WHITE/LGREY', 0.0), ('LBLUE', 0.0), ('LBLUE,RUST', 0.0), ('LBROWN', 0.0), ('LGREY', 0.0), ('LGREY,KHAKI,BROWN', 0.0), ('LPINK', 0.0), ('LPINK,SKY BLUE,GREY', 0.0), ('MAROON,BEIGE,BLUE', 0.0), ('NAVY', 0.0), ('NAVY,WINE RED', 0.0), ('NUDE', 0.0), ('ORANGE,NAVY', 0.0), ('ORANGE,WHITE,OBLUE,BLACK', 0.0), ('OWHITE,NAVY', 0.0), ('PINK', 0.0), ('PINK,GREEN', 0.0), ('PINK,GREY', 0.0), ('PINK,LGREY', 0.0), ('PINK/BLUE,GREEN/ORANGE', 0.0), ('PURPLE', 0.0), ('PURPLE/GREY,BEIGE/PURPLE', 0.0), ('RED', 0.0), ('RED,BLUE', 0.0), ('RED,NUDE,BLUE', 0.0), ('RED,SILVER', 0.0), ('RUST BROWN,BLACK', 0.0), ('RUST,MUSTARD', 0.0), ('TAN', 0.0), ('VARIGLIA,LPINK,AIR BLUE', 0.0), ('WHITE', 0.0), ('WHITE,BLACK', 0.0), ('WHITE,BLUE', 0.0), ('WHITE,PINK', 0.0), ('WHITE,RUST', 0.0), ('WHITE/PURPLE', 0.0), ('WHITE/RED', 0.0)]\n"
     ]
    }
   ],
   "source": [
    "connection = sqlite3.connect('table1.shoes.dp')\n",
    "cursor = connection.cursor()\n",
    "\n",
    "query15 = \"\"\"\n",
    "SELECT size, AVG(comfort) AS average_comfort_rating\n",
    "FROM table3\n",
    "GROUP BY size;\n",
    "\n",
    "\"\"\"\n",
    "cursor.execute(query15)\n",
    "\n",
    "result15 = cursor.fetchall()\n",
    "print(result15)\n",
    "\n",
    "cursor.close()\n",
    "connection.close()\n"
   ]
  },
  {
   "cell_type": "markdown",
   "id": "1549a3e5",
   "metadata": {},
   "source": [
    "1 Write a query finds the top-rated men's shoes along with their sizes from \"Table1\" and \"Table3.\"\n",
    "\n"
   ]
  },
  {
   "cell_type": "code",
   "execution_count": 76,
   "id": "a107c22f",
   "metadata": {},
   "outputs": [
    {
     "name": "stdout",
     "output_type": "stream",
     "text": [
      "[(\"Men's Newton Ridge™ Waterproof Omni-Heat™ II Boot\", 0, None, 5.0), (\"Blktop Rider Lithium Men's Sneakers\", 13, '7,7.5,8,8.5,9,9.5,10,10.5,11,11.5,12,13,14', 5.0), ('Voltaic Evo Running Shoe', 13, '7,7.5,8,8.5,9,9.5,10,10.5,11,11.5,12,13,14', 5.0), (\"FENTY x PUMA Creeper Phatty Men's Sneakers\", 21, '4,4.5,5,5.5,6,6.5,7,7.5,8,8.5,9,9.5,10,10.5,11,11.5,12,13,14,15,16', 5.0), (\"FENTY x PUMA AVANTI L Men's Sneakers\", 13, '7,7.5,8,8.5,9,9.5,10,10.5,11,11.5,12,13,14', 5.0)]\n"
     ]
    }
   ],
   "source": [
    "connection = sqlite3.connect('table1.shoes.dp')\n",
    "cursor = connection.cursor()\n",
    "\n",
    "query16 = \"\"\"\n",
    "SELECT \n",
    "    t1.shoe_name AS shoe_name,\n",
    "    t2.number_of_sizes AS number_of_sizes,\n",
    "    t3.size AS size,\n",
    "    t3.stars AS rating\n",
    "FROM \n",
    "    table1 t1\n",
    "JOIN \n",
    "    table2 t2 ON t1.link = t2.link\n",
    "JOIN \n",
    "    table3 t3 ON t1.link = t3.link\n",
    "WHERE \n",
    "    t1.category = 'Men'\n",
    "ORDER BY \n",
    "    t3.stars DESC\n",
    "LIMIT 5;\n",
    "\"\"\"\n",
    "cursor.execute(query16)\n",
    "\n",
    "result16 = cursor.fetchall()\n",
    "print(result16)\n",
    "\n",
    "cursor.close()\n",
    "connection.close()\n"
   ]
  },
  {
   "cell_type": "markdown",
   "id": "9fcb263d",
   "metadata": {},
   "source": [
    "2  Write a  query calculates the average comfort rating for each category from \"Table1\" and \"Table3.\"\n",
    "\n"
   ]
  },
  {
   "cell_type": "code",
   "execution_count": 78,
   "id": "80173ec4",
   "metadata": {},
   "outputs": [
    {
     "name": "stdout",
     "output_type": "stream",
     "text": [
      "[('Men', 0.6171076631386949), ('Women', 2.6699404877712722), (\"Women's\", 0.0)]\n"
     ]
    }
   ],
   "source": [
    "connection = sqlite3.connect('table1.shoes.dp')\n",
    "cursor = connection.cursor()\n",
    "\n",
    "query17 = \"\"\"\n",
    "SELECT \n",
    "    t1.category,\n",
    "    AVG(t3.comfort) AS avg_comfort_rating\n",
    "FROM \n",
    "    table1 t1\n",
    "JOIN \n",
    "    table3 t3 ON t1.link = t3.link\n",
    "GROUP BY \n",
    "    t1.category;\n",
    "\n",
    "\"\"\"\n",
    "cursor.execute(query17)\n",
    "\n",
    "result17 = cursor.fetchall()\n",
    "print(result17)\n",
    "\n",
    "cursor.close()\n",
    "connection.close()\n"
   ]
  },
  {
   "cell_type": "markdown",
   "id": "4d90a54b",
   "metadata": {},
   "source": [
    "3  Write a  query identifies products with a durability/quality/performance rating higher than the average from \"Table1\" and \"Table3.\"\n",
    "\n"
   ]
  },
  {
   "cell_type": "code",
   "execution_count": 79,
   "id": "915d31e8",
   "metadata": {},
   "outputs": [
    {
     "name": "stdout",
     "output_type": "stream",
     "text": [
      "[('https://www.adidas.co.in/gazelle-shoes/IG1062.html', 'Gazelle Shoes', 'Women', 1, '10999', '6', None, 4.833333333333333, 5.0, 4.8), ('https://www.adidas.co.in/gazelle-bold-shoes/ID6990.html', 'Gazelle Bold Shoes', 'Women', 1, '11999', '530', None, 4.445283018867925, 4.69811320754717, 4.7), ('https://www.adidas.co.in/samba-og-shoes/B75807.html', 'Samba OG Shoes', 'Women', 1, '10999', '7027', None, 4.227175616009116, 4.586025330866657, 4.8), ('https://www.adidas.co.in/samba-og-shoes/B75806.html', 'Samba OG Shoes', 'Women', 1, '11999', '7027', None, 4.227175616009116, 4.586025330866657, 4.8), ('https://www.adidas.co.in/superstar-shoes/EG4959.html', 'Superstar Shoes', 'Women', 1, '8999', '4848', None, 4.304383788254756, 4.572813531353136, 4.8), ('https://www.adidas.co.in/gazelle-shoes/IG4988.html', 'Gazelle Shoes', 'Women', 1, '10999', '5', None, 3.8, 3.8, 4.0), ('https://www.adidas.co.in/stan-smith-shoes/Q47225.html', 'Stan Smith Shoes', 'Women', 1, '9999', '91', None, 3.934065934065934, 4.307692307692308, 4.2), ('https://www.adidas.co.in/superstar-xlg-shoes/IG9777.html', 'Superstar XLG Shoes', 'Women', 1, '11999', '57', None, 4.280701754385965, 4.543859649122807, 4.8), ('https://www.adidas.co.in/kick-shoes/IG8951.html', 'Kick Shoes', 'Men', 1, '10999', '0', None, 4.280701754385965, 4.543859649122807, 0.0), ('https://www.adidas.co.in/kick-shoes/IG8950.html', 'Kick Shoes', 'Men', 1, '10999', '0', None, 4.280701754385965, 4.543859649122807, 0.0), ('https://www.adidas.co.in/falcon-shoes/IG8301.html', 'Falcon Shoes', 'Women', 1, '9999', '10', None, 4.6, 4.8, 4.8), ('https://www.adidas.co.in/falcon-shoes/IG5732.html', 'Falcon Shoes', 'Women', 1, '9999', '10', None, 4.6, 4.8, 4.8), ('https://www.adidas.co.in/superstar-slip-on-shoes/IG5717.html', 'Superstar Slip-On shoes', 'Women', 1, '9999', '0', None, 4.6, 4.8, 0.0), ('https://www.adidas.co.in/superstar-xlg-shoes/IF9121.html', 'Superstar XLG Shoes', 'Women', 1, '11999', '0', None, 4.6, 4.8, 0.0), ('https://www.adidas.co.in/ozelia-shoes/IF8670.html', 'Ozelia Shoes', 'Men', 1, '10999', '0', None, 4.6, 4.8, 0.0), ('https://www.adidas.co.in/gazelle-spzl-shoes/IF5787.html', 'Gazelle SPZL Shoes', 'Women', 1, '12999', '13', None, 4.384615384615385, 3.769230769230769, 4.2), ('https://www.adidas.co.in/superstar-xlg-shoes/IF3001.html', 'Superstar XLG Shoes', 'Women', 1, '11999', '29', None, 4.655172413793103, 4.896551724137931, 4.8), ('https://www.adidas.co.in/falcon-shoes/IE8204.html', 'Falcon Shoes', 'Women', 1, '9999', '10', None, 4.6, 4.8, 4.8), ('https://www.adidas.co.in/falcon-shoes/IE8203.html', 'Falcon Shoes', 'Women', 1, '9999', '10', None, 4.6, 4.8, 4.8), ('https://www.adidas.co.in/forum-boot-shoes/IE7205.html', 'Forum Boot Shoes', 'Women', 1, '12999', '3', None, 4.333333333333333, 4.333333333333333, 4.7), ('https://www.adidas.co.in/ozmillen-shoes/IE3517.html', 'OZMILLEN Shoes', 'Women', 1, '10999', '6', None, 4.166666666666667, 4.166666666666667, 4.7), ('https://www.adidas.co.in/gazelle-indoor-shoes/IE2946.html', 'Gazelle Indoor Shoes', 'Women', 1, '11999', '0', None, 4.166666666666667, 4.166666666666667, 0.0), ('https://www.adidas.co.in/stan-smith-shoes/IE0459.html', 'Stan Smith Shoes', 'Women', 1, '10999', '1', None, 5.0, 5.0, 5.0), ('https://www.adidas.co.in/stan-smith-pf-shoes/IE0450.html', 'Stan Smith PF Shoes', 'Women', 1, '11999', '0', None, 5.0, 5.0, 0.0), ('https://www.adidas.co.in/superstar-slip-on-shoes/IE0399.html', 'Superstar Slip-On shoes', 'Women', 1, '9999', '0', None, 5.0, 5.0, 0.0), ('https://www.adidas.co.in/adidas--x-extra-butter-samba/IE0174.html', 'ADIDAS  X EXTRA BUTTER SAMBA', 'Men', 1, '13999', '0', None, 5.0, 5.0, 0.0), ('https://www.adidas.co.in/superstar-shoes/FV3285.html', 'Superstar Shoes', 'Women', 1, '10999', '260', None, 4.161538461538462, 4.473076923076923, 4.6), ('https://www.adidas.co.in/superstar-shoes/FV3284.html', 'Superstar Shoes', 'Women', 1, '10999', '260', None, 4.161538461538462, 4.473076923076923, 4.6), ('https://www.adidas.co.in/superstar-millencon-boot-shoes/IG5320.html', 'Superstar Millencon Boot Shoes', 'Women', 1, '13999', '15', None, 4.133333333333334, 3.733333333333333, 3.9), ('https://www.adidas.co.in/superstar-shoes/IG3147.html', 'Superstar Shoes', 'Women', 1, '11999', '28', None, 4.5, 4.642857142857143, 4.6), ('https://www.adidas.co.in/superstar-shoes/IG3146.html', 'Superstar Shoes', 'Women', 1, '11999', '28', None, 4.5, 4.642857142857143, 4.6), ('https://www.adidas.co.in/superstar-xlg-shoes/IG2972.html', 'Superstar XLG Shoes', 'Women', 1, '11999', '0', None, 4.5, 4.642857142857143, 0.0), ('https://www.adidas.co.in/superstar-xlg-shoes/IG0735.html', 'Superstar XLG Shoes', 'Women', 1, '11999', '106', None, 4.613207547169812, 4.79245283018868, 4.8), ('https://www.adidas.co.in/superstar-xlg-shoes/IF9995.html', 'Superstar XLG Shoes', 'Women', 1, '11999', '57', None, 4.280701754385965, 4.543859649122807, 4.8), ('https://www.adidas.co.in/superstar-xlg-shoes/IF8114.html', 'Superstar XLG Shoes', 'Women', 1, '11999', '107', None, 4.607476635514018, 4.785046728971962, 4.8), ('https://www.adidas.co.in/superstar-xlg-shoes/IF8068.html', 'Superstar XLG Shoes', 'Women', 1, '11999', '57', None, 4.280701754385965, 4.543859649122807, 4.8), ('https://www.adidas.co.in/superstar-shoes/IF7690.html', 'Superstar Shoes', 'Women', 1, '12999', '28', None, 4.5, 4.642857142857143, 4.6), ('https://www.adidas.co.in/superstar-bonega-2b-shoes/IF7683.html', 'Superstar Bonega 2B Shoes', 'Women', 1, '12999', '1', None, 5.0, 5.0, 5.0), ('https://www.adidas.co.in/superstar-bonega-shoes/IF7583.html', 'Superstar Bonega Shoes', 'Women', 1, '12999', '1', None, 3.0, 3.0, 3.0), ('https://www.adidas.co.in/superstar-bonega-shoes/IF7582.html', 'Superstar Bonega Shoes', 'Women', 1, '12999', '1', None, 3.0, 3.0, 3.0), ('https://www.adidas.co.in/superstar-xlg-shoes/IF3004.html', 'Superstar XLG Shoes', 'Women', 1, '11999', '29', None, 4.655172413793103, 4.896551724137931, 4.8), ('https://www.adidas.co.in/superstar-xlg-shoes/IF3003.html', 'Superstar XLG Shoes', 'Women', 1, '11999', '29', None, 4.655172413793103, 4.896551724137931, 4.8), ('https://www.adidas.co.in/adifom-superstar-shoes/IE9873.html', 'AdiFOM Superstar Shoes', 'Women', 1, '7999', '0', None, 4.655172413793103, 4.896551724137931, 0.0), ('https://www.adidas.co.in/superstar-xlg-shoes/IE9872.html', 'Superstar XLG Shoes', 'Women', 1, '11999', '152', None, 4.256578947368421, 4.697368421052632, 4.8), ('https://www.adidas.co.in/superstar-shoes/IE9856.html', 'Superstar Shoes', 'Men', 1, '10999', '0', None, 4.256578947368421, 4.697368421052632, 0.0), ('https://www.adidas.co.in/adidas-pro-model-80-poochie/IE7563.html', 'adidas Pro Model 80 Poochie', 'Men', 1, '12999', '34', None, 4.117647058823529, 4.617647058823529, 4.9), ('https://www.adidas.co.in/superstar-xlg-shoes/IE5195.html', 'Superstar XLG Shoes', 'Women', 1, '12999', '10', None, 4.0, 4.3, 4.6), ('https://www.adidas.co.in/superstar-lux-shoes/IE2302.html', 'Superstar Lux Shoes', 'Women', 1, '14999', '14', None, 4.285714285714286, 4.642857142857143, 4.4), ('https://www.nike.com/t/phoenix-waffle-womens-shoes-CDl2fm/FD2196-100', 'Nike Phoenix Waffle', 'Women', 3, '100', '33', '10.5,7.5,12,5.5,6.5,9.5,7,11.5,6,10,5,8.5,9,11,8', 1.86, 1.14, 4.5), ('https://www.nike.com/t/dunk-high-womens-shoes-LwCxXJ/DD1869-107', 'Nike Dunk High', 'Women', 5, '130', '518', '10.5,7.5,12,5.5,6.5,9.5,7,11.5,6,10,5,8.5,9,11,8', 1.76, 1.03, 4.8), ('https://www.nike.com/t/metcon-9-womens-workout-shoes-xMlsHx/DZ2537-002', 'Nike Metcon 9', 'Women', 11, '160', '34', '10.5,7.5,12,15,5.5,6.5,9.5,7,11.5,6,10,5,8.5,9,11,13,8,14', 1.48, 0.83, 4.4), ('https://www.nike.com/t/dunk-low-womens-shoes-4W2Z5P/DD1503-101', 'Nike Dunk Low', 'Women', 2, '115', '619', '10.5,7.5,12,5.5,6.5,9.5,7,11.5,6,10,5,8.5,9,11,8', 1.55, 0.98, 4.8), ('https://www.nike.com/t/zegama-womens-trail-running-shoes-FWN4lV/DH0625-005', 'Nike Zegama', 'Women', 8, '160', '72', '10.5,7.5,12,5.5,6.5,9.5,7,11.5,6,10,5,8.5,9,11,8', 1.89, 0.94, 4.8), ('https://www.nike.com/t/court-legacy-lift-womens-shoes-x0B6BB/DM7590-200', 'Nike Court Legacy Lift', 'Women', 10, '90', '297', '10.5,7.5,12,5.5,6.5,9.5,7,11.5,6,10,5,8.5,9,11,8', 1.51, 1.17, 4.6), ('https://www.nike.com/t/v2k-run-womens-shoes-nRRH5X/FD0736-103', 'Nike V2K Run', 'Women', 5, '110', '22', '10.5,7.5,12,5.5,6.5,9.5,7,11.5,6,10,5,8.5,9,11,8', 1.82, 1.0, 5.0), ('https://www.nike.com/t/court-vision-low-next-nature-womens-shoes-ZkMMBG/DH3158-102', 'Nike Court Vision Low Next Nature', 'Women', 6, '80', '200', '10.5,7.5,12,5.5,6.5,9.5,7,11.5,6,10,5,8.5,9,11,8', 1.55, 1.18, 4.6), ('https://www.nike.com/t/v2k-run-womens-shoes-nRRH5X/FD0736-003', 'Nike V2K Run', 'Women', 5, '110', '22', '10.5,7.5,12,5.5,6.5,9.5,7,11.5,6,10,5,8.5,9,11,8', 1.82, 1.0, 5.0), ('https://www.nike.com/t/waffle-debut-vintage-womens-shoes-rfRkv2/DX2931-200', 'Nike Waffle Debut Vintage', 'Women', 5, '80', '41', '10.5,7.5,12,5.5,6.5,9.5,7,11.5,6,10,5,8.5,9,11,8', 1.85, 0.85, 4.6), ('https://www.nike.com/t/waffle-debut-womens-shoes-5Rl1KL/DH9523-105', 'Nike Waffle Debut', 'Women', 4, '75', '634', '10.5,7.5,12,5.5,6.5,9.5,7,11.5,6,10,5,8.5,9,11,8', 1.8, 0.77, 4.7), ('https://www.nike.com/t/waffle-debut-womens-shoes-5Rl1KL/DH9523-100', 'Nike Waffle Debut', 'Women', 4, '75', '634', '10.5,7.5,12,5.5,6.5,9.5,7,11.5,6,10,5,8.5,9,11,8', 1.8, 0.77, 4.7), ('https://www.nike.com/t/waffle-debut-vintage-womens-shoes-rfRkv2/DX2931-400', 'Nike Waffle Debut Vintage', 'Women', 5, '80', '41', '10.5,7.5,12,5.5,6.5,9.5,7,11.5,6,10,5,8.5,9,11,8', 1.85, 0.85, 4.6), ('https://www.nike.com/t/vomero-5-womens-shoes-ZnKVhN/FN7196-663', 'Nike Vomero 5', 'Women', 0, '160', '1', '10.5,7.5,12,5.5,6.5,9.5,7,11.5,6,10,5,8.5,9,11,8', 2.0, 1.0, 5.0), ('https://www.nike.com/t/gamma-force-womens-shoes-4TR9Xf/DX9176-103', 'Nike Gamma Force', 'Women', 9, '95', '148', '10.5,7.5,12,5.5,6.5,9.5,7,11.5,6,10,5,8.5,9,11,8', 1.51, 1.2, 4.5), ('https://www.nike.com/t/air-force-1-wild-womens-shoes-r7kSSl/FB2348-003', 'Nike Air Force 1 Wild', 'Women', 6, '145', '24', '10.5,5.5,6.5,9.5,11.5,10,5,8.5,13,7.5,15,7,6,11,14,16,4,12.5,3.5,4.5,9,12,8', 1.71, 1.13, 4.5), ('https://www.nike.com/t/cortez-txt-womens-shoes-6Q4TgR/DZ2795-001', 'Nike Cortez TXT', 'Women', 3, '90', '7', '10.5,7.5,12,5.5,6.5,9.5,7,11.5,6,10,5,8.5,9,11,8', 1.0, 1.0, 4.3), ('https://www.nike.com/t/pegasus-40-womens-road-running-shoes-wide-L80k6C/FN7991-007', 'Nike Pegasus 40', 'Women', 5, '130', '146', '10.5,7.5,12,5.5,6.5,9.5,7,11.5,6,10,5,8.5,9,11,8', 1.8, 1.19, 4.6), ('https://www.nike.com/t/free-metcon-5-womens-workout-shoes-h4Zl5h/DV3950-201', 'Nike Free Metcon 5', 'Women', 9, '120', '308', '10.5,7.5,12,15,5.5,6.5,9.5,7,11.5,6,10,5,8.5,9,11,13,8,14', 1.78, 0.9, 4.7), ('https://www.nike.com/t/pegasus-trail-4-womens-trail-running-shoes-CQT261/DJ6159-005', 'Nike Pegasus Trail 4', 'Women', 12, '140', '316', '10.5,7.5,12,5.5,6.5,9.5,7,11.5,6,10,5,8.5,9,11,8', 1.83, 0.88, 4.7), ('https://www.nike.com/t/air-vapormax-plus-womens-shoes-xbt7zf/FQ8895-100', 'Nike Air VaporMax Plus', 'Women', 6, '210', '2', '10.5,7.5,12,5.5,6.5,9.5,7,11.5,6,10,5,8.5,9,11,8', 2.0, 1.0, 5.0), ('https://www.nike.com/t/interact-run-womens-road-running-shoes-v5LlQl/FD2292-007', 'Nike Interact Run', 'Women', 4, '85', '28', '10.5,7.5,12,5.5,6.5,9.5,7,11.5,6,10,5,8.5,9,11,8', 1.86, 0.9, 4.6), ('https://www.nike.com/t/killshot-2-womens-shoes-ZmzdkQ/FZ5630-101', 'Nike Killshot 2', 'Women', 2, '90', '1', '10.5,5.5,6.5,9.5,11.5,10,5,8.5,13,15.5,7.5,7,6,11,13.5,4,12.5,14.5,3.5,4.5,9,12,8', 1.0, 1.0, 5.0), ('https://www.nike.com/t/vomero-5-womens-shoes-26nkFx/FN7778-600', 'Nike Vomero 5', 'Women', 0, '160', '4', '10.5,7.5,12,5.5,6.5,9.5,7,11.5,6,10,5,8.5,9,11,8', 2.0, 1.0, 5.0), ('https://www.nike.com/t/blazer-mid-77-womens-shoes-NPWfjm/CZ1055-100', \"Nike Blazer Mid '77\", 'Women', 6, '105', '708', '10.5,7.5,12,5.5,6.5,9.5,7,11.5,6,10,5,8.5,9,11,8', 1.31, 0.95, 4.6), ('https://www.nike.com/t/waffle-one-womens-shoes-qk5cz3/DC2533-103', 'Nike Waffle One', 'Women', 6, '110', '285', '10.5,7.5,12,5.5,6.5,9.5,7,11.5,6,10,5,8.5,9,11,8', 1.49, 1.01, 4.6)]\n"
     ]
    }
   ],
   "source": [
    "\n",
    "connection = sqlite3.connect('table1.shoes.dp')\n",
    "cursor = connection.cursor()\n",
    "\n",
    "query18 = \"\"\"\n",
    "SELECT t1.link, t1.shoe_name, t1.category, t1.number_of_colors, t1.price,\n",
    "       t3.reviews, t3.size, t3.comfort, t3.quantification, t3.stars\n",
    "FROM table1 t1\n",
    "JOIN table3 t3 ON t1.link = t3.link\n",
    "WHERE t3.quantification > (\n",
    "    SELECT AVG(quantification) FROM table3\n",
    ");\n",
    "\"\"\"\n",
    "cursor.execute(query18)\n",
    "\n",
    "result18 = cursor.fetchall()\n",
    "print(result18)\n",
    "\n",
    "cursor.close()\n",
    "connection.close()\n"
   ]
  },
  {
   "cell_type": "markdown",
   "id": "71e5b0c9",
   "metadata": {},
   "source": [
    " 4    Write a  subquery finds products with comfort ratings above the average comfort rating using \"Table1\" and \"Table3.\"\n",
    "\n"
   ]
  },
  {
   "cell_type": "code",
   "execution_count": 80,
   "id": "e2393492",
   "metadata": {},
   "outputs": [
    {
     "name": "stdout",
     "output_type": "stream",
     "text": [
      "[('https://www.adidas.co.in/gazelle-shoes/IG1062.html', 'Gazelle Shoes', 'Women', 1, '10999', '6', None, 4.833333333333333, 5.0, 4.8), ('https://www.adidas.co.in/gazelle-bold-shoes/ID6990.html', 'Gazelle Bold Shoes', 'Women', 1, '11999', '530', None, 4.445283018867925, 4.69811320754717, 4.7), ('https://www.adidas.co.in/samba-og-shoes/B75807.html', 'Samba OG Shoes', 'Women', 1, '10999', '7027', None, 4.227175616009116, 4.586025330866657, 4.8), ('https://www.adidas.co.in/samba-og-shoes/B75806.html', 'Samba OG Shoes', 'Women', 1, '11999', '7027', None, 4.227175616009116, 4.586025330866657, 4.8), ('https://www.adidas.co.in/superstar-shoes/EG4959.html', 'Superstar Shoes', 'Women', 1, '8999', '4848', None, 4.304383788254756, 4.572813531353136, 4.8), ('https://www.adidas.co.in/gazelle-shoes/IG4988.html', 'Gazelle Shoes', 'Women', 1, '10999', '5', None, 3.8, 3.8, 4.0), ('https://www.adidas.co.in/stan-smith-shoes/Q47225.html', 'Stan Smith Shoes', 'Women', 1, '9999', '91', None, 3.934065934065934, 4.307692307692308, 4.2), ('https://www.adidas.co.in/superstar-xlg-shoes/IG9777.html', 'Superstar XLG Shoes', 'Women', 1, '11999', '57', None, 4.280701754385965, 4.543859649122807, 4.8), ('https://www.adidas.co.in/kick-shoes/IG8951.html', 'Kick Shoes', 'Men', 1, '10999', '0', None, 4.280701754385965, 4.543859649122807, 0.0), ('https://www.adidas.co.in/kick-shoes/IG8950.html', 'Kick Shoes', 'Men', 1, '10999', '0', None, 4.280701754385965, 4.543859649122807, 0.0), ('https://www.adidas.co.in/falcon-shoes/IG8301.html', 'Falcon Shoes', 'Women', 1, '9999', '10', None, 4.6, 4.8, 4.8), ('https://www.adidas.co.in/falcon-shoes/IG5732.html', 'Falcon Shoes', 'Women', 1, '9999', '10', None, 4.6, 4.8, 4.8), ('https://www.adidas.co.in/superstar-slip-on-shoes/IG5717.html', 'Superstar Slip-On shoes', 'Women', 1, '9999', '0', None, 4.6, 4.8, 0.0), ('https://www.adidas.co.in/superstar-xlg-shoes/IF9121.html', 'Superstar XLG Shoes', 'Women', 1, '11999', '0', None, 4.6, 4.8, 0.0), ('https://www.adidas.co.in/ozelia-shoes/IF8670.html', 'Ozelia Shoes', 'Men', 1, '10999', '0', None, 4.6, 4.8, 0.0), ('https://www.adidas.co.in/gazelle-spzl-shoes/IF5787.html', 'Gazelle SPZL Shoes', 'Women', 1, '12999', '13', None, 4.384615384615385, 3.769230769230769, 4.2), ('https://www.adidas.co.in/superstar-xlg-shoes/IF3001.html', 'Superstar XLG Shoes', 'Women', 1, '11999', '29', None, 4.655172413793103, 4.896551724137931, 4.8), ('https://www.adidas.co.in/falcon-shoes/IE8204.html', 'Falcon Shoes', 'Women', 1, '9999', '10', None, 4.6, 4.8, 4.8), ('https://www.adidas.co.in/falcon-shoes/IE8203.html', 'Falcon Shoes', 'Women', 1, '9999', '10', None, 4.6, 4.8, 4.8), ('https://www.adidas.co.in/forum-boot-shoes/IE7205.html', 'Forum Boot Shoes', 'Women', 1, '12999', '3', None, 4.333333333333333, 4.333333333333333, 4.7), ('https://www.adidas.co.in/ozmillen-shoes/IE3517.html', 'OZMILLEN Shoes', 'Women', 1, '10999', '6', None, 4.166666666666667, 4.166666666666667, 4.7), ('https://www.adidas.co.in/gazelle-indoor-shoes/IE2946.html', 'Gazelle Indoor Shoes', 'Women', 1, '11999', '0', None, 4.166666666666667, 4.166666666666667, 0.0), ('https://www.adidas.co.in/stan-smith-shoes/IE0459.html', 'Stan Smith Shoes', 'Women', 1, '10999', '1', None, 5.0, 5.0, 5.0), ('https://www.adidas.co.in/stan-smith-pf-shoes/IE0450.html', 'Stan Smith PF Shoes', 'Women', 1, '11999', '0', None, 5.0, 5.0, 0.0), ('https://www.adidas.co.in/superstar-slip-on-shoes/IE0399.html', 'Superstar Slip-On shoes', 'Women', 1, '9999', '0', None, 5.0, 5.0, 0.0), ('https://www.adidas.co.in/adidas--x-extra-butter-samba/IE0174.html', 'ADIDAS  X EXTRA BUTTER SAMBA', 'Men', 1, '13999', '0', None, 5.0, 5.0, 0.0), ('https://www.adidas.co.in/superstar-shoes/FV3285.html', 'Superstar Shoes', 'Women', 1, '10999', '260', None, 4.161538461538462, 4.473076923076923, 4.6), ('https://www.adidas.co.in/superstar-shoes/FV3284.html', 'Superstar Shoes', 'Women', 1, '10999', '260', None, 4.161538461538462, 4.473076923076923, 4.6), ('https://www.adidas.co.in/superstar-millencon-boot-shoes/IG5320.html', 'Superstar Millencon Boot Shoes', 'Women', 1, '13999', '15', None, 4.133333333333334, 3.733333333333333, 3.9), ('https://www.adidas.co.in/superstar-shoes/IG3147.html', 'Superstar Shoes', 'Women', 1, '11999', '28', None, 4.5, 4.642857142857143, 4.6), ('https://www.adidas.co.in/superstar-shoes/IG3146.html', 'Superstar Shoes', 'Women', 1, '11999', '28', None, 4.5, 4.642857142857143, 4.6), ('https://www.adidas.co.in/superstar-xlg-shoes/IG2972.html', 'Superstar XLG Shoes', 'Women', 1, '11999', '0', None, 4.5, 4.642857142857143, 0.0), ('https://www.adidas.co.in/superstar-xlg-shoes/IG0735.html', 'Superstar XLG Shoes', 'Women', 1, '11999', '106', None, 4.613207547169812, 4.79245283018868, 4.8), ('https://www.adidas.co.in/superstar-xlg-shoes/IF9995.html', 'Superstar XLG Shoes', 'Women', 1, '11999', '57', None, 4.280701754385965, 4.543859649122807, 4.8), ('https://www.adidas.co.in/superstar-xlg-shoes/IF8114.html', 'Superstar XLG Shoes', 'Women', 1, '11999', '107', None, 4.607476635514018, 4.785046728971962, 4.8), ('https://www.adidas.co.in/superstar-xlg-shoes/IF8068.html', 'Superstar XLG Shoes', 'Women', 1, '11999', '57', None, 4.280701754385965, 4.543859649122807, 4.8), ('https://www.adidas.co.in/superstar-shoes/IF7690.html', 'Superstar Shoes', 'Women', 1, '12999', '28', None, 4.5, 4.642857142857143, 4.6), ('https://www.adidas.co.in/superstar-bonega-2b-shoes/IF7683.html', 'Superstar Bonega 2B Shoes', 'Women', 1, '12999', '1', None, 5.0, 5.0, 5.0), ('https://www.adidas.co.in/superstar-bonega-shoes/IF7583.html', 'Superstar Bonega Shoes', 'Women', 1, '12999', '1', None, 3.0, 3.0, 3.0), ('https://www.adidas.co.in/superstar-bonega-shoes/IF7582.html', 'Superstar Bonega Shoes', 'Women', 1, '12999', '1', None, 3.0, 3.0, 3.0), ('https://www.adidas.co.in/superstar-xlg-shoes/IF3004.html', 'Superstar XLG Shoes', 'Women', 1, '11999', '29', None, 4.655172413793103, 4.896551724137931, 4.8), ('https://www.adidas.co.in/superstar-xlg-shoes/IF3003.html', 'Superstar XLG Shoes', 'Women', 1, '11999', '29', None, 4.655172413793103, 4.896551724137931, 4.8), ('https://www.adidas.co.in/adifom-superstar-shoes/IE9873.html', 'AdiFOM Superstar Shoes', 'Women', 1, '7999', '0', None, 4.655172413793103, 4.896551724137931, 0.0), ('https://www.adidas.co.in/superstar-xlg-shoes/IE9872.html', 'Superstar XLG Shoes', 'Women', 1, '11999', '152', None, 4.256578947368421, 4.697368421052632, 4.8), ('https://www.adidas.co.in/superstar-shoes/IE9856.html', 'Superstar Shoes', 'Men', 1, '10999', '0', None, 4.256578947368421, 4.697368421052632, 0.0), ('https://www.adidas.co.in/adidas-pro-model-80-poochie/IE7563.html', 'adidas Pro Model 80 Poochie', 'Men', 1, '12999', '34', None, 4.117647058823529, 4.617647058823529, 4.9), ('https://www.adidas.co.in/superstar-xlg-shoes/IE5195.html', 'Superstar XLG Shoes', 'Women', 1, '12999', '10', None, 4.0, 4.3, 4.6), ('https://www.adidas.co.in/superstar-lux-shoes/IE2302.html', 'Superstar Lux Shoes', 'Women', 1, '14999', '14', None, 4.285714285714286, 4.642857142857143, 4.4), ('https://www.nike.com/t/phoenix-waffle-womens-shoes-CDl2fm/FD2196-100', 'Nike Phoenix Waffle', 'Women', 3, '100', '33', '10.5,7.5,12,5.5,6.5,9.5,7,11.5,6,10,5,8.5,9,11,8', 1.86, 1.14, 4.5), ('https://www.nike.com/t/dunk-high-womens-shoes-LwCxXJ/DD1869-107', 'Nike Dunk High', 'Women', 5, '130', '518', '10.5,7.5,12,5.5,6.5,9.5,7,11.5,6,10,5,8.5,9,11,8', 1.76, 1.03, 4.8), ('https://www.nike.com/t/metcon-9-womens-workout-shoes-xMlsHx/DZ2537-002', 'Nike Metcon 9', 'Women', 11, '160', '34', '10.5,7.5,12,15,5.5,6.5,9.5,7,11.5,6,10,5,8.5,9,11,13,8,14', 1.48, 0.83, 4.4), ('https://www.nike.com/t/dunk-low-womens-shoes-4W2Z5P/DD1503-101', 'Nike Dunk Low', 'Women', 2, '115', '619', '10.5,7.5,12,5.5,6.5,9.5,7,11.5,6,10,5,8.5,9,11,8', 1.55, 0.98, 4.8), ('https://www.nike.com/t/zegama-womens-trail-running-shoes-FWN4lV/DH0625-005', 'Nike Zegama', 'Women', 8, '160', '72', '10.5,7.5,12,5.5,6.5,9.5,7,11.5,6,10,5,8.5,9,11,8', 1.89, 0.94, 4.8), ('https://www.nike.com/t/air-max-270-womens-shoes-Pgb94t/AH6789-703', 'Nike Air Max 270', 'Women', 13, '160', '3686', '10.5,7.5,12,5.5,6.5,9.5,7,11.5,6,10,5,8.5,9,11,8', 1.68, 0.72, 4.7), ('https://www.nike.com/t/court-legacy-lift-womens-shoes-x0B6BB/DM7590-200', 'Nike Court Legacy Lift', 'Women', 10, '90', '297', '10.5,7.5,12,5.5,6.5,9.5,7,11.5,6,10,5,8.5,9,11,8', 1.51, 1.17, 4.6), ('https://www.nike.com/t/v2k-run-womens-shoes-nRRH5X/FD0736-103', 'Nike V2K Run', 'Women', 5, '110', '22', '10.5,7.5,12,5.5,6.5,9.5,7,11.5,6,10,5,8.5,9,11,8', 1.82, 1.0, 5.0), ('https://www.nike.com/t/court-vision-low-next-nature-womens-shoes-ZkMMBG/DH3158-102', 'Nike Court Vision Low Next Nature', 'Women', 6, '80', '200', '10.5,7.5,12,5.5,6.5,9.5,7,11.5,6,10,5,8.5,9,11,8', 1.55, 1.18, 4.6), ('https://www.nike.com/t/v2k-run-womens-shoes-nRRH5X/FD0736-003', 'Nike V2K Run', 'Women', 5, '110', '22', '10.5,7.5,12,5.5,6.5,9.5,7,11.5,6,10,5,8.5,9,11,8', 1.82, 1.0, 5.0), ('https://www.nike.com/t/waffle-debut-vintage-womens-shoes-rfRkv2/DX2931-200', 'Nike Waffle Debut Vintage', 'Women', 5, '80', '41', '10.5,7.5,12,5.5,6.5,9.5,7,11.5,6,10,5,8.5,9,11,8', 1.85, 0.85, 4.6), ('https://www.nike.com/t/waffle-debut-womens-shoes-5Rl1KL/DH9523-105', 'Nike Waffle Debut', 'Women', 4, '75', '634', '10.5,7.5,12,5.5,6.5,9.5,7,11.5,6,10,5,8.5,9,11,8', 1.8, 0.77, 4.7), ('https://www.nike.com/t/waffle-debut-womens-shoes-5Rl1KL/DH9523-100', 'Nike Waffle Debut', 'Women', 4, '75', '634', '10.5,7.5,12,5.5,6.5,9.5,7,11.5,6,10,5,8.5,9,11,8', 1.8, 0.77, 4.7), ('https://www.nike.com/t/waffle-debut-vintage-womens-shoes-rfRkv2/DX2931-400', 'Nike Waffle Debut Vintage', 'Women', 5, '80', '41', '10.5,7.5,12,5.5,6.5,9.5,7,11.5,6,10,5,8.5,9,11,8', 1.85, 0.85, 4.6), ('https://www.nike.com/t/vomero-5-womens-shoes-ZnKVhN/FN7196-663', 'Nike Vomero 5', 'Women', 0, '160', '1', '10.5,7.5,12,5.5,6.5,9.5,7,11.5,6,10,5,8.5,9,11,8', 2.0, 1.0, 5.0), ('https://www.nike.com/t/gamma-force-womens-shoes-4TR9Xf/DX9176-103', 'Nike Gamma Force', 'Women', 9, '95', '148', '10.5,7.5,12,5.5,6.5,9.5,7,11.5,6,10,5,8.5,9,11,8', 1.51, 1.2, 4.5), ('https://www.nike.com/t/air-force-1-wild-womens-shoes-r7kSSl/FB2348-003', 'Nike Air Force 1 Wild', 'Women', 6, '145', '24', '10.5,5.5,6.5,9.5,11.5,10,5,8.5,13,7.5,15,7,6,11,14,16,4,12.5,3.5,4.5,9,12,8', 1.71, 1.13, 4.5), ('https://www.nike.com/t/cortez-txt-womens-shoes-6Q4TgR/DZ2795-001', 'Nike Cortez TXT', 'Women', 3, '90', '7', '10.5,7.5,12,5.5,6.5,9.5,7,11.5,6,10,5,8.5,9,11,8', 1.0, 1.0, 4.3), ('https://www.nike.com/t/pegasus-40-womens-road-running-shoes-wide-L80k6C/FN7991-007', 'Nike Pegasus 40', 'Women', 5, '130', '146', '10.5,7.5,12,5.5,6.5,9.5,7,11.5,6,10,5,8.5,9,11,8', 1.8, 1.19, 4.6), ('https://www.nike.com/t/free-metcon-5-womens-workout-shoes-h4Zl5h/DV3950-201', 'Nike Free Metcon 5', 'Women', 9, '120', '308', '10.5,7.5,12,15,5.5,6.5,9.5,7,11.5,6,10,5,8.5,9,11,13,8,14', 1.78, 0.9, 4.7), ('https://www.nike.com/t/pegasus-trail-4-womens-trail-running-shoes-CQT261/DJ6159-005', 'Nike Pegasus Trail 4', 'Women', 12, '140', '316', '10.5,7.5,12,5.5,6.5,9.5,7,11.5,6,10,5,8.5,9,11,8', 1.83, 0.88, 4.7), ('https://www.nike.com/t/air-vapormax-plus-womens-shoes-xbt7zf/FQ8895-100', 'Nike Air VaporMax Plus', 'Women', 6, '210', '2', '10.5,7.5,12,5.5,6.5,9.5,7,11.5,6,10,5,8.5,9,11,8', 2.0, 1.0, 5.0), ('https://www.nike.com/t/interact-run-womens-road-running-shoes-v5LlQl/FD2292-007', 'Nike Interact Run', 'Women', 4, '85', '28', '10.5,7.5,12,5.5,6.5,9.5,7,11.5,6,10,5,8.5,9,11,8', 1.86, 0.9, 4.6), ('https://www.nike.com/t/killshot-2-womens-shoes-ZmzdkQ/FZ5630-101', 'Nike Killshot 2', 'Women', 2, '90', '1', '10.5,5.5,6.5,9.5,11.5,10,5,8.5,13,15.5,7.5,7,6,11,13.5,4,12.5,14.5,3.5,4.5,9,12,8', 1.0, 1.0, 5.0), ('https://www.nike.com/t/vomero-5-womens-shoes-26nkFx/FN7778-600', 'Nike Vomero 5', 'Women', 0, '160', '4', '10.5,7.5,12,5.5,6.5,9.5,7,11.5,6,10,5,8.5,9,11,8', 2.0, 1.0, 5.0), ('https://www.nike.com/t/blazer-mid-77-womens-shoes-NPWfjm/CZ1055-100', \"Nike Blazer Mid '77\", 'Women', 6, '105', '708', '10.5,7.5,12,5.5,6.5,9.5,7,11.5,6,10,5,8.5,9,11,8', 1.31, 0.95, 4.6), ('https://www.nike.com/t/waffle-one-womens-shoes-qk5cz3/DC2533-103', 'Nike Waffle One', 'Women', 6, '110', '285', '10.5,7.5,12,5.5,6.5,9.5,7,11.5,6,10,5,8.5,9,11,8', 1.49, 1.01, 4.6)]\n"
     ]
    }
   ],
   "source": [
    "\n",
    "connection = sqlite3.connect('table1.shoes.dp')\n",
    "cursor = connection.cursor()\n",
    "query19 = \"\"\"\n",
    "SELECT \n",
    "    t1.link,\n",
    "    t1.shoe_name,\n",
    "    t1.category,\n",
    "    t1.number_of_colors,\n",
    "    t1.price,\n",
    "    t3.reviews,\n",
    "    t3.size,\n",
    "    t3.comfort,\n",
    "    t3.quantification,\n",
    "    t3.stars\n",
    "FROM \n",
    "    Table1 t1\n",
    "JOIN \n",
    "    Table3 t3 ON t1.link = t3.link\n",
    "WHERE \n",
    "    t3.comfort > (SELECT AVG(comfort) FROM Table3);\n",
    "\n",
    "\"\"\"\n",
    "cursor.execute(query19)\n",
    "result19 = cursor.fetchall()\n",
    "print(result19)\n",
    "cursor.close()\n",
    "connection.close()\n"
   ]
  },
  {
   "cell_type": "markdown",
   "id": "32654c1d",
   "metadata": {},
   "source": [
    " 5 Write a  query joins Table 1  and Table 2  using the \"Style code/Product code\" column, allowing you to retrieve shoe information along with product details.\n",
    "\n"
   ]
  },
  {
   "cell_type": "code",
   "execution_count": 81,
   "id": "f22e0605",
   "metadata": {},
   "outputs": [
    {
     "name": "stdout",
     "output_type": "stream",
     "text": [
      "[('https://www.adidas.co.in/gazelle-shoes/IG1062.html', 'Gazelle Shoes', 'Women', 1, '10999', 'https://www.adidas.co.in/gazelle-shoes/IG1062.html', 0, 'Glory Red / Off White / Cream White', None, None, None, None, 'MDW13'), ('https://www.adidas.co.in/gazelle-bold-shoes/ID6990.html', 'Gazelle Bold Shoes', 'Women', 1, '11999', 'https://www.adidas.co.in/gazelle-bold-shoes/ID6990.html', 0, 'Red / Cloud White / Gold Metallic', None, None, None, None, 'MBU94'), ('https://www.adidas.co.in/samba-og-shoes/B75807.html', 'Samba OG Shoes', 'Women', 1, '10999', 'https://www.adidas.co.in/samba-og-shoes/B75807.html', 0, 'Core Black / Cloud White / Gum', None, None, None, None, 'BSZ08'), ('https://www.adidas.co.in/samba-og-shoes/B75806.html', 'Samba OG Shoes', 'Women', 1, '11999', 'https://www.adidas.co.in/samba-og-shoes/B75806.html', 0, 'Cloud White / Core Black / Clear Granite', None, None, None, None, 'BSZ08'), ('https://www.adidas.co.in/superstar-shoes/EG4959.html', 'Superstar Shoes', 'Women', 1, '8999', 'https://www.adidas.co.in/superstar-shoes/EG4959.html', 0, 'Core Black / Cloud White / Core Black', None, None, None, None, 'GVS47'), ('https://www.adidas.co.in/gazelle-shoes/IG4988.html', 'Gazelle Shoes', 'Women', 1, '10999', 'https://www.adidas.co.in/gazelle-shoes/IG4988.html', 0, 'Shadow Navy / Clear Blue / Gum', None, None, None, None, 'LZE46'), ('https://www.adidas.co.in/stan-smith-shoes/Q47225.html', 'Stan Smith Shoes', 'Women', 1, '9999', 'https://www.adidas.co.in/stan-smith-shoes/Q47225.html', 0, 'Cloud White / Core Black / Cloud White', None, None, None, None, 'LSO26'), ('https://www.adidas.co.in/superstar-xlg-shoes/IG9777.html', 'Superstar XLG Shoes', 'Women', 1, '11999', 'https://www.adidas.co.in/superstar-xlg-shoes/IG9777.html', 0, 'Core Black / Cloud White / Gold Metallic', None, None, None, None, 'LZB18'), ('https://www.adidas.co.in/kick-shoes/IG8951.html', 'Kick Shoes', 'Men', 1, '10999', 'https://www.adidas.co.in/kick-shoes/IG8951.html', 0, 'Core Black / Core White / Gum', None, None, None, None, 'NLB34'), ('https://www.adidas.co.in/kick-shoes/IG8950.html', 'Kick Shoes', 'Men', 1, '10999', 'https://www.adidas.co.in/kick-shoes/IG8950.html', 0, 'Core White / Core Black / Gum', None, None, None, None, 'NLB34'), ('https://www.adidas.co.in/falcon-shoes/IG8301.html', 'Falcon Shoes', 'Women', 1, '9999', 'https://www.adidas.co.in/falcon-shoes/IG8301.html', 0, 'Core Black / Core Black / Cloud White', None, None, None, None, 'MCQ86'), ('https://www.adidas.co.in/falcon-shoes/IG5732.html', 'Falcon Shoes', 'Women', 1, '9999', 'https://www.adidas.co.in/falcon-shoes/IG5732.html', 0, 'Cloud White / Cloud White / Grey One', None, None, None, None, 'MCQ86'), ('https://www.adidas.co.in/superstar-slip-on-shoes/IG5717.html', 'Superstar Slip-On shoes', 'Women', 1, '9999', 'https://www.adidas.co.in/superstar-slip-on-shoes/IG5717.html', 0, 'Core Black / Cloud White / Cloud White', None, None, None, None, 'MCQ82'), ('https://www.adidas.co.in/superstar-xlg-shoes/IF9121.html', 'Superstar XLG Shoes', 'Women', 1, '11999', 'https://www.adidas.co.in/superstar-xlg-shoes/IF9121.html', 0, 'Cloud White / Collegiate Green / Green', None, None, None, None, 'NKH31'), ('https://www.adidas.co.in/ozelia-shoes/IF8670.html', 'Ozelia Shoes', 'Men', 1, '10999', 'https://www.adidas.co.in/ozelia-shoes/IF8670.html', 0, 'Charcoal S24 / Wonder Beige F23 / Orange', None, None, None, None, 'NMT16'), ('https://www.adidas.co.in/gazelle-spzl-shoes/IF5787.html', 'Gazelle SPZL Shoes', 'Women', 1, '12999', 'https://www.adidas.co.in/gazelle-spzl-shoes/IF5787.html', 0, 'Dark Green / Cloud White / Off White', None, None, None, None, 'MDR06'), ('https://www.adidas.co.in/superstar-xlg-shoes/IF3001.html', 'Superstar XLG Shoes', 'Women', 1, '11999', 'https://www.adidas.co.in/superstar-xlg-shoes/IF3001.html', 0, 'Cloud White / Core Black / Cloud White', None, None, None, None, 'MDN10'), ('https://www.adidas.co.in/falcon-shoes/IE8204.html', 'Falcon Shoes', 'Women', 1, '9999', 'https://www.adidas.co.in/falcon-shoes/IE8204.html', 0, 'Preloved Fig S24 / Shadow Violet F23 / Off White', None, None, None, None, 'MCQ86'), ('https://www.adidas.co.in/falcon-shoes/IE8203.html', 'Falcon Shoes', 'Women', 1, '9999', 'https://www.adidas.co.in/falcon-shoes/IE8203.html', 0, 'Putty Mauve S24 / Wonder Taupe S23 / Off White', None, None, None, None, 'MCQ86'), ('https://www.adidas.co.in/forum-boot-shoes/IE7205.html', 'Forum Boot Shoes', 'Women', 1, '12999', 'https://www.adidas.co.in/forum-boot-shoes/IE7205.html', 0, 'Mesa / Cream White / Gum', None, None, None, None, 'LZD31'), ('https://www.adidas.co.in/ozmillen-shoes/IE3517.html', 'OZMILLEN Shoes', 'Women', 1, '10999', 'https://www.adidas.co.in/ozmillen-shoes/IE3517.html', 0, 'Aluminium / Magic Beige F22 / Grey Three', None, None, None, None, 'MCW70'), ('https://www.adidas.co.in/gazelle-indoor-shoes/IE2946.html', 'Gazelle Indoor Shoes', 'Women', 1, '11999', 'https://www.adidas.co.in/gazelle-indoor-shoes/IE2946.html', 0, 'Wonder Clay F23 / Clear Pink / Gum', None, None, None, None, 'NKC84'), ('https://www.adidas.co.in/stan-smith-shoes/IE0459.html', 'Stan Smith Shoes', 'Women', 1, '10999', 'https://www.adidas.co.in/stan-smith-shoes/IE0459.html', 0, 'Cloud White / Core Black / Core Black', None, None, None, None, 'NKC60'), ('https://www.adidas.co.in/stan-smith-pf-shoes/IE0450.html', 'Stan Smith PF Shoes', 'Women', 1, '11999', 'https://www.adidas.co.in/stan-smith-pf-shoes/IE0450.html', 0, 'Cloud White / Off White / Core Black', None, None, None, None, 'MCW28'), ('https://www.adidas.co.in/superstar-slip-on-shoes/IE0399.html', 'Superstar Slip-On shoes', 'Women', 1, '9999', 'https://www.adidas.co.in/superstar-slip-on-shoes/IE0399.html', 0, 'Cloud White / Core Black / Cloud White', None, None, None, None, 'MCQ82'), ('https://www.adidas.co.in/adidas--x-extra-butter-samba/IE0174.html', 'ADIDAS  X EXTRA BUTTER SAMBA', 'Men', 1, '13999', 'https://www.adidas.co.in/adidas--x-extra-butter-samba/IE0174.html', 0, 'Chalk White / Gum / Chalk White', None, None, None, None, 'MCT16'), ('https://www.adidas.co.in/superstar-shoes/FV3285.html', 'Superstar Shoes', 'Women', 1, '10999', 'https://www.adidas.co.in/superstar-shoes/FV3285.html', 0, 'Cloud White / Cloud White / Cloud White', None, None, None, None, 'KXM74'), ('https://www.adidas.co.in/superstar-shoes/FV3284.html', 'Superstar Shoes', 'Women', 1, '10999', 'https://www.adidas.co.in/superstar-shoes/FV3284.html', 0, 'Cloud White / Core Black / Cloud White', None, None, None, None, 'KXM74'), ('https://www.adidas.co.in/superstar-millencon-boot-shoes/IG5320.html', 'Superstar Millencon Boot Shoes', 'Women', 1, '13999', 'https://www.adidas.co.in/superstar-millencon-boot-shoes/IG5320.html', 0, 'Core Black / Core Black / Grey Six', None, None, None, None, 'LZZ98'), ('https://www.adidas.co.in/superstar-shoes/IG3147.html', 'Superstar Shoes', 'Women', 1, '11999', 'https://www.adidas.co.in/superstar-shoes/IG3147.html', 0, 'Core White / Semi Flash Aqua / Almost Pink', None, None, None, None, 'MAT43'), ('https://www.adidas.co.in/superstar-shoes/IG3146.html', 'Superstar Shoes', 'Women', 1, '11999', 'https://www.adidas.co.in/superstar-shoes/IG3146.html', 0, 'Core White / Almost Yellow / Blue Dawn', None, None, None, None, 'MAT43'), ('https://www.adidas.co.in/superstar-xlg-shoes/IG2972.html', 'Superstar XLG Shoes', 'Women', 1, '11999', 'https://www.adidas.co.in/superstar-xlg-shoes/IG2972.html', 0, 'Silver Green / Crystal White / Green Oxide', None, None, None, None, 'MCH80'), ('https://www.adidas.co.in/superstar-xlg-shoes/IG0735.html', 'Superstar XLG Shoes', 'Women', 1, '11999', 'https://www.adidas.co.in/superstar-xlg-shoes/IG0735.html', 0, 'Shadow Olive / Shadow Olive / Core Black', None, None, None, None, 'MCM03'), ('https://www.adidas.co.in/superstar-xlg-shoes/IF9995.html', 'Superstar XLG Shoes', 'Women', 1, '11999', 'https://www.adidas.co.in/superstar-xlg-shoes/IF9995.html', 0, 'Cloud White / Core Black / Gold Metallic', None, None, None, None, 'LZB18'), ('https://www.adidas.co.in/superstar-xlg-shoes/IF8114.html', 'Superstar XLG Shoes', 'Women', 1, '11999', 'https://www.adidas.co.in/superstar-xlg-shoes/IF8114.html', 0, 'Grey Four / Grey Four / Core Black', None, None, None, None, 'MCM03'), ('https://www.adidas.co.in/superstar-xlg-shoes/IF8068.html', 'Superstar XLG Shoes', 'Women', 1, '11999', 'https://www.adidas.co.in/superstar-xlg-shoes/IF8068.html', 0, 'Cloud White / Blue / Cloud White', None, None, None, None, 'LZB18'), ('https://www.adidas.co.in/superstar-shoes/IF7690.html', 'Superstar Shoes', 'Women', 1, '12999', 'https://www.adidas.co.in/superstar-shoes/IF7690.html', 0, 'Wonder Beige F23 / Wonder Beige F23 / Silver Pebble S23', None, None, None, None, 'MAT43'), ('https://www.adidas.co.in/superstar-bonega-2b-shoes/IF7683.html', 'Superstar Bonega 2B Shoes', 'Women', 1, '12999', 'https://www.adidas.co.in/superstar-bonega-2b-shoes/IF7683.html', 0, 'Wonder Quartz / Wonder Clay / Core Black', None, None, None, None, 'MAT40'), ('https://www.adidas.co.in/superstar-bonega-shoes/IF7583.html', 'Superstar Bonega Shoes', 'Women', 1, '12999', 'https://www.adidas.co.in/superstar-bonega-shoes/IF7583.html', 0, 'Cloud White / Gold Metallic / Core Black', None, None, None, None, 'MAS99'), ('https://www.adidas.co.in/superstar-bonega-shoes/IF7582.html', 'Superstar Bonega Shoes', 'Women', 1, '12999', 'https://www.adidas.co.in/superstar-bonega-shoes/IF7582.html', 0, 'Cloud White / Silver Metallic / Core Black', None, None, None, None, 'MAS99'), ('https://www.adidas.co.in/superstar-xlg-shoes/IF3004.html', 'Superstar XLG Shoes', 'Women', 1, '11999', 'https://www.adidas.co.in/superstar-xlg-shoes/IF3004.html', 0, 'Cloud White / Bliss Orange / Cloud White', None, None, None, None, 'MDN10'), ('https://www.adidas.co.in/superstar-xlg-shoes/IF3003.html', 'Superstar XLG Shoes', 'Women', 1, '11999', 'https://www.adidas.co.in/superstar-xlg-shoes/IF3003.html', 0, 'Cloud White / Clear Sky / Cloud White', None, None, None, None, 'MDN10'), ('https://www.adidas.co.in/adifom-superstar-shoes/IE9873.html', 'AdiFOM Superstar Shoes', 'Women', 1, '7999', 'https://www.adidas.co.in/adifom-superstar-shoes/IE9873.html', 0, 'Pulse Lime / Core Black / Cloud White', None, None, None, None, 'MCH62'), ('https://www.adidas.co.in/superstar-xlg-shoes/IE9872.html', 'Superstar XLG Shoes', 'Women', 1, '11999', 'https://www.adidas.co.in/superstar-xlg-shoes/IE9872.html', 0, 'Collegiate Burgundy / Cloud White / Collegiate Navy', None, None, None, None, 'MAP80'), ('https://www.adidas.co.in/superstar-shoes/IE9856.html', 'Superstar Shoes', 'Men', 1, '10999', 'https://www.adidas.co.in/superstar-shoes/IE9856.html', 0, 'Core Black / Pulse Lime / Cloud White', None, None, None, None, 'LZQ72'), ('https://www.adidas.co.in/adidas-pro-model-80-poochie/IE7563.html', 'adidas Pro Model 80 Poochie', 'Men', 1, '12999', 'https://www.adidas.co.in/adidas-pro-model-80-poochie/IE7563.html', 0, 'Semi Impact Orange / Core Black / Off White', None, None, None, None, 'MCK79'), ('https://www.adidas.co.in/superstar-xlg-shoes/IE5195.html', 'Superstar XLG Shoes', 'Women', 1, '12999', 'https://www.adidas.co.in/superstar-xlg-shoes/IE5195.html', 0, 'Core Black / Core Black / Gold Metallic', None, None, None, None, 'MDU10'), ('https://www.adidas.co.in/superstar-lux-shoes/IE2302.html', 'Superstar Lux Shoes', 'Women', 1, '14999', 'https://www.adidas.co.in/superstar-lux-shoes/IE2302.html', 0, 'Wonder Beige / Wonder Beige / Aluminium', None, None, None, None, 'MCK75'), ('https://www.columbia.com/p/mens-granite-trail-waterproof-shoe-2053211.html?dwvar_2053211_color=231', \"Men's Granite Trail™ Waterproof Shoe\", 'Men', 0, 'GO THE EXTRA MILE', 'https://www.columbia.com/p/mens-granite-trail-waterproof-shoe-2053211.html?dwvar_2053211_color=231', 0, None, None, None, None, None, '2053211'), ('https://www.columbia.com/p/womens-facet-75-mid-outdry-shoe-2027201.html?dwvar_2027201_color=553', \"Women's Facet™ 75 Mid OutDry™ Shoe\", 'Women', 0, 'ENDLESS TRAILS', 'https://www.columbia.com/p/womens-facet-75-mid-outdry-shoe-2027201.html?dwvar_2027201_color=553', 0, None, None, None, None, None, '2027201'), ('https://www.columbia.com/p/mens-pfg-pro-sport-shoe-2041001.html?dwvar_2041001_color=383', \"Men's PFG Pro Sport™ Shoe\", 'Men', 0, 'SURE-FOOTED COMFORT', 'https://www.columbia.com/p/mens-pfg-pro-sport-shoe-2041001.html?dwvar_2041001_color=383', 0, None, None, None, None, None, '2041001'), ('https://www.columbia.com/p/womens-minx-slip-iv-boot-1950851.html?dwvar_1950851_color=125', \"Women's Minx™ Slip IV Boot\", 'Women', 0, 'Shipping Information', 'https://www.columbia.com/p/womens-minx-slip-iv-boot-1950851.html?dwvar_1950851_color=125', 0, None, None, None, None, None, '1950851'), ('https://www.columbia.com/p/womens-pfg-bonehead-shoe-1987151.html?dwvar_1987151_color=103', \"Women's PFG Bonehead™ Shoe\", 'Women', 0, 'A STEP ABOVE', 'https://www.columbia.com/p/womens-pfg-bonehead-shoe-1987151.html?dwvar_1987151_color=103', 0, None, None, None, None, None, '1987151'), ('https://www.columbia.com/p/womens-granite-trail-mid-waterproof-shoe-2053221.html?dwvar_2053221_color=033', \"Women's Granite Trail™ Mid Waterproof Shoe\", 'Women', 0, 'GO THE EXTRA MILE', 'https://www.columbia.com/p/womens-granite-trail-mid-waterproof-shoe-2053221.html?dwvar_2053221_color=033', 0, None, None, None, None, None, '2053221'), ('https://www.columbia.com/p/mens-gunnison-ii-omni-heat-boot-1862291.html?dwvar_1862291_color=231', \"Men's Gunnison™ II Omni-Heat™ Boot\", 'Men', 0, 'WINTER-READY', 'https://www.columbia.com/p/mens-gunnison-ii-omni-heat-boot-1862291.html?dwvar_1862291_color=231', 0, None, None, None, None, None, '1862291'), ('https://www.columbia.com/p/mens-fairbanks-omni-heat-boot---wide-1746012.html?dwvar_1746012_color=288', \"Men's Fairbanks™ Omni-Heat™ Boot - Wide\", 'Men', 0, 'Shipping Information', 'https://www.columbia.com/p/mens-fairbanks-omni-heat-boot---wide-1746012.html?dwvar_1746012_color=288', 0, None, None, None, None, None, '1746012'), ('https://www.columbia.com/p/womens-trailstorm-ascend-mid-waterproof-shoe-2044351.html?dwvar_2044351_color=342', \"Women's Trailstorm™ Ascend Mid Waterproof Shoe\", 'Women', 0, 'STORM ON', 'https://www.columbia.com/p/womens-trailstorm-ascend-mid-waterproof-shoe-2044351.html?dwvar_2044351_color=342', 0, None, None, None, None, None, '2044351'), ('https://www.columbia.com/p/little-kids-powderbug-plus-ii-snow-boot-1637872.html?dwvar_1637872_color=010', 'Little Kids’ Powderbug™ Plus II Snow Boot', 'Men', 0, 'SNOW TIME RAIN TIME', 'https://www.columbia.com/p/little-kids-powderbug-plus-ii-snow-boot-1637872.html?dwvar_1637872_color=010', 0, None, None, None, None, None, '1637872'), ('https://www.columbia.com/p/mens-pfg-bahama-vent-loco-relaxed-iii-shoe-1889601.html?dwvar_1889601_color=053', \"Men's PFG Bahama™ Vent Loco Relaxed III Shoe\", 'Men', 0, 'QUICK-CLEANING CANVAS', 'https://www.columbia.com/p/mens-pfg-bahama-vent-loco-relaxed-iii-shoe-1889601.html?dwvar_1889601_color=053', 0, None, None, None, None, None, '1889601'), ('https://www.columbia.com/p/womens-granite-trail-waterproof-shoe-2053241.html?dwvar_2053241_color=342', \"Women's Granite Trail™ Waterproof Shoe\", 'Women', 0, 'GO THE EXTRA MILE', 'https://www.columbia.com/p/womens-granite-trail-waterproof-shoe-2053241.html?dwvar_2053241_color=342', 0, None, None, None, None, None, '2053241'), ('https://www.columbia.com/p/mens-bugaboot-iii-boot---wide-1791222.html?dwvar_1791222_color=010', \"Men's Bugaboot™ III Boot - Wide\", 'Men', 0, 'RELIABLE WINTER BOOT', 'https://www.columbia.com/p/mens-bugaboot-iii-boot---wide-1791222.html?dwvar_1791222_color=010', 0, None, None, None, None, None, '1791222'), ('https://www.columbia.com/p/womens-ice-maiden-ii-boot---wide-1554172.html?dwvar_1554172_color=232', 'Women’s Ice Maiden™ II Boot - Wide', 'Women', 0, 'Shipping Information', 'https://www.columbia.com/p/womens-ice-maiden-ii-boot---wide-1554172.html?dwvar_1554172_color=232', 0, None, None, None, None, None, '1554172'), ('https://www.columbia.com/p/mens-fairbanks-omni-heat-boot-1746011.html?dwvar_1746011_color=288', 'Men’s Fairbanks™ Omni-Heat™ Boot', 'Men', 0, 'Shipping Information', 'https://www.columbia.com/p/mens-fairbanks-omni-heat-boot-1746011.html?dwvar_1746011_color=288', 0, None, None, None, None, None, '1746011'), ('https://www.columbia.com/p/mens-bahama-vent-relaxed-pfg-shoe---wide-1661512.html?dwvar_1661512_color=023', 'Men’s Bahama™ Vent Relaxed PFG Shoe - Wide', 'Men', 0, 'IDEAL FISHING SHOE', 'https://www.columbia.com/p/mens-bahama-vent-relaxed-pfg-shoe---wide-1661512.html?dwvar_1661512_color=023', 0, None, None, None, None, None, '1661512'), ('https://www.columbia.com/p/mens-facet-75-alpha-outdry-shoe-2044241.html?dwvar_2044241_color=316', \"Men's Facet™ 75 Alpha OutDry™ Shoe\", 'Men', 0, 'WATERPROOF POWER', 'https://www.columbia.com/p/mens-facet-75-alpha-outdry-shoe-2044241.html?dwvar_2044241_color=316', 0, None, None, None, None, None, '2044241'), ('https://www.columbia.com/p/mens-pfg-bahama-vent-shoe-1673141.html?dwvar_1673141_color=037', 'Men’s PFG Bahama™ Vent Shoe', 'Men', 0, 'FISH ON', 'https://www.columbia.com/p/mens-pfg-bahama-vent-shoe-1673141.html?dwvar_1673141_color=037', 0, None, None, None, None, None, '1673141'), ('https://www.columbia.com/p/mens-newton-ridge-waterproof-omni-heat-ii-boot-2056191.html?dwvar_2056191_color=240', \"Men's Newton Ridge™ Waterproof Omni-Heat™ II Boot\", 'Men', 0, 'WINTER HIKER', 'https://www.columbia.com/p/mens-newton-ridge-waterproof-omni-heat-ii-boot-2056191.html?dwvar_2056191_color=240', 0, None, None, None, None, None, '2056191'), ('https://www.columbia.com/p/womens-newton-ridge-bc-boot-2044571.html?dwvar_2044571_color=252', \"Women's Newton Ridge™ BC Boot\", 'Women', 0, 'CLASSIC THEN BETTER NOW', 'https://www.columbia.com/p/womens-newton-ridge-bc-boot-2044571.html?dwvar_2044571_color=252', 0, None, None, None, None, None, '2044571'), ('https://www.columbia.com/p/mens-granite-trail-mid-waterproof-shoe-2053201.html?dwvar_2053201_color=089', \"Men's Granite Trail™ Mid Waterproof Shoe\", 'Men', 0, 'GO THE EXTRA MILE', 'https://www.columbia.com/p/mens-granite-trail-mid-waterproof-shoe-2053201.html?dwvar_2053201_color=089', 0, None, None, None, None, None, '2053201'), ('https://www.columbia.com/p/mens-newton-ridge-hiking-boot-1594731.html?dwvar_1594731_color=289', 'Men’s Newton Ridge™ Plus II Waterproof Hiking Boot', 'Men', 0, 'Shipping Information', 'https://www.columbia.com/p/mens-newton-ridge-hiking-boot-1594731.html?dwvar_1594731_color=289', 0, None, None, None, None, None, '1594731'), ('https://www.columbia.com/p/womens-bugaboot-iii-boot-1791281.html?dwvar_1791281_color=010', \"Women's Bugaboot™ III Boot\", 'Women', 0, 'Shipping Information', 'https://www.columbia.com/p/womens-bugaboot-iii-boot-1791281.html?dwvar_1791281_color=010', 0, None, None, None, None, None, '1791281'), ('https://www.columbia.com/p/womens-newton-ridge-plus-waterproof-hiking-boot-1424692.html?dwvar_1424692_color=052', \"Women's Newton Ridge™ Plus Waterproof Hiking Boot\", 'Women', 0, 'CLASSIC WATERPROOF HIKER', 'https://www.columbia.com/p/womens-newton-ridge-plus-waterproof-hiking-boot-1424692.html?dwvar_1424692_color=052', 0, None, None, None, None, None, '1424692'), ('https://www.columbia.com/p/mens-bahama-vent-relaxed-pfg-shoe-1661511.html?dwvar_1661511_color=210', 'Men’s Bahama™ Vent Relaxed PFG Shoe', 'Men', 0, 'IDEAL FISHING SHOE', 'https://www.columbia.com/p/mens-bahama-vent-relaxed-pfg-shoe-1661511.html?dwvar_1661511_color=210', 0, None, None, None, None, None, '1661511'), ('https://www.columbia.com/p/mens-pfg-tamiami-shoe-1927991.html?dwvar_1927991_color=099', \"Men's PFG Tamiami™ Shoe\", 'Men', 0, 'MAKE A SPLASH', 'https://www.columbia.com/p/mens-pfg-tamiami-shoe-1927991.html?dwvar_1927991_color=099', 0, None, None, None, None, None, '1927991'), ('https://www.columbia.com/p/mens-bugaboot-iii-boot-1791221.html?dwvar_1791221_color=010', \"Men's Bugaboot™ III Boot\", 'Men', 0, 'Shipping Information', 'https://www.columbia.com/p/mens-bugaboot-iii-boot-1791221.html?dwvar_1791221_color=010', 0, None, None, None, None, None, '1791221'), ('https://www.columbia.com/p/big-kids-bahama-pfg-shoe-1826931.html?dwvar_1826931_color=036', \"Big Kids' Bahama™ PFG Shoe\", 'Men', 0, 'CAREFREE SLIP-ONS', 'https://www.columbia.com/p/big-kids-bahama-pfg-shoe-1826931.html?dwvar_1826931_color=036', 0, None, None, None, None, None, '1826931'), ('https://www.columbia.com/p/mens-pfg-tidal-ray-flip-flop-1982241.html?dwvar_1982241_color=005', \"Men's PFG Tidal Ray™ Flip Flop\", 'Men', 0, 'EASY LIVING', 'https://www.columbia.com/p/mens-pfg-tidal-ray-flip-flop-1982241.html?dwvar_1982241_color=005', 0, None, None, None, None, None, '1982241'), ('https://www.columbia.com/p/mens-pfg-bahama-vent-shoe---wide-1673142.html?dwvar_1673142_color=278', \"Men's PFG Bahama™ Vent Shoe - Wide\", 'Men', 0, 'FISH ON', 'https://www.columbia.com/p/mens-pfg-bahama-vent-shoe---wide-1673142.html?dwvar_1673142_color=278', 0, None, None, None, None, None, '1673142'), ('https://www.columbia.com/p/mens-trailstorm-ascend-waterproof-shoe-2044281.html?dwvar_2044281_color=005', \"Men's Trailstorm™ Ascend Waterproof Shoe\", 'Men', 0, 'STORM ON', 'https://www.columbia.com/p/mens-trailstorm-ascend-waterproof-shoe-2044281.html?dwvar_2044281_color=005', 0, None, None, None, None, None, '2044281'), ('https://www.columbia.com/p/womens-ice-maiden-shorty-boot-1862391.html?dwvar_1862391_color=286', \"Women's Ice Maiden™ Shorty Boot\", 'Women', 0, 'EVERYDAY BOOT', 'https://www.columbia.com/p/womens-ice-maiden-shorty-boot-1862391.html?dwvar_1862391_color=286', 0, None, None, None, None, None, '1862391'), ('https://www.columbia.com/p/womens-minx-shorty-iii-boot-1803151.html?dwvar_1803151_color=212', 'Women’s Minx™ Shorty III Boot', 'Women', 0, 'Shipping Information', 'https://www.columbia.com/p/womens-minx-shorty-iii-boot-1803151.html?dwvar_1803151_color=212', 0, None, None, None, None, None, '1803151'), ('https://www.columbia.com/p/mens-facet-75-mid-outdry-shoe-2027051.html?dwvar_2027051_color=383', \"Men's Facet™ 75 Mid OutDry™ Shoe\", 'Men', 0, 'ENDLESS TRAILS', 'https://www.columbia.com/p/mens-facet-75-mid-outdry-shoe-2027051.html?dwvar_2027051_color=383', 0, None, None, None, None, None, '2027051'), ('https://www.columbia.com/p/mens-granite-trail-waterproof-shoe---wide-2053212.html?dwvar_2053212_color=213', \"Men's Granite Trail™ Waterproof Shoe - Wide\", 'Men', 0, 'GO THE EXTRA MILE', 'https://www.columbia.com/p/mens-granite-trail-waterproof-shoe---wide-2053212.html?dwvar_2053212_color=213', 0, None, None, None, None, None, '2053212'), ('https://www.columbia.com/p/womens-pfg-tamiami-shoe-1939981.html?dwvar_1939981_color=279', \"Women's PFG Tamiami™ Shoe\", 'Women', 0, 'MAKE A SPLASH', 'https://www.columbia.com/p/womens-pfg-tamiami-shoe-1939981.html?dwvar_1939981_color=279', 0, None, None, None, None, None, '1939981'), ('https://www.columbia.com/p/mens-pfg-rostra-beachcomber-flip-flop-1987121.html?dwvar_1987121_color=036', \"Men's PFG Rostra™ Beachcomber™ Flip Flop\", 'Men', 0, \"LIFE'S A BEACH\", 'https://www.columbia.com/p/mens-pfg-rostra-beachcomber-flip-flop-1987121.html?dwvar_1987121_color=036', 0, None, None, None, None, None, '1987121'), ('https://www.columbia.com/p/mens-woodburn-ii-waterproof-shoe-1553001.html?dwvar_1553001_color=231', \"Men's Woodburn™ II Waterproof Shoe\", 'Men', 0, 'WATERPROOF COMFORT', 'https://www.columbia.com/p/mens-woodburn-ii-waterproof-shoe-1553001.html?dwvar_1553001_color=231', 0, None, None, None, None, None, '1553001'), ('https://www.columbia.com/p/mens-pfg-bonehead-shoe---wide-1987132.html?dwvar_1987132_color=271', \"Men's PFG Bonehead™ Shoe - Wide\", 'Men', 0, 'A STEP ABOVE', 'https://www.columbia.com/p/mens-pfg-bonehead-shoe---wide-1987132.html?dwvar_1987132_color=271', 0, None, None, None, None, None, '1987132'), ('https://www.columbia.com/p/womens-newton-ridge-plus-waterproof-amped-hiking-boot-1718821.html?dwvar_1718821_color=204', 'Women’s Newton Ridge™ Plus Waterproof Amped Hiking Boot', 'Women', 0, 'Shipping Information', 'https://www.columbia.com/p/womens-newton-ridge-plus-waterproof-amped-hiking-boot-1718821.html?dwvar_1718821_color=204', 0, None, None, None, None, None, '1718821'), ('https://www.columbia.com/p/mens-pfg-bonehead-shoe-1987131.html?dwvar_1987131_color=088', \"Men's PFG Bonehead™ Shoe\", 'Men', 0, 'A STEP ABOVE', 'https://www.columbia.com/p/mens-pfg-bonehead-shoe-1987131.html?dwvar_1987131_color=088', 0, None, None, None, None, None, '1987131'), ('https://www.columbia.com/p/womens-ice-maiden-slip-iii-boot-1950861.html?dwvar_1950861_color=010', \"Women's Ice Maiden™ Slip III Boot\", 'Women', 0, 'WINTER WONDER', 'https://www.columbia.com/p/womens-ice-maiden-slip-iii-boot-1950861.html?dwvar_1950861_color=010', 0, None, None, None, None, None, '1950861'), ('https://www.columbia.com/p/little-kids-bahama-pfg-shoe-1826932.html?dwvar_1826932_color=227', \"Little Kids' Bahama™ PFG Shoe\", 'Men', 0, 'CAREFREE SLIP-ONS', 'https://www.columbia.com/p/little-kids-bahama-pfg-shoe-1826932.html?dwvar_1826932_color=227', 0, None, None, None, None, None, '1826932'), ('https://www.columbia.com/p/mens-telluron-omni-heat-ii-boot-1928751.html?dwvar_1928751_color=010', \"Men's Telluron™ Omni-Heat™ II Boot\", 'Men', 0, 'GO-ANYWHERE BOOT', 'https://www.columbia.com/p/mens-telluron-omni-heat-ii-boot-1928751.html?dwvar_1928751_color=010', 0, None, None, None, None, None, '1928751'), ('https://www.columbia.com/p/womens-pfg-slackwater-boat-shoe-2027081.html?dwvar_2027081_color=019', \"Women's PFG Slackwater™ Boat Shoe\", 'Women', 0, 'FLOAT ON', 'https://www.columbia.com/p/womens-pfg-slackwater-boat-shoe-2027081.html?dwvar_2027081_color=019', 0, None, None, None, None, None, '2027081'), ('https://www.columbia.com/p/mens-newton-ridge-plus-ii-suede-waterproof-hiking-boot-1746411.html?dwvar_1746411_color=217', \"Men's Newton Ridge™ Plus II Suede Waterproof Hiking Boot\", 'Men', 0, 'CLASSIC WATERPROOF HIKER', 'https://www.columbia.com/p/mens-newton-ridge-plus-ii-suede-waterproof-hiking-boot-1746411.html?dwvar_1746411_color=217', 0, None, None, None, None, None, '1746411'), ('https://www.columbia.com/p/mens-expeditionist-shield-boot-2053421.html?dwvar_2053421_color=373', \"Men's Expeditionist™ Shield Boot\", 'Men', 0, 'Shipping Information', 'https://www.columbia.com/p/mens-expeditionist-shield-boot-2053421.html?dwvar_2053421_color=373', 0, None, None, None, None, None, '2053421'), ('https://www.columbia.com/p/womens-pfg-pro-sport-shoe-2040521.html?dwvar_2040521_color=063', \"Women's PFG Pro Sport™ Shoe\", 'Women', 0, 'SURE-FOOTED COMFORT', 'https://www.columbia.com/p/womens-pfg-pro-sport-shoe-2040521.html?dwvar_2040521_color=063', 0, None, None, None, None, None, '2040521'), ('https://www.columbia.com/p/womens-pfg-tamiami%C2%A0backcast-shoe-2027111.html?dwvar_2027111_color=063', 'Women’s PFG Tamiami™\\xa0Backcast Shoe', 'Women', 0, 'SUSTAINABLE SNEAKER', 'https://www.columbia.com/p/womens-pfg-tamiami%C2%A0backcast-shoe-2027111.html?dwvar_2027111_color=063', 0, None, None, None, None, None, '2027111'), ('https://www.columbia.com/p/mens-pfg-slack-tide-boat-shoe-2027031.html?dwvar_2027031_color=088', \"Men's PFG Slack Tide™ Boat Shoe\", 'Men', 0, 'DOCKSIDE CLASSIC', 'https://www.columbia.com/p/mens-pfg-slack-tide-boat-shoe-2027031.html?dwvar_2027031_color=088', 0, None, None, None, None, None, '2027031'), ('https://www.columbia.com/p/womens-firecamp-boot---wide-1800312.html?dwvar_1800312_color=010', \"Women's Firecamp™ Boot - Wide\", 'Women', 0, 'KICK SOME TRAIL', 'https://www.columbia.com/p/womens-firecamp-boot---wide-1800312.html?dwvar_1800312_color=010', 0, None, None, None, None, None, '1800312'), ('https://www.columbia.com/p/womens-ice-maiden-ii-boot-1554171.html?dwvar_1554171_color=288', 'Women’s Ice Maiden™ II Boot', 'Women', 0, 'Shipping Information', 'https://www.columbia.com/p/womens-ice-maiden-ii-boot-1554171.html?dwvar_1554171_color=288', 0, None, None, None, None, None, '1554171'), ('https://www.columbia.com/p/womens-newton-ridge-waterproof-omni-heat-ii-boot-2056181.html?dwvar_2056181_color=089', \"Women's Newton Ridge™ Waterproof Omni-Heat™ II Boot\", 'Women', 0, 'WINTER HIKER', 'https://www.columbia.com/p/womens-newton-ridge-waterproof-omni-heat-ii-boot-2056181.html?dwvar_2056181_color=089', 0, None, None, None, None, None, '2056181'), ('https://www.columbia.com/p/womens-moritza-boot-2005041.html?dwvar_2005041_color=286', \"Women's Moritza™ Boot\", 'Women', 0, 'Shipping Information', 'https://www.columbia.com/p/womens-moritza-boot-2005041.html?dwvar_2005041_color=286', 0, None, None, None, None, None, '2005041'), ('https://www.columbia.com/p/womens-bugaboot-celsius-plus-boot-1945421.html?dwvar_1945421_color=081', \"Women's Bugaboot™ Celsius Plus Boot\", 'Women', 0, 'Shipping Information', 'https://www.columbia.com/p/womens-bugaboot-celsius-plus-boot-1945421.html?dwvar_1945421_color=081', 0, None, None, None, None, None, '1945421'), ('https://www.columbia.com/p/womens-minx-mid-iii-boot-1803121.html?dwvar_1803121_color=383', 'Women’s Minx™ Mid III Boot', 'Women', 0, 'Shipping Information', 'https://www.columbia.com/p/womens-minx-mid-iii-boot-1803121.html?dwvar_1803121_color=383', 0, None, None, None, None, None, '1803121'), ('https://www.columbia.com/p/big-kids-newton-ridge-amped-boot-2044121.html?dwvar_2044121_color=288', \"Big Kids' Newton Ridge™ Amped Boot\", 'Men', 0, 'HAPPY HIKERS', 'https://www.columbia.com/p/big-kids-newton-ridge-amped-boot-2044121.html?dwvar_2044121_color=288', 0, None, None, None, None, None, '2044121'), ('https://www.columbia.com/p/womens-minx-shorty-iii-boot---wide-1803152.html?dwvar_1803152_color=053', \"Women's Minx™ Shorty III Boot - Wide\", 'Women', 0, 'Shipping Information', 'https://www.columbia.com/p/womens-minx-shorty-iii-boot---wide-1803152.html?dwvar_1803152_color=053', 0, None, None, None, None, None, '1803152'), ('https://www.columbia.com/p/mens-pfg-bahama-vent-loco-relaxed-iii-shoe---wide-1889602.html?dwvar_1889602_color=053', \"Men's PFG Bahama™ Vent Loco Relaxed III Shoe - Wide\", 'Men', 0, 'QUICK-CLEANING CANVAS', 'https://www.columbia.com/p/mens-pfg-bahama-vent-loco-relaxed-iii-shoe---wide-1889602.html?dwvar_1889602_color=053', 0, None, None, None, None, None, '1889602'), ('https://www.nike.com/t/phoenix-waffle-womens-shoes-CDl2fm/FD2196-100', 'Nike Phoenix Waffle', 'Women', 3, '100', 'https://www.nike.com/t/phoenix-waffle-womens-shoes-CDl2fm/FD2196-100', 15, 'Summit White/Sanddrift/Sail/Black', 'Light Bone/Light Smoke Grey/Light Iron Ore/Rugged Orange', 'Persian Violet/Black/Anthracite/Metallic Silver', None, None, 'Style: FD2196-100'), ('https://www.nike.com/t/dunk-high-womens-shoes-LwCxXJ/DD1869-107', 'Nike Dunk High', 'Women', 5, '130', 'https://www.nike.com/t/dunk-high-womens-shoes-LwCxXJ/DD1869-107', 15, 'Chlorophyll/Sail/Chlorophyll', 'White/University Red/Black', 'White/Aluminum', 'Pale Vanilla/Sail/Topaz Gold', 'Design your own Nike By You product', 'Style: DD1869-107'), ('https://www.nike.com/u/custom-cortez-platform-unlocked-by-you-10001679/3685247182', 'Nike Cortez Platform Unlocked By You Greatest Gift', 'Men', 0, '130', 'https://www.nike.com/u/custom-cortez-platform-unlocked-by-you-10001679/3685247182', 23, None, None, None, None, None, 'Style: FQ7223-900'), ('https://www.nike.com/t/metcon-9-womens-workout-shoes-xMlsHx/DZ2537-002', 'Nike Metcon 9', 'Women', 11, '160', 'https://www.nike.com/t/metcon-9-womens-workout-shoes-xMlsHx/DZ2537-002', 18, 'Black/Fireberry/Metallic Gold', 'White/Luminous Green/Sea Glass/Lime Blast', 'Light Silver/Guava Ice/Mica Green/Pale Ivory', 'Bordeaux/Vivid Purple/Volt/Black', 'Amber Brown/Light Bone/Mica Green/Guava Ice', 'Style: DZ2537-002'), ('https://www.nike.com/t/dunk-low-womens-shoes-4W2Z5P/DD1503-101', 'Nike Dunk Low', 'Women', 2, '115', 'https://www.nike.com/t/dunk-low-womens-shoes-4W2Z5P/DD1503-101', 15, 'White/White/Black', 'Design your own Nike By You product', None, None, None, 'Style: DD1503-101'), ('https://www.nike.com/t/zegama-womens-trail-running-shoes-FWN4lV/DH0625-005', 'Nike Zegama', 'Women', 8, '160', 'https://www.nike.com/t/zegama-womens-trail-running-shoes-FWN4lV/DH0625-005', 15, 'Mica Green/Plum Eclipse/Amber Brown/Sequoia', 'Black/White', 'Platinum Violet/Fireberry/Purple Ink/Luminous Green', 'Purple Ink/Deep Jungle/Purple Cosmos/Safety Orange', 'Diffused Taupe/Dark Pony/Sanddrift/Picante Red', 'Style: DH0625-005'), ('https://www.nike.com/t/air-max-270-womens-shoes-Pgb94t/AH6789-703', 'Nike Air Max 270', 'Women', 13, '160', 'https://www.nike.com/t/air-max-270-womens-shoes-Pgb94t/AH6789-703', 15, 'Light Bone/White/Metallic Silver/Diffused Blue', 'Sea Glass/White/Oil Green', 'White/Fuchsia Dream/Active Fuchsia/Bright Crimson', 'Hyper Pink/White/Hyper Pink', 'White/White/Black', 'Style: AH6789-703'), ('https://www.nike.com/t/court-legacy-lift-womens-shoes-x0B6BB/DM7590-200', 'Nike Court Legacy Lift', 'Women', 10, '90', 'https://www.nike.com/t/court-legacy-lift-womens-shoes-x0B6BB/DM7590-200', 15, 'White/White/White', 'White/Smokey Mauve/Platinum Violet', 'Pearl White/Sail/Team Orange/Phantom', 'White/Hemp/Team Orange/Black', 'White/Summit White/Coral Chalk/Sea Coral', 'Style: DM7590-200'), ('https://www.nike.com/u/custom-cortez-platform-unlocked-by-you-10001611/4868453426', 'Nike Cortez Platform Unlocked By You', 'Women', 0, '130', 'https://www.nike.com/u/custom-cortez-platform-unlocked-by-you-10001611/4868453426', 23, None, None, None, None, None, 'Style: FQ7223-905'), ('https://www.nike.com/t/v2k-run-womens-shoes-nRRH5X/FD0736-103', 'Nike V2K Run', 'Women', 5, '110', 'https://www.nike.com/t/v2k-run-womens-shoes-nRRH5X/FD0736-103', 15, 'White/Photon Dust/Fir/Platinum Tint', 'Pure Platinum/Wolf Grey/Cool Grey/Metallic Cool Grey', 'Black/Anthracite/Dark Smoke Grey', 'Light Orewood Brown/Khaki/Earth/Light Bone', 'Summit White/Pure Platinum/Light Iron Ore/Metallic Silver', 'Style: FD0736-103'), ('https://www.nike.com/t/court-vision-low-next-nature-womens-shoes-ZkMMBG/DH3158-102', 'Nike Court Vision Low Next Nature', 'Women', 6, '80', 'https://www.nike.com/t/court-vision-low-next-nature-womens-shoes-ZkMMBG/DH3158-102', 15, 'White/University Blue', 'White/White/White', 'White/Platinum Violet', 'White/Pink Oxford', 'White/White/Metallic Silver', 'Style: DH3158-102'), ('https://www.nike.com/t/v2k-run-womens-shoes-nRRH5X/FD0736-003', 'Nike V2K Run', 'Women', 5, '110', 'https://www.nike.com/t/v2k-run-womens-shoes-nRRH5X/FD0736-003', 15, 'White/Photon Dust/Fir/Platinum Tint', 'Pure Platinum/Wolf Grey/Cool Grey/Metallic Cool Grey', 'Black/Anthracite/Dark Smoke Grey', 'Light Orewood Brown/Khaki/Earth/Light Bone', 'Summit White/Pure Platinum/Light Iron Ore/Metallic Silver', 'Style: FD0736-003'), ('https://www.nike.com/t/waffle-debut-vintage-womens-shoes-rfRkv2/DX2931-200', 'Nike Waffle Debut Vintage', 'Women', 5, '80', 'https://www.nike.com/t/waffle-debut-vintage-womens-shoes-rfRkv2/DX2931-200', 15, 'Muslin/Coconut Milk/Black/Campfire Orange', 'Plum Eclipse/Coconut Milk/Gum Medium Brown/Sail', 'Adobe/Coconut Milk/Gum Medium Brown/Sail', 'Stadium Green/Sail/Coconut Milk/Opti Yellow', 'Game Royal/White/Sail/Summit White', 'Style: DX2931-200'), ('https://www.nike.com/t/infinityrn-4-womens-road-running-shoes-wide-ZrWGRG/FN0880-010', 'Nike InfinityRN 4', 'Women', 4, '160', 'https://www.nike.com/t/infinityrn-4-womens-road-running-shoes-wide-ZrWGRG/FN0880-010', 15, 'Platinum Violet/Smokey Mauve/Saturn Gold/Black', 'White/Light Lemon Twist/Volt/Black', 'Black/Dark Grey/White', 'Design your own Nike By You product', None, 'Style: FN0880-010'), ('https://www.nike.com/t/air-force-1-07-womens-shoes-PqdxJw/FZ3597-133', 'Nike Air Force 1 ’07', 'Women', 6, '115', 'https://www.nike.com/t/air-force-1-07-womens-shoes-PqdxJw/FZ3597-133', 22, 'Sail/Vintage Green/Sesame', 'Blue Tint/White/Disco Purple/Polar', 'White/University Red/Wolf Grey/Obsidian', 'Summit White/Opti Yellow/Sail/White', 'Pearl Pink/White/Pearl Pink/Coral Chalk', 'Style: FZ3597-133'), ('https://www.nike.com/t/waffle-debut-womens-shoes-5Rl1KL/DH9523-105', 'Nike Waffle Debut', 'Women', 4, '75', 'https://www.nike.com/t/waffle-debut-womens-shoes-5Rl1KL/DH9523-105', 15, 'White/Summit White/White/Blue Tint', 'Black/Orange/Clear/White', 'White/Light Orewood Brown/Sail/Rush Fuchsia', 'White/Black/Orange/White', None, 'Style: DH9523-105'), ('https://www.nike.com/t/waffle-debut-womens-shoes-5Rl1KL/DH9523-100', 'Nike Waffle Debut', 'Women', 4, '75', 'https://www.nike.com/t/waffle-debut-womens-shoes-5Rl1KL/DH9523-100', 15, 'White/Summit White/White/Blue Tint', 'Black/Orange/Clear/White', 'White/Light Orewood Brown/Sail/Rush Fuchsia', 'White/Black/Orange/White', None, 'Style: DH9523-100'), ('https://www.nike.com/t/waffle-debut-vintage-womens-shoes-rfRkv2/DX2931-400', 'Nike Waffle Debut Vintage', 'Women', 5, '80', 'https://www.nike.com/t/waffle-debut-vintage-womens-shoes-rfRkv2/DX2931-400', 15, 'Muslin/Coconut Milk/Black/Campfire Orange', 'Plum Eclipse/Coconut Milk/Gum Medium Brown/Sail', 'Adobe/Coconut Milk/Gum Medium Brown/Sail', 'Stadium Green/Sail/Coconut Milk/Opti Yellow', 'Game Royal/White/Sail/Summit White', 'Style: DX2931-400'), ('https://www.nike.com/t/air-max-90-futura-womens-shoes-kvRZ4h/DV7190-200', 'Nike Air Max 90 Futura', 'Women', 9, '160', 'https://www.nike.com/t/air-max-90-futura-womens-shoes-kvRZ4h/DV7190-200', 15, 'White/Metallic Silver/Chrome/Platinum Tint', 'Red Stardust/Summit White/Campfire Orange/Rugged Orange', 'Diffused Taupe/Plum Eclipse/Night Maroon/Black', 'White/Fuchsia Dream/Baltic Blue/Bright Crimson', 'Summit White/Light Bone/Phantom/Summit White', 'Style: DV7190-200'), ('https://www.nike.com/u/custom-cortez-unlocked-by-you-10001612/5774408047', 'Nike Cortez Unlocked By You', 'Women', 0, '130', 'https://www.nike.com/u/custom-cortez-unlocked-by-you-10001612/5774408047', 25, None, None, None, None, None, 'Style: FJ8890-905'), ('https://www.nike.com/t/vomero-5-womens-shoes-ZnKVhN/FN7196-663', 'Nike Vomero 5', 'Women', 0, '160', 'https://www.nike.com/t/vomero-5-womens-shoes-ZnKVhN/FN7196-663', 15, None, None, None, None, None, 'Style: FN7196-663'), ('https://www.nike.com/t/gamma-force-womens-shoes-4TR9Xf/DX9176-103', 'Nike Gamma Force', 'Women', 9, '95', 'https://www.nike.com/t/gamma-force-womens-shoes-4TR9Xf/DX9176-103', 15, 'White/Rugged Orange/Campfire Orange/Cedar', 'White/Rush Fuchsia/Emerald Rise', 'White/Summit White/Iron Grey/Black', 'White/Light Smoke Grey/Summit White/Malachite', 'Sail/Wheat Gold/Team Red/Fir', 'Style: DX9176-103'), ('https://www.nike.com/t/air-force-1-wild-womens-shoes-r7kSSl/FB2348-003', 'Nike Air Force 1 Wild', 'Women', 6, '145', 'https://www.nike.com/t/air-force-1-wild-womens-shoes-r7kSSl/FB2348-003', 23, 'Platinum Violet/Smokey Mauve/Earth/Platinum Violet', 'Phantom/Light Orewood Brown/Luminous Green/Phantom', 'Fir/Earth/Deep Royal Blue/Fir', 'Rugged Orange/Black/Campfire Orange/Rugged Orange', 'Wheat Gold/Rugged Orange/Field Purple/Wheat Gold', 'Style: FB2348-003'), ('https://www.nike.com/t/cortez-txt-womens-shoes-6Q4TgR/DZ2795-001', 'Nike Cortez TXT', 'Women', 3, '90', 'https://www.nike.com/t/cortez-txt-womens-shoes-6Q4TgR/DZ2795-001', 15, 'Vivid Sulfur/Sail/White/Black', 'Black/White', 'Midnight Navy/White', None, None, 'Style: DZ2795-001'), ('https://www.nike.com/t/pegasus-40-womens-road-running-shoes-wide-L80k6C/FN7991-007', 'Nike Pegasus 40', 'Women', 5, '130', 'https://www.nike.com/t/pegasus-40-womens-road-running-shoes-wide-L80k6C/FN7991-007', 15, 'Platinum Violet/Smokey Mauve/Saturn Gold/Summit White', 'Deep Jungle/Black/White/Metallic Silver', 'Guava Ice/Amber Brown/Photon Dust/Vivid Purple', 'Black/Iron Grey/White', 'Design your own Nike By You product', 'Style: FN7991-007'), ('https://www.nike.com/t/free-metcon-5-womens-workout-shoes-h4Zl5h/DV3950-201', 'Nike Free Metcon 5', 'Women', 9, '120', 'https://www.nike.com/t/free-metcon-5-womens-workout-shoes-h4Zl5h/DV3950-201', 18, 'Smokey Mauve/Light Bone/Velvet Brown/Platinum Violet', 'Black/Anthracite', 'Bordeaux/Black/Volt/Vivid Purple', 'Black/White/Fireberry/Metallic Gold', 'Pale Ivory/Light Silver/Mica Green/Ice Peach', 'Style: DV3950-201'), ('https://www.nike.com/t/pegasus-trail-4-womens-trail-running-shoes-CQT261/DJ6159-005', 'Nike Pegasus Trail 4', 'Women', 12, '140', 'https://www.nike.com/t/pegasus-trail-4-womens-trail-running-shoes-CQT261/DJ6159-005', 15, 'Pure Platinum/Baltic Blue/Black/Green Abyss', 'Volt/Black/Summit White/Bright Cactus', 'Thunder Blue/Chlorophyll/Vapor Green/Light Armory Blue', 'Light Smoke Grey/Black/Glacier Blue/White', 'Mantra Orange/Enamel Green/Bicoastal/Ghost Green', 'Style: DJ6159-005'), ('https://www.nike.com/t/air-max-plus-womens-shoes-47Sxw5/DZ3671-104', 'Nike Air Max Plus', 'Women', 6, '180', 'https://www.nike.com/t/air-max-plus-womens-shoes-47Sxw5/DZ3671-104', 15, 'Black/Viotech/Team Red/White', 'Summit White/Light Armory Blue/Football Grey/Ashen Slate', 'White/Metallic Silver/Sail/Pure Platinum', 'Summit White/Racer Blue/Safety Orange/White', 'White/Pure Platinum/White', 'Style: DZ3671-104'), ('https://www.nike.com/t/dbreak-premium-womens-shoes-61jl9b/DR5377-001', 'Nike DBreak Premium', 'Women', 0, '125', 'https://www.nike.com/t/dbreak-premium-womens-shoes-61jl9b/DR5377-001', 15, None, None, None, None, None, 'Style: DR5377-001'), ('https://www.nike.com/u/custom-cortez-unlocked-by-you-10001678/8653210374', 'Nike Cortez Unlocked By You Greatest Gift', 'Men', 0, '130', 'https://www.nike.com/u/custom-cortez-unlocked-by-you-10001678/8653210374', 25, None, None, None, None, None, 'Style: FJ8890-900'), ('https://www.nike.com/t/air-vapormax-plus-womens-shoes-xbt7zf/FQ8895-100', 'Nike Air VaporMax Plus', 'Women', 6, '210', 'https://www.nike.com/t/air-vapormax-plus-womens-shoes-xbt7zf/FQ8895-100', 15, 'White/Metallic Silver', 'Cedar/Rugged Orange', 'Blue Tint/Light Lemon Twist/Metallic Silver/Fireberry', 'Pink Spell/Spring Green/Racer Blue/Citron Pulse', 'Hyper Pink/White/Pink Blast/Hyper Pink', 'Style: FQ8895-100'), ('https://www.nike.com/t/interact-run-womens-road-running-shoes-v5LlQl/FD2292-007', 'Nike Interact Run', 'Women', 4, '85', 'https://www.nike.com/t/interact-run-womens-road-running-shoes-v5LlQl/FD2292-007', 15, 'White/Pure Platinum/Metallic Silver', 'Black/Anthracite/White', 'Platinum Violet/Smokey Mauve', 'Light Bone/Sail/Ice Peach/Bright Mandarin', None, 'Style: FD2292-007'), ('https://www.nike.com/t/killshot-2-womens-shoes-ZmzdkQ/FZ5630-101', 'Nike Killshot 2', 'Women', 2, '90', 'https://www.nike.com/t/killshot-2-womens-shoes-ZmzdkQ/FZ5630-101', 23, 'Sail/Gum Yellow/Midnight Navy', 'Sail/Gum Yellow/Black/Sail', None, None, None, 'Style: FZ5630-101'), ('https://www.nike.com/t/cortez-womens-shoes-tZtTd5/DN1791-105', 'Nike Cortez', 'Women', 6, '90', 'https://www.nike.com/t/cortez-womens-shoes-tZtTd5/DN1791-105', 15, 'White/Smokey Mauve/Black/Platinum Violet', 'White/Sail/Team Orange/University Blue', 'White/Red Stardust/Sail/Cedar', 'Sail/Malachite/Coconut Milk/Gorge Green', 'White/Light Photo Blue/Sail/Black', 'Style: DN1791-105'), ('https://www.nike.com/t/vomero-5-womens-shoes-26nkFx/FN7778-600', 'Nike Vomero 5', 'Women', 0, '160', 'https://www.nike.com/t/vomero-5-womens-shoes-26nkFx/FN7778-600', 15, None, None, None, None, None, 'Style: FN7778-600'), ('https://www.nike.com/t/revolution-7-womens-road-running-shoes-wP5p63/FB2208-007', 'Nike Revolution 7', 'Women', 6, '70', 'https://www.nike.com/t/revolution-7-womens-road-running-shoes-wP5p63/FB2208-007', 15, 'White/White', 'Platinum Violet/Smokey Mauve/White', 'Black/White', 'Pearl Pink/White/Pink Foam', 'Photon Dust/White/Lime Blast/Polar', 'Style: FB2208-007'), ('https://www.nike.com/t/blazer-mid-77-womens-shoes-NPWfjm/CZ1055-100', \"Nike Blazer Mid '77\", 'Women', 6, '105', 'https://www.nike.com/t/blazer-mid-77-womens-shoes-NPWfjm/CZ1055-100', 15, 'White/Sail/Diffused Blue', 'White/White/Peach/White', 'White/Sail/Peach/Habanero Red', 'White/Sail/Peach/Black', 'White/Peach/Summit White/Pink Oxford', 'Style: CZ1055-100'), ('https://www.nike.com/t/waffle-one-womens-shoes-qk5cz3/DC2533-103', 'Nike Waffle One', 'Women', 6, '110', 'https://www.nike.com/t/waffle-one-womens-shoes-qk5cz3/DC2533-103', 15, 'White/Picante Red/Sail/Summit White', 'Picante Red/Light Photo Blue/Coconut Milk/Sail', 'Game Royal/Stadium Green/Picante Red/Citron Pulse', 'White/Black/White', 'Active Fuchsia/Black/Coconut Milk/University Gold', 'Style: DC2533-103'), ('https://us.puma.com/us/en/pd/blktop-rider-lithium-mens-sneakers/393152', \"Blktop Rider Lithium Men's Sneakers\", 'Men', 2, '$90.00', 'https://us.puma.com/us/en/pd/blktop-rider-lithium-mens-sneakers/393152', 13, 'Inky Blue-Persian Blue', 'Cast Iron-PUMA Black', None, None, None, '393152_01'), ('https://us.puma.com/us/en/pd/puma-x-lamelo-ball-lafranc%C3%A9-ca-pro-mens-sneakers/395281', \"PUMA x LAMELO BALL LaFrancé CA Pro Men's Sneakers\", 'Men', 1, '$90.00', 'https://us.puma.com/us/en/pd/puma-x-lamelo-ball-lafranc%C3%A9-ca-pro-mens-sneakers/395281', 19, 'For All Time Red-Dark Orange-PUMA Black', None, None, None, None, '395281_01'), ('https://us.puma.com/us/en/pd/ca-pro-heritage-sneakers/397572', 'CA Pro Heritage Sneakers', 'Men', 1, '$59.99', 'https://us.puma.com/us/en/pd/ca-pro-heritage-sneakers/397572', 19, 'PUMA White-Puma Team Gold', None, None, None, None, '397572_01'), ('https://us.puma.com/us/en/pd/shibui-cat-slides/385296', 'Shibui Cat Slides', 'Men', 2, '$19.99', 'https://us.puma.com/us/en/pd/shibui-cat-slides/385296', 11, 'Puma Black-Puma Black', 'Putty-Putty', None, None, None, '385296_02'), ('https://us.puma.com/us/en/pd/basket-classic-velvet-womens-sneakers/398949', \"Basket Classic Velvet Women's Sneakers\", 'Women', 2, '$64.99', 'https://us.puma.com/us/en/pd/basket-classic-velvet-womens-sneakers/398949', 12, 'Malachite-Puma Team Gold-PUMA White', 'Dark Jasper-Puma Team Gold-PUMA White', None, None, None, '398949_01'), ('https://us.puma.com/us/en/pd/puma-x-lamelo-ball-mb-03-lafranc%C3%A9-mens-basketball-shoes/379233', \"PUMA x LAMELO BALL MB.03 LaFrancé Men's Basketball Shoes\", 'Men', 1, '$125.00', 'https://us.puma.com/us/en/pd/puma-x-lamelo-ball-mb-03-lafranc%C3%A9-mens-basketball-shoes/379233', 20, 'Fluro Green Pes-PUMA Green-Fluro Yellow Pes', None, None, None, None, '379233_01'), ('https://us.puma.com/us/en/pd/porsche-legacy-speedfusion-mens-driving-shoes/307778', \"Porsche Legacy SPEEDFUSION Men's Driving Shoes\", 'Men', 1, '$54.99', 'https://us.puma.com/us/en/pd/porsche-legacy-speedfusion-mens-driving-shoes/307778', 12, 'Sand Dune-PUMA White-PUMA Black', None, None, None, None, '307778_03'), ('https://us.puma.com/us/en/pd/puma-x-swarovski-suede-womens-sneakers/396352', \"PUMA x SWAROVSKI Suede Women's Sneakers\", 'Women', 1, '$100.00', 'https://us.puma.com/us/en/pd/puma-x-swarovski-suede-womens-sneakers/396352', 12, 'PUMA Black', None, None, None, None, '396352_02'), ('https://us.puma.com/us/en/pd/puma-x-lamelo-ball-mb-03-toxic-mens-basketball-shoes/378916', \"PUMA x LAMELO BALL MB.03 Toxic Men's Basketball Shoes\", 'Men', 1, '$125.00', 'https://us.puma.com/us/en/pd/puma-x-lamelo-ball-mb-03-toxic-mens-basketball-shoes/378916', 23, 'Purple Glimmer-Green Gecko', None, None, None, None, '378916_01'), ('https://us.puma.com/us/en/pd/voltaic-evo-running-shoe/379601', 'Voltaic Evo Running Shoe', 'Men', 3, '$80.00', 'https://us.puma.com/us/en/pd/voltaic-evo-running-shoe/379601', 13, 'PUMA Black-Stormy Slate-For All Time Red', 'For All Time Red-PUMA Black-Gray Fog', 'Club Navy-PUMA Black-Electric Lime', None, None, '379601_01'), ('https://us.puma.com/us/en/pd/suede-classic-xxi-sneakers/374915', 'Suede Classic XXI Sneakers', 'Men', 9, '$75.00', 'https://us.puma.com/us/en/pd/suede-classic-xxi-sneakers/374915', 20, 'Puma Black-Puma White', 'High Risk Red-Puma White', 'Gray Violet-Puma White', 'Peacoat-Puma White', 'Honey Mustard-Puma White', '374915_01'), ('https://us.puma.com/us/en/pd/speedcat-shield-sd-driving-shoes/387272', 'Speedcat Shield SD Driving Shoes', 'Men', 2, '$90.00', 'https://us.puma.com/us/en/pd/speedcat-shield-sd-driving-shoes/387272', 0, 'Ash Gray-For All Time Red-PUMA Black', 'Myrtle-Myrtle-PUMA Black', None, None, None, '387272_02'), ('https://us.puma.com/us/en/pd/ultra-ultimate-fg-ag-mens-soccer-cleats/107311', \"ULTRA ULTIMATE FG/AG Men's Soccer Cleats\", 'Men', 4, '$139.99', 'https://us.puma.com/us/en/pd/ultra-ultimate-fg-ag-mens-soccer-cleats/107311', 20, 'PUMA White-PUMA Black-Fire Orchid', 'PUMA Black-Asphalt', 'Ultra Blue-PUMA White-Pro Green', 'Yellow Blaze-PUMA White-PUMA Black', None, '107311_01'), ('https://us.puma.com/us/en/pd/ca-pro-classic-sneakers/380190', 'CA Pro Classic Sneakers', 'Men', 2, '$80.00', 'https://us.puma.com/us/en/pd/ca-pro-classic-sneakers/380190', 13, 'Puma White', 'Puma Black', None, None, None, '380190_01'), ('https://us.puma.com/us/en/pd/gv-special%2B-mens-sneakers/366613', \"GV Special+ Men's Sneakers\", 'Men', 4, '$52.99', 'https://us.puma.com/us/en/pd/gv-special%2B-mens-sneakers/366613', 13, 'Puma White-Puma White', 'Puma Black-Puma Black', 'Puma White-Peacoat', 'Puma White-Ribbon Red', None, '366613_01'), ('https://us.puma.com/us/en/pd/fenty-x-puma-creeper-phatty-mens-sneakers/396403', \"FENTY x PUMA Creeper Phatty Men's Sneakers\", 'Men', 3, '$140.00', 'https://us.puma.com/us/en/pd/fenty-x-puma-creeper-phatty-mens-sneakers/396403', 21, 'PUMA Black-Warm White-Gum', 'Speed Blue-Lime Pow-Gum', 'Lavender Alert-Burnt Red-Gum', None, None, '396403_01'), ('https://us.puma.com/us/en/pd/cali-womens-sneakers/369155', \"Cali Women's Sneakers\", 'Women', 2, '$80.00', 'https://us.puma.com/us/en/pd/cali-womens-sneakers/369155', 12, 'Puma White-Puma White', 'Puma White-Puma Black', None, None, None, '369155_01'), ('https://us.puma.com/us/en/pd/suede-classic-xxi-womens-sneakers/381410', \"Suede Classic XXI Women's Sneakers\", 'Women', 6, '$75.00', 'https://us.puma.com/us/en/pd/suede-classic-xxi-womens-sneakers/381410', 12, 'Puma Black-Puma White', 'High Risk Red-Puma White', 'Marshmallow-Puma White', 'Lily Pad-Lily Pad', 'Icy Blue-PUMA White', '381410_01'), ('https://us.puma.com/us/en/pd/mayze-womens-sneakers/381983', \"Mayze Women's Sneakers\", 'Women', 2, '$90.00', 'https://us.puma.com/us/en/pd/mayze-womens-sneakers/381983', 11, 'Puma White-Puma Black', 'Puma White-Peyote', None, None, None, '381983_01'), ('https://us.puma.com/us/en/pd/cali-wedge-womens-sneakers/373438', \"Cali Wedge Women's Sneakers\", 'Women', 2, '$90.00', 'https://us.puma.com/us/en/pd/cali-wedge-womens-sneakers/373438', 12, 'Puma White-Puma White', 'Puma Black-Puma White', None, None, None, '373438_01'), ('https://us.puma.com/us/en/pd/mercedes-amg-petronas-f1-future-cat-og-mens-shoes/307891', \"Mercedes-AMG PETRONAS F1 Future Cat OG Men's Shoes\", 'Men', 2, '$54.99', 'https://us.puma.com/us/en/pd/mercedes-amg-petronas-f1-future-cat-og-mens-shoes/307891', 19, 'PUMA White-PUMA White-Spectra Green', 'Spectra Green-PUMA Black-Puma Black', None, None, None, '307891_01'), ('https://us.puma.com/us/en/pd/porsche-legacy-speedcat-driving-shoes/307211', 'Porsche Legacy Speedcat Driving Shoes', 'Men', 1, '$110.00', 'https://us.puma.com/us/en/pd/porsche-legacy-speedcat-driving-shoes/307211', 18, 'Sand Dune-Bold Blue-PUMA White', None, None, None, None, '307211_07'), ('https://us.puma.com/us/en/pd/teveris-nitro%E2%84%A2-nyc-mens-sneakers/396106', \"Teveris NITRO™ NYC Men's Sneakers\", 'Men', 1, '$65.99', 'https://us.puma.com/us/en/pd/teveris-nitro%E2%84%A2-nyc-mens-sneakers/396106', 12, 'Sand Dune-PUMA Black-Racing Blue', None, None, None, None, '396106_01'), ('https://us.puma.com/us/en/pd/future-rider-camo-flagship-mens-sneakers/391610', \"Future Rider Camo Flagship Men's Sneakers\", 'Men', 2, '$59.99', 'https://us.puma.com/us/en/pd/future-rider-camo-flagship-mens-sneakers/391610', 18, 'Deep Lichen Green-Dark Olive', 'Tapioca-Pebble', None, None, None, '391610_01'), ('https://us.puma.com/us/en/pd/fenty-x-puma-avanti-l-mens-sneakers/398352', \"FENTY x PUMA AVANTI L Men's Sneakers\", 'Men', 2, '$160.00', 'https://us.puma.com/us/en/pd/fenty-x-puma-avanti-l-mens-sneakers/398352', 13, 'Club Navy', 'Dark Myrtle', None, None, None, '398352_01'), ('https://us.puma.com/us/en/pd/mayze-heritage-velvet-womens-sneakers/397113', \"Mayze Heritage Velvet Women's Sneakers\", 'Women', 1, '$84.99', 'https://us.puma.com/us/en/pd/mayze-heritage-velvet-womens-sneakers/397113', 12, 'PUMA White-Malachite-Puma Team Gold', None, None, None, None, '397113_01'), ('https://us.puma.com/us/en/pd/rs-x-faded-daytona-sneakers/394981', 'RS-X Faded Daytona Sneakers', 'Men', 2, '$59.99', 'https://us.puma.com/us/en/pd/rs-x-faded-daytona-sneakers/394981', 15, 'Day Dream-Evening Sky-PUMA White', 'Fizzy Apple-Platinum Gray-PUMA White', None, None, None, '394981_01'), ('https://us.puma.com/us/en/pd/ca-pro-velour-sneakers/397112', 'CA Pro Velour Sneakers', 'Men', 2, '$79.99', 'https://us.puma.com/us/en/pd/ca-pro-velour-sneakers/397112', 19, 'Malachite-Warm White', 'PUMA Black-PUMA Black', None, None, None, '397112_01'), ('https://us.puma.com/us/en/pd/rs-x-glimmer-womens-sneakers/397089', \"RS-X Glimmer Women's Sneakers\", 'Women', 1, '$110.00', 'https://us.puma.com/us/en/pd/rs-x-glimmer-womens-sneakers/397089', 12, 'PUMA White-Gold-Warm White', None, None, None, None, '397089_01'), ('https://us.puma.com/us/en/pd/rs-xk-sneakers/392787', 'RS-XK Sneakers', 'Men', 2, '$110.00', 'https://us.puma.com/us/en/pd/rs-xk-sneakers/392787', 19, 'Alpine Snow-Alpine Snow', 'PUMA Black-PUMA Black', None, None, None, '392787_04'), ('https://us.puma.com/us/en/pd/puma-x-lamelo-ball-mb-01-lo-mens-basketball-shoes/376941', \"PUMA x LAMELO BALL MB.01 Lo Men's Basketball Shoes\", 'Men', 2, '$120.00', 'https://us.puma.com/us/en/pd/puma-x-lamelo-ball-mb-01-lo-mens-basketball-shoes/376941', 13, 'Puma White-Silver', 'PUMA Black-PUMA Black', None, None, None, '376941_04'), ('https://us.puma.com/us/en/pd/cali-dream-west-coast-leather-womens-sneakers/392730', \"Cali Dream West Coast Leather Women's Sneakers\", 'Women', 4, '$90.00', 'https://us.puma.com/us/en/pd/cali-dream-west-coast-leather-womens-sneakers/392730', 12, 'PUMA White', 'PUMA Black', 'PUMA White-PUMA Black', 'PUMA Black-PUMA White', None, '392730_01'), ('https://us.puma.com/us/en/pd/rs-x-soft-womens-sneakers/393772', \"RS-X Soft Women's Sneakers\", 'Women', 2, '$110.00', 'https://us.puma.com/us/en/pd/rs-x-soft-womens-sneakers/393772', 12, 'Frosty Pink-Warm White', 'Frosty Pink-Ravish-Pearl Pink', None, None, None, '393772_02'), ('https://us.puma.com/us/en/pd/fenty-x-puma-avanti-l-womens-sneakers/399262', \"FENTY x PUMA AVANTI L Women's Sneakers\", 'Women', 2, '$160.00', 'https://us.puma.com/us/en/pd/fenty-x-puma-avanti-l-womens-sneakers/399262', 12, 'Club Navy', 'Dark Myrtle', None, None, None, '399262_01'), ('https://us.puma.com/us/en/pd/foreverrun-nitro%E2%84%A2-knit-womens-running-shoes/379140', \"ForeverRun NITRO™ Knit Women's Running Shoes\", 'Women', 1, '$150.00', 'https://us.puma.com/us/en/pd/foreverrun-nitro%E2%84%A2-knit-womens-running-shoes/379140', 10, 'PUMA White-Feather Gray', None, None, None, None, '379140_01'), ('https://us.puma.com/us/en/pd/rs-trck-horizon-mens-sneakers/390717', \"RS-Trck Horizon Men's Sneakers\", 'Men', 2, '$59.99', 'https://us.puma.com/us/en/pd/rs-trck-horizon-mens-sneakers/390717', 19, 'Orange Brick-Clementine', 'Hero Blue-Electric Peppermint', None, None, None, '390717_01'), ('https://us.puma.com/us/en/pd/future-rider-play-on-mens-sneakers/393473', \"Future Rider Play On Men's Sneakers\", 'Men', 2, '$80.00', 'https://us.puma.com/us/en/pd/future-rider-play-on-mens-sneakers/393473', 19, 'Cobalt Glaze-Pelé Yellow', 'Pink Delight-PUMA Green', None, None, None, '393473_17'), ('https://us.puma.com/us/en/pd/rs-x-hi-mens-sneakers/392718', \"RS-X Hi Men's Sneakers\", 'Men', 2, '$140.00', 'https://us.puma.com/us/en/pd/rs-x-hi-mens-sneakers/392718', 13, 'PUMA Black-Shadow Gray', 'PUMA White-Alpine Snow', None, None, None, '392718_01'), ('https://us.puma.com/us/en/pd/palermo-leather-mens-sneakers/396464', \"Palermo Leather Men's Sneakers\", 'Men', 2, '$90.00', 'https://us.puma.com/us/en/pd/palermo-leather-mens-sneakers/396464', 13, 'PUMA White-Vapor Gray-Gum', 'PUMA Black-Feather Gray-Gum', None, None, None, '396464_01'), ('https://us.puma.com/us/en/pd/pulsar-wedge-cat-logo-womens-sneakers/392710', \"Pulsar Wedge Cat Logo Women's Sneakers\", 'Women', 1, '$110.00', 'https://us.puma.com/us/en/pd/pulsar-wedge-cat-logo-womens-sneakers/392710', 9, 'Whisper White-ARUBA BLUE', None, None, None, None, '392710_01'), ('https://us.puma.com/us/en/pd/fenty-x-puma-creeper-phatty-womens-sneakers/399332', \"FENTY x PUMA Creeper Phatty Women's Sneakers\", 'Women', 3, '$140.00', 'https://us.puma.com/us/en/pd/fenty-x-puma-creeper-phatty-womens-sneakers/399332', 12, 'PUMA Black-Warm White-Gum', 'Speed Blue-Lime Pow-Gum', 'Lavender Alert-Burnt Red-Gum', None, None, '399332_01'), ('https://us.puma.com/us/en/pd/puma-x-lamelo-ball-mb-03-chino-hills-mens-basketball-shoes/379235', \"PUMA x LAMELO BALL MB.03 Chino Hills Men's Basketball Shoes\", 'Men', 1, '$125.00', 'https://us.puma.com/us/en/pd/puma-x-lamelo-ball-mb-03-chino-hills-mens-basketball-shoes/379235', 15, 'Feather Gray-Lime Smash', None, None, None, None, '379235_01'), ('https://us.puma.com/us/en/pd/puma-hoops-x-gremlins-all-pro-nitro%E2%84%A2-mens-basketball-shoes/379303', \"PUMA HOOPS x GREMLINS All Pro NITRO™ Men's Basketball Shoes\", 'Men', 1, '$140.00', 'https://us.puma.com/us/en/pd/puma-hoops-x-gremlins-all-pro-nitro%E2%84%A2-mens-basketball-shoes/379303', 23, 'PUMA White', None, None, None, None, '379303_01'), ('https://us.puma.com/us/en/pd/mayze-classic-womens-sneakers/384209', \"Mayze Classic Women's Sneakers\", 'Women', 2, '$90.00', 'https://us.puma.com/us/en/pd/mayze-classic-womens-sneakers/384209', 12, 'Puma White', 'Puma Black', None, None, None, '384209_01'), ('https://us.puma.com/us/en/pd/suede-gum-mens-sneakers/381174', \"Suede Gum Men's Sneakers\", 'Men', 2, '$75.00', 'https://us.puma.com/us/en/pd/suede-gum-mens-sneakers/381174', 13, 'Puma Black-Gum', 'Pebble-Gum', None, None, None, '381174_01'), ('https://us.puma.com/us/en/pd/puma-x-sparco-future-cat-og-driving-shoes/307936', 'PUMA x SPARCO Future Cat OG Driving Shoes', 'Men', 2, '$100.00', 'https://us.puma.com/us/en/pd/puma-x-sparco-future-cat-og-driving-shoes/307936', 18, 'PUMA Black-PUMA White-Dark Coal', 'Reflex Blue C-PUMA White-Sedate Gray', None, None, None, '307936_01'), ('https://us.puma.com/us/en/pd/puma-x-lamelo-ball-x-dexters-laboratory-mb-03-mens-basketball-shoes/379330', \"PUMA x LAMELO BALL x DEXTER'S LABORATORY MB.03 Men's Basketball Shoes\", 'Men', 1, '$135.00', 'https://us.puma.com/us/en/pd/puma-x-lamelo-ball-x-dexters-laboratory-mb-03-mens-basketball-shoes/379330', 0, 'Poison Pink-Fluro Orange Pes', None, None, None, None, '379330_01'), ('https://us.puma.com/us/en/pd/puma-x-lamelo-ball-rs-x-pocket-lafranc%C3%A9-mens-sneakers/395542', \"PUMA x LAMELO BALL RS-X Pocket LaFrancé Men's Sneakers\", 'Men', 1, '$130.00', 'https://us.puma.com/us/en/pd/puma-x-lamelo-ball-rs-x-pocket-lafranc%C3%A9-mens-sneakers/395542', 13, 'For All Time Red-Dark Orange-PUMA Black', None, None, None, None, '395542_01'), ('https://us.puma.com/us/en/pd/roma-classic-gum-sneakers/366408', 'Roma Classic Gum Sneakers', 'Men', 2, '$70.00', 'https://us.puma.com/us/en/pd/roma-classic-gum-sneakers/366408', 17, 'Puma White-Puma Team Gold', 'Puma Black-Puma Team Gold', None, None, None, '366408_01'), ('https://us.puma.com/us/en/pd/puma-x-tmc-ralph-sampson-all-star-mens-sneakers/397418', \"PUMA x TMC Ralph Sampson All Star Men's Sneakers\", 'Men', 1, '$90.00', 'https://us.puma.com/us/en/pd/puma-x-tmc-ralph-sampson-all-star-mens-sneakers/397418', 15, 'PUMA White-PUMA Navy-PUMA Silver', None, None, None, None, '397418_01'), ('https://www.skechers.com/skechers-slip-ins-bobs-sport-squad-chaos/117500_ROS.html', 'Skechers Slip-ins: Bobs Sport Squad Chaos', \"Women's\", 3, '$70.00', 'https://www.skechers.com/skechers-slip-ins-bobs-sport-squad-chaos/117500_ROS.html', 11, 'ROSE', 'BLACK', 'BLACK', None, None, 'Style #:117500ROS'), ('https://www.skechers.com/skechers-slip-ins-bobs-sport-squad-chaos/117504_LAV.html', 'Skechers Slip-ins: Bobs Sport Squad Chaos', \"Women's\", 2, '$70.00', 'https://www.skechers.com/skechers-slip-ins-bobs-sport-squad-chaos/117504_LAV.html', 10, 'LAVENDER', 'OFF WHITE', None, None, None, 'Style #:117504LAV'), ('https://www.skechers.com/skechers-slip-ins-ultra-flex-3.0---brilliant/149710_PERI.html', 'Skechers Slip-ins: Ultra Flex 3.0 - Brilliant', \"Women's\", 5, '$90.00', 'https://www.skechers.com/skechers-slip-ins-ultra-flex-3.0---brilliant/149710_PERI.html', 12, 'PERIWINKLE', 'MAUVE', 'NATURAL', 'BLACK', 'BLACK', 'Style #:149710PERI'), ('https://www.skechers.com/skechers-slip-ins-ultra-flex-3.0/150174_WHT.html', 'Skechers Slip-ins: Ultra Flex 3.0', \"Women's\", 2, '$95.00', 'https://www.skechers.com/skechers-slip-ins-ultra-flex-3.0/150174_WHT.html', 9, 'WHITE', 'BLACK', None, None, None, 'Style #:150174WHT'), ('https://www.skechers.com/skechers-slip-ins-ultra-flex-3.0---new-energy/150182_BKNT.html', 'Skechers Slip-ins: Ultra Flex 3.0 - New Energy', \"Women's\", 1, '$90.00', 'https://www.skechers.com/skechers-slip-ins-ultra-flex-3.0---new-energy/150182_BKNT.html', 11, 'BLACK / NATURAL', None, None, None, None, 'Style #:150182BKNT'), ('https://www.skechers.com/skechers-slip-ins-ultra-flex-3.0---smooth-step/149709_MVE.html', 'Skechers Slip-ins: Ultra Flex 3.0 - Smooth Step', \"Women's\", 4, '$90.00', 'https://www.skechers.com/skechers-slip-ins-ultra-flex-3.0---smooth-step/149709_MVE.html', 12, 'MAUVE', 'GRAY', 'NAVY', 'BLACK', None, 'Style #:149709MVE'), ('https://www.skechers.com/skechers-slip-ins-ultra-flex-3.0---cozy-streak/149708_SLT.html', 'Skechers Slip-ins: Ultra Flex 3.0 - Cozy Streak', \"Women's\", 3, '$90.00', 'https://www.skechers.com/skechers-slip-ins-ultra-flex-3.0---cozy-streak/149708_SLT.html', 12, 'SLATE', 'LIGHT GRAY', 'BLACK', None, None, 'Style #:149708SLT'), ('https://www.skechers.com/martha-stewart-x-skechers-slip-ins-ultra-flex-3/149808_OLV.html', 'Martha Stewart x Skechers Slip-ins: Ultra Flex 3', \"Women's\", 4, '$90.00', 'https://www.skechers.com/martha-stewart-x-skechers-slip-ins-ultra-flex-3/149808_OLV.html', 12, 'OLIVE', 'NATURAL', 'MOCHA', 'BLACK', None, 'Style #:149808OLV'), ('https://www.skechers.com/skechers-slip-ins-summits---dazzling-haze/149937_GYMT.html', 'Skechers Slip-ins: Summits - Dazzling Haze', \"Women's\", 4, '$75.00', 'https://www.skechers.com/skechers-slip-ins-summits---dazzling-haze/149937_GYMT.html', 10, 'GRAY / MULTI', 'NAVY / PURPLE', 'BLACK / WHITE', 'BLACK / TURQUOISE', None, 'Style #:149937GYMT'), ('https://www.skechers.com/skechers-slip-ins-summits---diamond-dream/150123_LAV.html', 'Skechers Slip-ins: Summits - Diamond Dream', \"Women's\", 2, '$75.00', 'https://www.skechers.com/skechers-slip-ins-summits---diamond-dream/150123_LAV.html', 8, 'LAVENDER', 'BLACK', None, None, None, 'Style #:150123LAV'), ('https://www.skechers.com/martha-stewart-x-skechers-slip-ins-ultra-flex-3/158820.html', 'Martha Stewart x Skechers Slip-ins: Ultra Flex 3', \"Women's\", 2, '$90.00', 'https://www.skechers.com/martha-stewart-x-skechers-slip-ins-ultra-flex-3/158820.html', 1, 'OLIVE', 'BLACK', None, None, None, 'Style #:158820OLV'), ('https://www.skechers.com/martha-stewart-skechers-slip-ins-ultra-flex-3.0/158911_MOC.html', 'Martha Stewart Skechers Slip-ins: Ultra Flex 3.0', \"Women's\", 1, '$90.00', 'https://www.skechers.com/martha-stewart-skechers-slip-ins-ultra-flex-3.0/158911_MOC.html', 8, 'MOCHA', None, None, None, None, 'Style #:158911MOC'), ('https://www.skechers.com/skechers-slip-ins-go-walk-flex---relish/124963_NVY.html', 'Skechers Slip-ins: GO WALK Flex - Relish', \"Women's\", 5, '$75.00', 'https://www.skechers.com/skechers-slip-ins-go-walk-flex---relish/124963_NVY.html', 14, 'NAVY', 'OFF WHITE', 'TAUPE / BLUE', 'BLACK / WHITE', 'BLACK', 'Style #:124963NVY'), ('https://www.skechers.com/skechers-slip-ins-go-walk-flex---dacey/124835_GRY.html', 'Skechers Slip-ins: GO WALK Flex - Dacey', \"Women's\", 1, '$75.00', 'https://www.skechers.com/skechers-slip-ins-go-walk-flex---dacey/124835_GRY.html', 5, 'GRAY', None, None, None, None, 'Style #:124835GRY'), ('https://www.skechers.com/skechers-slip-ins-go-walk-flex---grand-entry/124836_OFWT.html', 'Skechers Slip-ins: GO WALK Flex - Grand Entry', \"Women's\", 4, '$75.00', 'https://www.skechers.com/skechers-slip-ins-go-walk-flex---grand-entry/124836_OFWT.html', 13, 'OFF WHITE', 'NAVY / WHITE', 'BLACK / WHITE', 'BLACK', None, 'Style #:124836OFWT'), ('https://www.skechers.com/skechers-slip-ins-go-walk-7---daley/125228_GYLV.html', 'Skechers Slip-ins: GO WALK 7 - Daley', \"Women's\", 2, '$85.00', 'https://www.skechers.com/skechers-slip-ins-go-walk-7---daley/125228_GYLV.html', 11, 'GRAY / LAVENDER', 'BLACK / HOT PINK', None, None, None, 'Style #:125228GYLV'), ('https://www.skechers.com/skechers-slip-ins-go-walk-7---city-lights/125222_TPMT.html', 'Skechers Slip-ins: GO WALK 7 - City Lights', \"Women's\", 2, '$95.00', 'https://www.skechers.com/skechers-slip-ins-go-walk-7---city-lights/125222_TPMT.html', 11, 'TAUPE / MULTI', 'BLACK / MULTI', None, None, None, 'Style #:125222TPMT'), ('https://www.skechers.com/skechers-slip-ins-go-walk-7---springtime/125219_GRY.html', 'Skechers Slip-ins: GO WALK 7 - Springtime', \"Women's\", 2, '$95.00', 'https://www.skechers.com/skechers-slip-ins-go-walk-7---springtime/125219_GRY.html', 12, 'GRAY', 'BLACK', None, None, None, 'Style #:125219GRY'), ('https://www.skechers.com/go-walk-7---razi/125209_NVLV.html', 'GO WALK 7 - Razi', \"Women's\", 1, '$80.00', 'https://www.skechers.com/go-walk-7---razi/125209_NVLV.html', 13, 'NAVY / LAVENDER', None, None, None, None, 'Style #:125209NVLV'), ('https://www.skechers.com/go-walk-7---bling/125234_GRY.html', 'GO WALK 7 - Bling', \"Women's\", 2, '$90.00', 'https://www.skechers.com/go-walk-7---bling/125234_GRY.html', 12, 'GRAY', 'BLACK / ROSE GOLD', None, None, None, 'Style #:125234GRY')]\n"
     ]
    }
   ],
   "source": [
    "connection = sqlite3.connect('table1.shoes.dp')\n",
    "cursor = connection.cursor()\n",
    "\n",
    "query20 = \"\"\"\n",
    "SELECT\n",
    "    t1.link AS shoe_link,\n",
    "    t1.shoe_name,\n",
    "    t1.category,\n",
    "    t1.number_of_colors,\n",
    "    t1.price,\n",
    "    t2.link AS details_link,\n",
    "    t2.number_of_sizes,\n",
    "    t2.color_1,\n",
    "    t2.color_2,\n",
    "    t2.color_3,\n",
    "    t2.color_4,\n",
    "    t2.color_5,\n",
    "    t2.style_or_product_code\n",
    "FROM\n",
    "    table1 t1\n",
    "JOIN\n",
    "    table2 t2 ON t1.link = t2.link;\n",
    "\"\"\"\n",
    "cursor.execute(query20)\n",
    "\n",
    "result20 = cursor.fetchall()\n",
    "print(result20)\n",
    "\n",
    "cursor.close()\n",
    "connection.close()\n"
   ]
  },
  {
   "cell_type": "markdown",
   "id": "544d6ac8",
   "metadata": {},
   "source": [
    "6 Write a  query that  identifies products with a star rating above the average star rating for their respective size."
   ]
  },
  {
   "cell_type": "code",
   "execution_count": 85,
   "id": "9e63040d",
   "metadata": {},
   "outputs": [
    {
     "name": "stdout",
     "output_type": "stream",
     "text": [
      "[('ADIDAS  X EXTRA BUTTER SAMBA', 'Men', None, 5.0, 5.0, 0.0), ('Stan Smith Shoes', 'Women', None, 5.0, 5.0, 5.0), ('Skechers Slip-ins: Bobs Sport Squad Chaos', \"Women's\", '5.0,6.0,6.5,7.0,7.5,8.0,8.5,9.0,9.5,10.0,11.0', 0.0, 0.0, 4.75)]\n"
     ]
    }
   ],
   "source": [
    "connection = sqlite3.connect('table1.shoes.dp')\n",
    "cursor = connection.cursor()\n",
    "\n",
    "query21 = \"\"\"\n",
    "WITH RankedProducts AS (\n",
    "    SELECT\n",
    "        t1.shoe_name,\n",
    "        t1.category,\n",
    "        t3.size,\n",
    "        t3.comfort,\n",
    "        t3.quantification,\n",
    "        t3.stars,\n",
    "        ROW_NUMBER() OVER (PARTITION BY t1.category ORDER BY t3.comfort DESC) AS ComfortRank\n",
    "    FROM\n",
    "        table1 t1\n",
    "    JOIN\n",
    "        table2 t2 ON t1.link = t2.link\n",
    "    JOIN\n",
    "        table3 t3 ON t1.link = t3.link\n",
    ")\n",
    "SELECT\n",
    "    shoe_name,\n",
    "    category,\n",
    "    size,\n",
    "    comfort,\n",
    "    quantification,\n",
    "    stars\n",
    "FROM\n",
    "    RankedProducts\n",
    "WHERE\n",
    "    ComfortRank = 1;\n",
    "\"\"\"\n",
    "cursor.execute(query21)\n",
    "result21 = cursor.fetchall()\n",
    "\n",
    "print(result21)\n",
    "cursor.close()\n",
    "connection.close()\n"
   ]
  },
  {
   "cell_type": "markdown",
   "id": "66156a73",
   "metadata": {},
   "source": [
    "7  Write  a  query finds products with the highest comfort rating in each category.\n",
    "\n"
   ]
  },
  {
   "cell_type": "code",
   "execution_count": 88,
   "id": "f594ba32",
   "metadata": {},
   "outputs": [
    {
     "name": "stdout",
     "output_type": "stream",
     "text": [
      "[('https://www.nike.com/t/phoenix-waffle-womens-shoes-CDl2fm/FD2196-100', 'Nike Phoenix Waffle', 'Women', '10.5,7.5,12,5.5,6.5,9.5,7,11.5,6,10,5,8.5,9,11,8', 4.5), ('https://www.nike.com/t/dunk-high-womens-shoes-LwCxXJ/DD1869-107', 'Nike Dunk High', 'Women', '10.5,7.5,12,5.5,6.5,9.5,7,11.5,6,10,5,8.5,9,11,8', 4.8), ('https://www.nike.com/t/dunk-low-womens-shoes-4W2Z5P/DD1503-101', 'Nike Dunk Low', 'Women', '10.5,7.5,12,5.5,6.5,9.5,7,11.5,6,10,5,8.5,9,11,8', 4.8), ('https://www.nike.com/t/zegama-womens-trail-running-shoes-FWN4lV/DH0625-005', 'Nike Zegama', 'Women', '10.5,7.5,12,5.5,6.5,9.5,7,11.5,6,10,5,8.5,9,11,8', 4.8), ('https://www.nike.com/t/air-max-270-womens-shoes-Pgb94t/AH6789-703', 'Nike Air Max 270', 'Women', '10.5,7.5,12,5.5,6.5,9.5,7,11.5,6,10,5,8.5,9,11,8', 4.7), ('https://www.nike.com/t/court-legacy-lift-womens-shoes-x0B6BB/DM7590-200', 'Nike Court Legacy Lift', 'Women', '10.5,7.5,12,5.5,6.5,9.5,7,11.5,6,10,5,8.5,9,11,8', 4.6), ('https://www.nike.com/t/v2k-run-womens-shoes-nRRH5X/FD0736-103', 'Nike V2K Run', 'Women', '10.5,7.5,12,5.5,6.5,9.5,7,11.5,6,10,5,8.5,9,11,8', 5.0), ('https://www.nike.com/t/court-vision-low-next-nature-womens-shoes-ZkMMBG/DH3158-102', 'Nike Court Vision Low Next Nature', 'Women', '10.5,7.5,12,5.5,6.5,9.5,7,11.5,6,10,5,8.5,9,11,8', 4.6), ('https://www.nike.com/t/v2k-run-womens-shoes-nRRH5X/FD0736-003', 'Nike V2K Run', 'Women', '10.5,7.5,12,5.5,6.5,9.5,7,11.5,6,10,5,8.5,9,11,8', 5.0), ('https://www.nike.com/t/waffle-debut-vintage-womens-shoes-rfRkv2/DX2931-200', 'Nike Waffle Debut Vintage', 'Women', '10.5,7.5,12,5.5,6.5,9.5,7,11.5,6,10,5,8.5,9,11,8', 4.6), ('https://www.nike.com/t/waffle-debut-womens-shoes-5Rl1KL/DH9523-105', 'Nike Waffle Debut', 'Women', '10.5,7.5,12,5.5,6.5,9.5,7,11.5,6,10,5,8.5,9,11,8', 4.7), ('https://www.nike.com/t/waffle-debut-womens-shoes-5Rl1KL/DH9523-100', 'Nike Waffle Debut', 'Women', '10.5,7.5,12,5.5,6.5,9.5,7,11.5,6,10,5,8.5,9,11,8', 4.7), ('https://www.nike.com/t/waffle-debut-vintage-womens-shoes-rfRkv2/DX2931-400', 'Nike Waffle Debut Vintage', 'Women', '10.5,7.5,12,5.5,6.5,9.5,7,11.5,6,10,5,8.5,9,11,8', 4.6), ('https://www.nike.com/t/vomero-5-womens-shoes-ZnKVhN/FN7196-663', 'Nike Vomero 5', 'Women', '10.5,7.5,12,5.5,6.5,9.5,7,11.5,6,10,5,8.5,9,11,8', 5.0), ('https://www.nike.com/t/gamma-force-womens-shoes-4TR9Xf/DX9176-103', 'Nike Gamma Force', 'Women', '10.5,7.5,12,5.5,6.5,9.5,7,11.5,6,10,5,8.5,9,11,8', 4.5), ('https://www.nike.com/t/pegasus-40-womens-road-running-shoes-wide-L80k6C/FN7991-007', 'Nike Pegasus 40', 'Women', '10.5,7.5,12,5.5,6.5,9.5,7,11.5,6,10,5,8.5,9,11,8', 4.6), ('https://www.nike.com/t/free-metcon-5-womens-workout-shoes-h4Zl5h/DV3950-201', 'Nike Free Metcon 5', 'Women', '10.5,7.5,12,15,5.5,6.5,9.5,7,11.5,6,10,5,8.5,9,11,13,8,14', 4.7), ('https://www.nike.com/t/pegasus-trail-4-womens-trail-running-shoes-CQT261/DJ6159-005', 'Nike Pegasus Trail 4', 'Women', '10.5,7.5,12,5.5,6.5,9.5,7,11.5,6,10,5,8.5,9,11,8', 4.7), ('https://www.nike.com/t/dbreak-premium-womens-shoes-61jl9b/DR5377-001', 'Nike DBreak Premium', 'Women', '10.5,7.5,12,5.5,6.5,9.5,7,11.5,6,10,5,8.5,9,11,8', 5.0), ('https://www.nike.com/t/air-vapormax-plus-womens-shoes-xbt7zf/FQ8895-100', 'Nike Air VaporMax Plus', 'Women', '10.5,7.5,12,5.5,6.5,9.5,7,11.5,6,10,5,8.5,9,11,8', 5.0), ('https://www.nike.com/t/interact-run-womens-road-running-shoes-v5LlQl/FD2292-007', 'Nike Interact Run', 'Women', '10.5,7.5,12,5.5,6.5,9.5,7,11.5,6,10,5,8.5,9,11,8', 4.6), ('https://www.nike.com/t/killshot-2-womens-shoes-ZmzdkQ/FZ5630-101', 'Nike Killshot 2', 'Women', '10.5,5.5,6.5,9.5,11.5,10,5,8.5,13,15.5,7.5,7,6,11,13.5,4,12.5,14.5,3.5,4.5,9,12,8', 5.0), ('https://www.nike.com/t/cortez-womens-shoes-tZtTd5/DN1791-105', 'Nike Cortez', 'Women', '10.5,7.5,12,5.5,6.5,9.5,7,11.5,6,10,5,8.5,9,11,8', 4.5), ('https://www.nike.com/t/vomero-5-womens-shoes-26nkFx/FN7778-600', 'Nike Vomero 5', 'Women', '10.5,7.5,12,5.5,6.5,9.5,7,11.5,6,10,5,8.5,9,11,8', 5.0), ('https://www.nike.com/t/blazer-mid-77-womens-shoes-NPWfjm/CZ1055-100', \"Nike Blazer Mid '77\", 'Women', '10.5,7.5,12,5.5,6.5,9.5,7,11.5,6,10,5,8.5,9,11,8', 4.6), ('https://www.nike.com/t/waffle-one-womens-shoes-qk5cz3/DC2533-103', 'Nike Waffle One', 'Women', '10.5,7.5,12,5.5,6.5,9.5,7,11.5,6,10,5,8.5,9,11,8', 4.6), ('https://us.puma.com/us/en/pd/blktop-rider-lithium-mens-sneakers/393152', \"Blktop Rider Lithium Men's Sneakers\", 'Men', '7,7.5,8,8.5,9,9.5,10,10.5,11,11.5,12,13,14', 5.0), ('https://us.puma.com/us/en/pd/ca-pro-heritage-sneakers/397572', 'CA Pro Heritage Sneakers', 'Men', '4,4.5,5,5.5,6,6.5,7,7.5,8,8.5,9,9.5,10,10.5,11,11.5,12,13,14', 4.5), ('https://us.puma.com/us/en/pd/porsche-legacy-speedfusion-mens-driving-shoes/307778', \"Porsche Legacy SPEEDFUSION Men's Driving Shoes\", 'Men', '7,7.5,8,8.5,9,9.5,10,10.5,11,11.5,12,13', 4.3), ('https://us.puma.com/us/en/pd/voltaic-evo-running-shoe/379601', 'Voltaic Evo Running Shoe', 'Men', '7,7.5,8,8.5,9,9.5,10,10.5,11,11.5,12,13,14', 5.0), ('https://us.puma.com/us/en/pd/ca-pro-classic-sneakers/380190', 'CA Pro Classic Sneakers', 'Men', '7,7.5,8,8.5,9,9.5,10,10.5,11,11.5,12,13,14', 4.1), ('https://us.puma.com/us/en/pd/gv-special%2B-mens-sneakers/366613', \"GV Special+ Men's Sneakers\", 'Men', '7,7.5,8,8.5,9,9.5,10,10.5,11,11.5,12,13,14', 4.1), ('https://us.puma.com/us/en/pd/cali-womens-sneakers/369155', \"Cali Women's Sneakers\", 'Women', '5.5,6,6.5,7,7.5,8,8.5,9,9.5,10,10.5,11', 4.1), ('https://us.puma.com/us/en/pd/suede-classic-xxi-womens-sneakers/381410', \"Suede Classic XXI Women's Sneakers\", 'Women', '5.5,6,6.5,7,7.5,8,8.5,9,9.5,10,10.5,11', 4.2), ('https://us.puma.com/us/en/pd/cali-wedge-womens-sneakers/373438', \"Cali Wedge Women's Sneakers\", 'Women', '5.5,6,6.5,7,7.5,8,8.5,9,9.5,10,10.5,11', 4.7), ('https://us.puma.com/us/en/pd/mercedes-amg-petronas-f1-future-cat-og-mens-shoes/307891', \"Mercedes-AMG PETRONAS F1 Future Cat OG Men's Shoes\", 'Men', '4,4.5,5,5.5,6,6.5,7,7.5,8,8.5,9,9.5,10,10.5,11,11.5,12,13,14', 4.6), ('https://us.puma.com/us/en/pd/fenty-x-puma-avanti-l-mens-sneakers/398352', \"FENTY x PUMA AVANTI L Men's Sneakers\", 'Men', '7,7.5,8,8.5,9,9.5,10,10.5,11,11.5,12,13,14', 5.0), ('https://us.puma.com/us/en/pd/ca-pro-velour-sneakers/397112', 'CA Pro Velour Sneakers', 'Men', '4,4.5,5,5.5,6,6.5,7,7.5,8,8.5,9,9.5,10,10.5,11,11.5,12,13,14', 5.0), ('https://us.puma.com/us/en/pd/rs-xk-sneakers/392787', 'RS-XK Sneakers', 'Men', '4,4.5,5,5.5,6,6.5,7,7.5,8,8.5,9,9.5,10,10.5,11,11.5,12,13,14', 3.7), ('https://us.puma.com/us/en/pd/cali-dream-west-coast-leather-womens-sneakers/392730', \"Cali Dream West Coast Leather Women's Sneakers\", 'Women', '5.5,6,6.5,7,7.5,8,8.5,9,9.5,10,10.5,11', 4.1), ('https://us.puma.com/us/en/pd/rs-x-soft-womens-sneakers/393772', \"RS-X Soft Women's Sneakers\", 'Women', '5.5,6,6.5,7,7.5,8,8.5,9,9.5,10,10.5,11', 4.7), ('https://us.puma.com/us/en/pd/fenty-x-puma-avanti-l-womens-sneakers/399262', \"FENTY x PUMA AVANTI L Women's Sneakers\", 'Women', '5.5,6,6.5,7,7.5,8,8.5,9,9.5,10,10.5,11', 4.6), ('https://us.puma.com/us/en/pd/rs-trck-horizon-mens-sneakers/390717', \"RS-Trck Horizon Men's Sneakers\", 'Men', '4,4.5,5,5.5,6,6.5,7,7.5,8,8.5,9,9.5,10,10.5,11,11.5,12,13,14', 3.4), ('https://us.puma.com/us/en/pd/rs-x-hi-mens-sneakers/392718', \"RS-X Hi Men's Sneakers\", 'Men', '7,7.5,8,8.5,9,9.5,10,10.5,11,11.5,12,13,14', 4.0), ('https://us.puma.com/us/en/pd/fenty-x-puma-creeper-phatty-womens-sneakers/399332', \"FENTY x PUMA Creeper Phatty Women's Sneakers\", 'Women', '5.5,6,6.5,7,7.5,8,8.5,9,9.5,10,10.5,11', 4.5), ('https://us.puma.com/us/en/pd/puma-hoops-x-gremlins-all-pro-nitro%E2%84%A2-mens-basketball-shoes/379303', \"PUMA HOOPS x GREMLINS All Pro NITRO™ Men's Basketball Shoes\", 'Men', '4,4.5,5,5.5,6,6.5,7,7.5,8,8.5,9,9.5,10,10.5,11,11.5,12,13,14,15,16,17,18', 5.0), ('https://us.puma.com/us/en/pd/mayze-classic-womens-sneakers/384209', \"Mayze Classic Women's Sneakers\", 'Women', '5.5,6,6.5,7,7.5,8,8.5,9,9.5,10,10.5,11', 3.9), ('https://us.puma.com/us/en/pd/suede-gum-mens-sneakers/381174', \"Suede Gum Men's Sneakers\", 'Men', '7,7.5,8,8.5,9,9.5,10,10.5,11,11.5,12,13,14', 4.3), ('https://www.skechers.com/skechers-slip-ins-bobs-sport-squad-chaos/117500_ROS.html', 'Skechers Slip-ins: Bobs Sport Squad Chaos', \"Women's\", '5.0,6.0,6.5,7.0,7.5,8.0,8.5,9.0,9.5,10.0,11.0', 4.75), ('https://www.skechers.com/skechers-slip-ins-ultra-flex-3.0---brilliant/149710_PERI.html', 'Skechers Slip-ins: Ultra Flex 3.0 - Brilliant', \"Women's\", '5.0,5.5,6.0,6.5,7.0,7.5,8.0,8.5,9.0,9.5,10.0,11.0', 4.75), ('https://www.skechers.com/skechers-slip-ins-ultra-flex-3.0---smooth-step/149709_MVE.html', 'Skechers Slip-ins: Ultra Flex 3.0 - Smooth Step', \"Women's\", '5.0,5.5,6.0,6.5,7.0,7.5,8.0,8.5,9.0,9.5,10.0,11.0', 4.75), ('https://www.skechers.com/skechers-slip-ins-ultra-flex-3.0---cozy-streak/149708_SLT.html', 'Skechers Slip-ins: Ultra Flex 3.0 - Cozy Streak', \"Women's\", '5.0,5.5,6.0,6.5,7.0,7.5,8.0,8.5,9.0,9.5,10.0,11.0', 4.75), ('https://www.skechers.com/martha-stewart-x-skechers-slip-ins-ultra-flex-3/149808_OLV.html', 'Martha Stewart x Skechers Slip-ins: Ultra Flex 3', \"Women's\", '5.0,5.5,6.0,6.5,7.0,7.5,8.0,8.5,9.0,9.5,10.0,11.0', 4.0), ('https://www.skechers.com/skechers-slip-ins-go-walk-flex---grand-entry/124836_OFWT.html', 'Skechers Slip-ins: GO WALK Flex - Grand Entry', \"Women's\", '5.0,5.5,6.0,6.5,7.0,7.5,8.0,8.5,9.0,9.5,10.0,11.0,12.0', 5.0)]\n"
     ]
    }
   ],
   "source": [
    "connection = sqlite3.connect('table1.shoes.dp')\n",
    "cursor = connection.cursor()\n",
    "\n",
    "query22 = \"\"\"\n",
    "SELECT\n",
    "    t1.link,\n",
    "    t1.shoe_name,\n",
    "    t1.category,\n",
    "    t3.size,\n",
    "    t3.stars\n",
    "FROM\n",
    "    table1 t1\n",
    "JOIN\n",
    "    table3 t3 ON t1.link = t3.link\n",
    "WHERE\n",
    "    t3.stars > (\n",
    "        SELECT\n",
    "            AVG(stars)\n",
    "        FROM\n",
    "            table3\n",
    "        WHERE\n",
    "            size = t3.size\n",
    "    );\n",
    "\"\"\"\n",
    "cursor.execute(query22)\n",
    "\n",
    "result22 = cursor.fetchall()\n",
    "print(result22)\n",
    "\n",
    "cursor.close()"
   ]
  },
  {
   "cell_type": "code",
   "execution_count": null,
   "id": "bd5effbd",
   "metadata": {},
   "outputs": [],
   "source": []
  }
 ],
 "metadata": {
  "kernelspec": {
   "display_name": "Python 3 (ipykernel)",
   "language": "python",
   "name": "python3"
  },
  "language_info": {
   "codemirror_mode": {
    "name": "ipython",
    "version": 3
   },
   "file_extension": ".py",
   "mimetype": "text/x-python",
   "name": "python",
   "nbconvert_exporter": "python",
   "pygments_lexer": "ipython3",
   "version": "3.9.13"
  }
 },
 "nbformat": 4,
 "nbformat_minor": 5
}
